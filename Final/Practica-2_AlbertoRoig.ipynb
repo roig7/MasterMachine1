{
 "cells": [
  {
   "attachments": {},
   "cell_type": "markdown",
   "metadata": {},
   "source": [
    "# Práctica 2 - Alberto Roig"
   ]
  },
  {
   "cell_type": "code",
   "execution_count": 1235,
   "metadata": {},
   "outputs": [],
   "source": [
    "import pandas as pd\n",
    "from sklearn import preprocessing\n",
    "import matplotlib.pyplot as plt\n",
    "from sklearn.metrics import roc_curve, auc\n",
    "from sklearn.neighbors import KNeighborsClassifier\n",
    "from sklearn.metrics import roc_auc_score\n",
    "import scikitplot as skplt\n",
    "import matplotlib.pyplot as plt\n",
    "from sklearn import metrics\n",
    "import numpy as np"
   ]
  },
  {
   "attachments": {},
   "cell_type": "markdown",
   "metadata": {},
   "source": [
    "### Carga de los datos"
   ]
  },
  {
   "cell_type": "code",
   "execution_count": 1236,
   "metadata": {},
   "outputs": [
    {
     "data": {
      "text/html": [
       "<div>\n",
       "<style scoped>\n",
       "    .dataframe tbody tr th:only-of-type {\n",
       "        vertical-align: middle;\n",
       "    }\n",
       "\n",
       "    .dataframe tbody tr th {\n",
       "        vertical-align: top;\n",
       "    }\n",
       "\n",
       "    .dataframe thead th {\n",
       "        text-align: right;\n",
       "    }\n",
       "</style>\n",
       "<table border=\"1\" class=\"dataframe\">\n",
       "  <thead>\n",
       "    <tr style=\"text-align: right;\">\n",
       "      <th></th>\n",
       "      <th>edad</th>\n",
       "      <th>empleo</th>\n",
       "      <th>estado</th>\n",
       "      <th>educacion</th>\n",
       "      <th>impago</th>\n",
       "      <th>hipoteca</th>\n",
       "      <th>prestamo</th>\n",
       "      <th>tipo_contacto</th>\n",
       "      <th>mes</th>\n",
       "      <th>dia_semana</th>\n",
       "      <th>contactos_actual</th>\n",
       "      <th>contactos_anterior</th>\n",
       "      <th>resultado_anterior</th>\n",
       "      <th>tasa_var_empleo_3m</th>\n",
       "      <th>euribor_3m</th>\n",
       "      <th>ipc_1m</th>\n",
       "      <th>target</th>\n",
       "    </tr>\n",
       "  </thead>\n",
       "  <tbody>\n",
       "    <tr>\n",
       "      <th>0</th>\n",
       "      <td>26</td>\n",
       "      <td>management</td>\n",
       "      <td>single</td>\n",
       "      <td>university.degree</td>\n",
       "      <td>no</td>\n",
       "      <td>no</td>\n",
       "      <td>no</td>\n",
       "      <td>telephone</td>\n",
       "      <td>jun</td>\n",
       "      <td>mon</td>\n",
       "      <td>3</td>\n",
       "      <td>0</td>\n",
       "      <td>nonexistent</td>\n",
       "      <td>1.4</td>\n",
       "      <td>4.865</td>\n",
       "      <td>94.465</td>\n",
       "      <td>no</td>\n",
       "    </tr>\n",
       "    <tr>\n",
       "      <th>1</th>\n",
       "      <td>42</td>\n",
       "      <td>technician</td>\n",
       "      <td>married</td>\n",
       "      <td>professional.course</td>\n",
       "      <td>unknown</td>\n",
       "      <td>no</td>\n",
       "      <td>no</td>\n",
       "      <td>telephone</td>\n",
       "      <td>jun</td>\n",
       "      <td>mon</td>\n",
       "      <td>9</td>\n",
       "      <td>0</td>\n",
       "      <td>nonexistent</td>\n",
       "      <td>1.4</td>\n",
       "      <td>4.865</td>\n",
       "      <td>94.465</td>\n",
       "      <td>no</td>\n",
       "    </tr>\n",
       "    <tr>\n",
       "      <th>2</th>\n",
       "      <td>30</td>\n",
       "      <td>admin.</td>\n",
       "      <td>married</td>\n",
       "      <td>university.degree</td>\n",
       "      <td>no</td>\n",
       "      <td>no</td>\n",
       "      <td>no</td>\n",
       "      <td>telephone</td>\n",
       "      <td>jun</td>\n",
       "      <td>mon</td>\n",
       "      <td>2</td>\n",
       "      <td>0</td>\n",
       "      <td>nonexistent</td>\n",
       "      <td>1.4</td>\n",
       "      <td>4.865</td>\n",
       "      <td>94.465</td>\n",
       "      <td>no</td>\n",
       "    </tr>\n",
       "    <tr>\n",
       "      <th>3</th>\n",
       "      <td>55</td>\n",
       "      <td>technician</td>\n",
       "      <td>married</td>\n",
       "      <td>basic.9y</td>\n",
       "      <td>no</td>\n",
       "      <td>no</td>\n",
       "      <td>no</td>\n",
       "      <td>telephone</td>\n",
       "      <td>jun</td>\n",
       "      <td>mon</td>\n",
       "      <td>3</td>\n",
       "      <td>0</td>\n",
       "      <td>nonexistent</td>\n",
       "      <td>1.4</td>\n",
       "      <td>4.865</td>\n",
       "      <td>94.465</td>\n",
       "      <td>no</td>\n",
       "    </tr>\n",
       "    <tr>\n",
       "      <th>4</th>\n",
       "      <td>41</td>\n",
       "      <td>blue-collar</td>\n",
       "      <td>married</td>\n",
       "      <td>basic.4y</td>\n",
       "      <td>no</td>\n",
       "      <td>yes</td>\n",
       "      <td>no</td>\n",
       "      <td>telephone</td>\n",
       "      <td>jun</td>\n",
       "      <td>mon</td>\n",
       "      <td>2</td>\n",
       "      <td>0</td>\n",
       "      <td>nonexistent</td>\n",
       "      <td>1.4</td>\n",
       "      <td>4.865</td>\n",
       "      <td>94.465</td>\n",
       "      <td>no</td>\n",
       "    </tr>\n",
       "    <tr>\n",
       "      <th>...</th>\n",
       "      <td>...</td>\n",
       "      <td>...</td>\n",
       "      <td>...</td>\n",
       "      <td>...</td>\n",
       "      <td>...</td>\n",
       "      <td>...</td>\n",
       "      <td>...</td>\n",
       "      <td>...</td>\n",
       "      <td>...</td>\n",
       "      <td>...</td>\n",
       "      <td>...</td>\n",
       "      <td>...</td>\n",
       "      <td>...</td>\n",
       "      <td>...</td>\n",
       "      <td>...</td>\n",
       "      <td>...</td>\n",
       "      <td>...</td>\n",
       "    </tr>\n",
       "    <tr>\n",
       "      <th>32647</th>\n",
       "      <td>73</td>\n",
       "      <td>retired</td>\n",
       "      <td>married</td>\n",
       "      <td>professional.course</td>\n",
       "      <td>no</td>\n",
       "      <td>yes</td>\n",
       "      <td>no</td>\n",
       "      <td>cellular</td>\n",
       "      <td>nov</td>\n",
       "      <td>fri</td>\n",
       "      <td>1</td>\n",
       "      <td>0</td>\n",
       "      <td>nonexistent</td>\n",
       "      <td>-1.1</td>\n",
       "      <td>1.028</td>\n",
       "      <td>94.767</td>\n",
       "      <td>yes</td>\n",
       "    </tr>\n",
       "    <tr>\n",
       "      <th>32648</th>\n",
       "      <td>46</td>\n",
       "      <td>blue-collar</td>\n",
       "      <td>married</td>\n",
       "      <td>professional.course</td>\n",
       "      <td>no</td>\n",
       "      <td>no</td>\n",
       "      <td>no</td>\n",
       "      <td>cellular</td>\n",
       "      <td>nov</td>\n",
       "      <td>fri</td>\n",
       "      <td>1</td>\n",
       "      <td>0</td>\n",
       "      <td>nonexistent</td>\n",
       "      <td>-1.1</td>\n",
       "      <td>1.028</td>\n",
       "      <td>94.767</td>\n",
       "      <td>no</td>\n",
       "    </tr>\n",
       "    <tr>\n",
       "      <th>32649</th>\n",
       "      <td>56</td>\n",
       "      <td>retired</td>\n",
       "      <td>married</td>\n",
       "      <td>university.degree</td>\n",
       "      <td>no</td>\n",
       "      <td>yes</td>\n",
       "      <td>no</td>\n",
       "      <td>cellular</td>\n",
       "      <td>nov</td>\n",
       "      <td>fri</td>\n",
       "      <td>2</td>\n",
       "      <td>0</td>\n",
       "      <td>nonexistent</td>\n",
       "      <td>-1.1</td>\n",
       "      <td>1.028</td>\n",
       "      <td>94.767</td>\n",
       "      <td>no</td>\n",
       "    </tr>\n",
       "    <tr>\n",
       "      <th>32650</th>\n",
       "      <td>44</td>\n",
       "      <td>technician</td>\n",
       "      <td>married</td>\n",
       "      <td>professional.course</td>\n",
       "      <td>no</td>\n",
       "      <td>no</td>\n",
       "      <td>no</td>\n",
       "      <td>cellular</td>\n",
       "      <td>nov</td>\n",
       "      <td>fri</td>\n",
       "      <td>1</td>\n",
       "      <td>0</td>\n",
       "      <td>nonexistent</td>\n",
       "      <td>-1.1</td>\n",
       "      <td>1.028</td>\n",
       "      <td>94.767</td>\n",
       "      <td>yes</td>\n",
       "    </tr>\n",
       "    <tr>\n",
       "      <th>32651</th>\n",
       "      <td>74</td>\n",
       "      <td>retired</td>\n",
       "      <td>married</td>\n",
       "      <td>professional.course</td>\n",
       "      <td>no</td>\n",
       "      <td>yes</td>\n",
       "      <td>no</td>\n",
       "      <td>cellular</td>\n",
       "      <td>nov</td>\n",
       "      <td>fri</td>\n",
       "      <td>3</td>\n",
       "      <td>1</td>\n",
       "      <td>failure</td>\n",
       "      <td>-1.1</td>\n",
       "      <td>1.028</td>\n",
       "      <td>94.767</td>\n",
       "      <td>no</td>\n",
       "    </tr>\n",
       "  </tbody>\n",
       "</table>\n",
       "<p>32652 rows × 17 columns</p>\n",
       "</div>"
      ],
      "text/plain": [
       "       edad       empleo   estado            educacion   impago hipoteca  \\\n",
       "0        26   management   single    university.degree       no       no   \n",
       "1        42   technician  married  professional.course  unknown       no   \n",
       "2        30       admin.  married    university.degree       no       no   \n",
       "3        55   technician  married             basic.9y       no       no   \n",
       "4        41  blue-collar  married             basic.4y       no      yes   \n",
       "...     ...          ...      ...                  ...      ...      ...   \n",
       "32647    73      retired  married  professional.course       no      yes   \n",
       "32648    46  blue-collar  married  professional.course       no       no   \n",
       "32649    56      retired  married    university.degree       no      yes   \n",
       "32650    44   technician  married  professional.course       no       no   \n",
       "32651    74      retired  married  professional.course       no      yes   \n",
       "\n",
       "      prestamo tipo_contacto  mes dia_semana  contactos_actual  \\\n",
       "0           no     telephone  jun        mon                 3   \n",
       "1           no     telephone  jun        mon                 9   \n",
       "2           no     telephone  jun        mon                 2   \n",
       "3           no     telephone  jun        mon                 3   \n",
       "4           no     telephone  jun        mon                 2   \n",
       "...        ...           ...  ...        ...               ...   \n",
       "32647       no      cellular  nov        fri                 1   \n",
       "32648       no      cellular  nov        fri                 1   \n",
       "32649       no      cellular  nov        fri                 2   \n",
       "32650       no      cellular  nov        fri                 1   \n",
       "32651       no      cellular  nov        fri                 3   \n",
       "\n",
       "       contactos_anterior resultado_anterior  tasa_var_empleo_3m  euribor_3m  \\\n",
       "0                       0        nonexistent                 1.4       4.865   \n",
       "1                       0        nonexistent                 1.4       4.865   \n",
       "2                       0        nonexistent                 1.4       4.865   \n",
       "3                       0        nonexistent                 1.4       4.865   \n",
       "4                       0        nonexistent                 1.4       4.865   \n",
       "...                   ...                ...                 ...         ...   \n",
       "32647                   0        nonexistent                -1.1       1.028   \n",
       "32648                   0        nonexistent                -1.1       1.028   \n",
       "32649                   0        nonexistent                -1.1       1.028   \n",
       "32650                   0        nonexistent                -1.1       1.028   \n",
       "32651                   1            failure                -1.1       1.028   \n",
       "\n",
       "       ipc_1m target  \n",
       "0      94.465     no  \n",
       "1      94.465     no  \n",
       "2      94.465     no  \n",
       "3      94.465     no  \n",
       "4      94.465     no  \n",
       "...       ...    ...  \n",
       "32647  94.767    yes  \n",
       "32648  94.767     no  \n",
       "32649  94.767     no  \n",
       "32650  94.767    yes  \n",
       "32651  94.767     no  \n",
       "\n",
       "[32652 rows x 17 columns]"
      ]
     },
     "metadata": {},
     "output_type": "display_data"
    },
    {
     "data": {
      "text/html": [
       "<div>\n",
       "<style scoped>\n",
       "    .dataframe tbody tr th:only-of-type {\n",
       "        vertical-align: middle;\n",
       "    }\n",
       "\n",
       "    .dataframe tbody tr th {\n",
       "        vertical-align: top;\n",
       "    }\n",
       "\n",
       "    .dataframe thead th {\n",
       "        text-align: right;\n",
       "    }\n",
       "</style>\n",
       "<table border=\"1\" class=\"dataframe\">\n",
       "  <thead>\n",
       "    <tr style=\"text-align: right;\">\n",
       "      <th></th>\n",
       "      <th>edad</th>\n",
       "      <th>empleo</th>\n",
       "      <th>estado</th>\n",
       "      <th>educacion</th>\n",
       "      <th>impago</th>\n",
       "      <th>hipoteca</th>\n",
       "      <th>prestamo</th>\n",
       "      <th>tipo_contacto</th>\n",
       "      <th>mes</th>\n",
       "      <th>dia_semana</th>\n",
       "      <th>contactos_actual</th>\n",
       "      <th>contactos_anterior</th>\n",
       "      <th>resultado_anterior</th>\n",
       "      <th>tasa_var_empleo_3m</th>\n",
       "      <th>euribor_3m</th>\n",
       "      <th>ipc_1m</th>\n",
       "      <th>target</th>\n",
       "    </tr>\n",
       "  </thead>\n",
       "  <tbody>\n",
       "    <tr>\n",
       "      <th>0</th>\n",
       "      <td>56</td>\n",
       "      <td>housemaid</td>\n",
       "      <td>married</td>\n",
       "      <td>basic.4y</td>\n",
       "      <td>no</td>\n",
       "      <td>no</td>\n",
       "      <td>no</td>\n",
       "      <td>telephone</td>\n",
       "      <td>may</td>\n",
       "      <td>mon</td>\n",
       "      <td>1</td>\n",
       "      <td>0</td>\n",
       "      <td>nonexistent</td>\n",
       "      <td>1.1</td>\n",
       "      <td>4.857</td>\n",
       "      <td>93.994</td>\n",
       "      <td>no</td>\n",
       "    </tr>\n",
       "    <tr>\n",
       "      <th>1</th>\n",
       "      <td>57</td>\n",
       "      <td>services</td>\n",
       "      <td>married</td>\n",
       "      <td>high.school</td>\n",
       "      <td>unknown</td>\n",
       "      <td>no</td>\n",
       "      <td>no</td>\n",
       "      <td>telephone</td>\n",
       "      <td>may</td>\n",
       "      <td>mon</td>\n",
       "      <td>1</td>\n",
       "      <td>0</td>\n",
       "      <td>nonexistent</td>\n",
       "      <td>1.1</td>\n",
       "      <td>4.857</td>\n",
       "      <td>93.994</td>\n",
       "      <td>no</td>\n",
       "    </tr>\n",
       "    <tr>\n",
       "      <th>2</th>\n",
       "      <td>37</td>\n",
       "      <td>services</td>\n",
       "      <td>married</td>\n",
       "      <td>high.school</td>\n",
       "      <td>no</td>\n",
       "      <td>yes</td>\n",
       "      <td>no</td>\n",
       "      <td>telephone</td>\n",
       "      <td>may</td>\n",
       "      <td>mon</td>\n",
       "      <td>1</td>\n",
       "      <td>0</td>\n",
       "      <td>nonexistent</td>\n",
       "      <td>1.1</td>\n",
       "      <td>4.857</td>\n",
       "      <td>93.994</td>\n",
       "      <td>no</td>\n",
       "    </tr>\n",
       "    <tr>\n",
       "      <th>3</th>\n",
       "      <td>40</td>\n",
       "      <td>admin.</td>\n",
       "      <td>married</td>\n",
       "      <td>basic.6y</td>\n",
       "      <td>no</td>\n",
       "      <td>no</td>\n",
       "      <td>no</td>\n",
       "      <td>telephone</td>\n",
       "      <td>may</td>\n",
       "      <td>mon</td>\n",
       "      <td>1</td>\n",
       "      <td>0</td>\n",
       "      <td>nonexistent</td>\n",
       "      <td>1.1</td>\n",
       "      <td>4.857</td>\n",
       "      <td>93.994</td>\n",
       "      <td>no</td>\n",
       "    </tr>\n",
       "    <tr>\n",
       "      <th>4</th>\n",
       "      <td>56</td>\n",
       "      <td>services</td>\n",
       "      <td>married</td>\n",
       "      <td>high.school</td>\n",
       "      <td>no</td>\n",
       "      <td>no</td>\n",
       "      <td>yes</td>\n",
       "      <td>telephone</td>\n",
       "      <td>may</td>\n",
       "      <td>mon</td>\n",
       "      <td>1</td>\n",
       "      <td>0</td>\n",
       "      <td>nonexistent</td>\n",
       "      <td>1.1</td>\n",
       "      <td>4.857</td>\n",
       "      <td>93.994</td>\n",
       "      <td>no</td>\n",
       "    </tr>\n",
       "    <tr>\n",
       "      <th>...</th>\n",
       "      <td>...</td>\n",
       "      <td>...</td>\n",
       "      <td>...</td>\n",
       "      <td>...</td>\n",
       "      <td>...</td>\n",
       "      <td>...</td>\n",
       "      <td>...</td>\n",
       "      <td>...</td>\n",
       "      <td>...</td>\n",
       "      <td>...</td>\n",
       "      <td>...</td>\n",
       "      <td>...</td>\n",
       "      <td>...</td>\n",
       "      <td>...</td>\n",
       "      <td>...</td>\n",
       "      <td>...</td>\n",
       "      <td>...</td>\n",
       "    </tr>\n",
       "    <tr>\n",
       "      <th>8531</th>\n",
       "      <td>56</td>\n",
       "      <td>retired</td>\n",
       "      <td>married</td>\n",
       "      <td>university.degree</td>\n",
       "      <td>no</td>\n",
       "      <td>no</td>\n",
       "      <td>no</td>\n",
       "      <td>cellular</td>\n",
       "      <td>aug</td>\n",
       "      <td>tue</td>\n",
       "      <td>3</td>\n",
       "      <td>1</td>\n",
       "      <td>failure</td>\n",
       "      <td>-1.7</td>\n",
       "      <td>0.886</td>\n",
       "      <td>94.027</td>\n",
       "      <td>yes</td>\n",
       "    </tr>\n",
       "    <tr>\n",
       "      <th>8532</th>\n",
       "      <td>58</td>\n",
       "      <td>retired</td>\n",
       "      <td>divorced</td>\n",
       "      <td>basic.4y</td>\n",
       "      <td>no</td>\n",
       "      <td>no</td>\n",
       "      <td>no</td>\n",
       "      <td>telephone</td>\n",
       "      <td>aug</td>\n",
       "      <td>tue</td>\n",
       "      <td>1</td>\n",
       "      <td>0</td>\n",
       "      <td>nonexistent</td>\n",
       "      <td>-1.7</td>\n",
       "      <td>0.886</td>\n",
       "      <td>94.027</td>\n",
       "      <td>no</td>\n",
       "    </tr>\n",
       "    <tr>\n",
       "      <th>8533</th>\n",
       "      <td>34</td>\n",
       "      <td>blue-collar</td>\n",
       "      <td>married</td>\n",
       "      <td>basic.9y</td>\n",
       "      <td>no</td>\n",
       "      <td>yes</td>\n",
       "      <td>no</td>\n",
       "      <td>cellular</td>\n",
       "      <td>aug</td>\n",
       "      <td>tue</td>\n",
       "      <td>2</td>\n",
       "      <td>0</td>\n",
       "      <td>nonexistent</td>\n",
       "      <td>-1.7</td>\n",
       "      <td>0.886</td>\n",
       "      <td>94.027</td>\n",
       "      <td>no</td>\n",
       "    </tr>\n",
       "    <tr>\n",
       "      <th>8534</th>\n",
       "      <td>44</td>\n",
       "      <td>admin.</td>\n",
       "      <td>single</td>\n",
       "      <td>high.school</td>\n",
       "      <td>no</td>\n",
       "      <td>yes</td>\n",
       "      <td>no</td>\n",
       "      <td>telephone</td>\n",
       "      <td>aug</td>\n",
       "      <td>tue</td>\n",
       "      <td>1</td>\n",
       "      <td>0</td>\n",
       "      <td>nonexistent</td>\n",
       "      <td>-1.7</td>\n",
       "      <td>0.886</td>\n",
       "      <td>94.027</td>\n",
       "      <td>no</td>\n",
       "    </tr>\n",
       "    <tr>\n",
       "      <th>8535</th>\n",
       "      <td>27</td>\n",
       "      <td>admin.</td>\n",
       "      <td>married</td>\n",
       "      <td>university.degree</td>\n",
       "      <td>no</td>\n",
       "      <td>yes</td>\n",
       "      <td>no</td>\n",
       "      <td>cellular</td>\n",
       "      <td>aug</td>\n",
       "      <td>tue</td>\n",
       "      <td>5</td>\n",
       "      <td>1</td>\n",
       "      <td>success</td>\n",
       "      <td>-1.7</td>\n",
       "      <td>0.886</td>\n",
       "      <td>94.027</td>\n",
       "      <td>yes</td>\n",
       "    </tr>\n",
       "  </tbody>\n",
       "</table>\n",
       "<p>8536 rows × 17 columns</p>\n",
       "</div>"
      ],
      "text/plain": [
       "      edad       empleo    estado          educacion   impago hipoteca  \\\n",
       "0       56    housemaid   married           basic.4y       no       no   \n",
       "1       57     services   married        high.school  unknown       no   \n",
       "2       37     services   married        high.school       no      yes   \n",
       "3       40       admin.   married           basic.6y       no       no   \n",
       "4       56     services   married        high.school       no       no   \n",
       "...    ...          ...       ...                ...      ...      ...   \n",
       "8531    56      retired   married  university.degree       no       no   \n",
       "8532    58      retired  divorced           basic.4y       no       no   \n",
       "8533    34  blue-collar   married           basic.9y       no      yes   \n",
       "8534    44       admin.    single        high.school       no      yes   \n",
       "8535    27       admin.   married  university.degree       no      yes   \n",
       "\n",
       "     prestamo tipo_contacto  mes dia_semana  contactos_actual  \\\n",
       "0          no     telephone  may        mon                 1   \n",
       "1          no     telephone  may        mon                 1   \n",
       "2          no     telephone  may        mon                 1   \n",
       "3          no     telephone  may        mon                 1   \n",
       "4         yes     telephone  may        mon                 1   \n",
       "...       ...           ...  ...        ...               ...   \n",
       "8531       no      cellular  aug        tue                 3   \n",
       "8532       no     telephone  aug        tue                 1   \n",
       "8533       no      cellular  aug        tue                 2   \n",
       "8534       no     telephone  aug        tue                 1   \n",
       "8535       no      cellular  aug        tue                 5   \n",
       "\n",
       "      contactos_anterior resultado_anterior  tasa_var_empleo_3m  euribor_3m  \\\n",
       "0                      0        nonexistent                 1.1       4.857   \n",
       "1                      0        nonexistent                 1.1       4.857   \n",
       "2                      0        nonexistent                 1.1       4.857   \n",
       "3                      0        nonexistent                 1.1       4.857   \n",
       "4                      0        nonexistent                 1.1       4.857   \n",
       "...                  ...                ...                 ...         ...   \n",
       "8531                   1            failure                -1.7       0.886   \n",
       "8532                   0        nonexistent                -1.7       0.886   \n",
       "8533                   0        nonexistent                -1.7       0.886   \n",
       "8534                   0        nonexistent                -1.7       0.886   \n",
       "8535                   1            success                -1.7       0.886   \n",
       "\n",
       "      ipc_1m target  \n",
       "0     93.994     no  \n",
       "1     93.994     no  \n",
       "2     93.994     no  \n",
       "3     93.994     no  \n",
       "4     93.994     no  \n",
       "...      ...    ...  \n",
       "8531  94.027    yes  \n",
       "8532  94.027     no  \n",
       "8533  94.027     no  \n",
       "8534  94.027     no  \n",
       "8535  94.027    yes  \n",
       "\n",
       "[8536 rows x 17 columns]"
      ]
     },
     "metadata": {},
     "output_type": "display_data"
    }
   ],
   "source": [
    "dataTr = pd.read_csv(\"dataset_marketing_train.csv\")\n",
    "dataTe = pd.read_csv(\"dataset_marketing_test.csv\")\n",
    "display(dataTr)\n",
    "display(dataTe)"
   ]
  },
  {
   "attachments": {},
   "cell_type": "markdown",
   "metadata": {},
   "source": [
    "### Análisis de los datos"
   ]
  },
  {
   "cell_type": "code",
   "execution_count": 1237,
   "metadata": {},
   "outputs": [
    {
     "name": "stdout",
     "output_type": "stream",
     "text": [
      "<class 'pandas.core.frame.DataFrame'>\n",
      "RangeIndex: 32652 entries, 0 to 32651\n",
      "Data columns (total 17 columns):\n",
      " #   Column              Non-Null Count  Dtype  \n",
      "---  ------              --------------  -----  \n",
      " 0   edad                32652 non-null  int64  \n",
      " 1   empleo              32652 non-null  object \n",
      " 2   estado              32652 non-null  object \n",
      " 3   educacion           32652 non-null  object \n",
      " 4   impago              32652 non-null  object \n",
      " 5   hipoteca            32652 non-null  object \n",
      " 6   prestamo            32652 non-null  object \n",
      " 7   tipo_contacto       32652 non-null  object \n",
      " 8   mes                 32652 non-null  object \n",
      " 9   dia_semana          32652 non-null  object \n",
      " 10  contactos_actual    32652 non-null  int64  \n",
      " 11  contactos_anterior  32652 non-null  int64  \n",
      " 12  resultado_anterior  32652 non-null  object \n",
      " 13  tasa_var_empleo_3m  32652 non-null  float64\n",
      " 14  euribor_3m          32652 non-null  float64\n",
      " 15  ipc_1m              32652 non-null  float64\n",
      " 16  target              32652 non-null  object \n",
      "dtypes: float64(3), int64(3), object(11)\n",
      "memory usage: 4.2+ MB\n"
     ]
    },
    {
     "data": {
      "text/plain": [
       "None"
      ]
     },
     "metadata": {},
     "output_type": "display_data"
    },
    {
     "name": "stdout",
     "output_type": "stream",
     "text": [
      "<class 'pandas.core.frame.DataFrame'>\n",
      "RangeIndex: 8536 entries, 0 to 8535\n",
      "Data columns (total 17 columns):\n",
      " #   Column              Non-Null Count  Dtype  \n",
      "---  ------              --------------  -----  \n",
      " 0   edad                8536 non-null   int64  \n",
      " 1   empleo              8536 non-null   object \n",
      " 2   estado              8536 non-null   object \n",
      " 3   educacion           8536 non-null   object \n",
      " 4   impago              8536 non-null   object \n",
      " 5   hipoteca            8536 non-null   object \n",
      " 6   prestamo            8536 non-null   object \n",
      " 7   tipo_contacto       8536 non-null   object \n",
      " 8   mes                 8536 non-null   object \n",
      " 9   dia_semana          8536 non-null   object \n",
      " 10  contactos_actual    8536 non-null   int64  \n",
      " 11  contactos_anterior  8536 non-null   int64  \n",
      " 12  resultado_anterior  8536 non-null   object \n",
      " 13  tasa_var_empleo_3m  8536 non-null   float64\n",
      " 14  euribor_3m          8536 non-null   float64\n",
      " 15  ipc_1m              8536 non-null   float64\n",
      " 16  target              8536 non-null   object \n",
      "dtypes: float64(3), int64(3), object(11)\n",
      "memory usage: 1.1+ MB\n"
     ]
    },
    {
     "data": {
      "text/plain": [
       "None"
      ]
     },
     "metadata": {},
     "output_type": "display_data"
    }
   ],
   "source": [
    "#Información general de los datos\n",
    "display(dataTr.info())\n",
    "display(dataTe.info())"
   ]
  },
  {
   "cell_type": "code",
   "execution_count": 1238,
   "metadata": {},
   "outputs": [
    {
     "data": {
      "text/plain": [
       "edad                  0\n",
       "empleo                0\n",
       "estado                0\n",
       "educacion             0\n",
       "impago                0\n",
       "hipoteca              0\n",
       "prestamo              0\n",
       "tipo_contacto         0\n",
       "mes                   0\n",
       "dia_semana            0\n",
       "contactos_actual      0\n",
       "contactos_anterior    0\n",
       "resultado_anterior    0\n",
       "tasa_var_empleo_3m    0\n",
       "euribor_3m            0\n",
       "ipc_1m                0\n",
       "target                0\n",
       "dtype: int64"
      ]
     },
     "execution_count": 1238,
     "metadata": {},
     "output_type": "execute_result"
    }
   ],
   "source": [
    "#Mirar números nulos\n",
    "dataTr.isnull().sum()\n",
    "dataTe.isnull().sum()"
   ]
  },
  {
   "cell_type": "code",
   "execution_count": 1239,
   "metadata": {},
   "outputs": [],
   "source": [
    "#Obtenemos las columnas con variables categoricas\n",
    "categorical_columns_train=dataTr.select_dtypes(exclude=[\"int64\",\"float64\"]).columns\n",
    "categorical_columns_test=dataTe.select_dtypes(exclude=[\"int64\",\"float64\"]).columns"
   ]
  },
  {
   "cell_type": "code",
   "execution_count": 1240,
   "metadata": {},
   "outputs": [
    {
     "name": "stdout",
     "output_type": "stream",
     "text": [
      "DATA_TEST\n",
      "----------------\n"
     ]
    },
    {
     "data": {
      "text/plain": [
       "'EMPLEO'"
      ]
     },
     "metadata": {},
     "output_type": "display_data"
    },
    {
     "data": {
      "text/plain": [
       "array(['management', 'technician', 'admin.', 'blue-collar', 'housemaid',\n",
       "       'services', 'unemployed', 'retired', 'self-employed', 'unknown',\n",
       "       'entrepreneur', 'student'], dtype=object)"
      ]
     },
     "metadata": {},
     "output_type": "display_data"
    },
    {
     "data": {
      "text/plain": [
       "'ESTADO'"
      ]
     },
     "metadata": {},
     "output_type": "display_data"
    },
    {
     "data": {
      "text/plain": [
       "array(['single', 'married', 'divorced', 'unknown'], dtype=object)"
      ]
     },
     "metadata": {},
     "output_type": "display_data"
    },
    {
     "data": {
      "text/plain": [
       "'EDUCACION'"
      ]
     },
     "metadata": {},
     "output_type": "display_data"
    },
    {
     "data": {
      "text/plain": [
       "array(['university.degree', 'professional.course', 'basic.9y', 'basic.4y',\n",
       "       'high.school', 'unknown', 'basic.6y', 'illiterate'], dtype=object)"
      ]
     },
     "metadata": {},
     "output_type": "display_data"
    },
    {
     "data": {
      "text/plain": [
       "'IMPAGO'"
      ]
     },
     "metadata": {},
     "output_type": "display_data"
    },
    {
     "data": {
      "text/plain": [
       "array(['no', 'unknown', 'yes'], dtype=object)"
      ]
     },
     "metadata": {},
     "output_type": "display_data"
    },
    {
     "data": {
      "text/plain": [
       "'HIPOTECA'"
      ]
     },
     "metadata": {},
     "output_type": "display_data"
    },
    {
     "data": {
      "text/plain": [
       "array(['no', 'yes', 'unknown'], dtype=object)"
      ]
     },
     "metadata": {},
     "output_type": "display_data"
    },
    {
     "data": {
      "text/plain": [
       "'PRESTAMO'"
      ]
     },
     "metadata": {},
     "output_type": "display_data"
    },
    {
     "data": {
      "text/plain": [
       "array(['no', 'unknown', 'yes'], dtype=object)"
      ]
     },
     "metadata": {},
     "output_type": "display_data"
    },
    {
     "data": {
      "text/plain": [
       "'TIPO_CONTACTO'"
      ]
     },
     "metadata": {},
     "output_type": "display_data"
    },
    {
     "data": {
      "text/plain": [
       "array(['telephone', 'cellular'], dtype=object)"
      ]
     },
     "metadata": {},
     "output_type": "display_data"
    },
    {
     "data": {
      "text/plain": [
       "'MES'"
      ]
     },
     "metadata": {},
     "output_type": "display_data"
    },
    {
     "data": {
      "text/plain": [
       "array(['jun', 'jul', 'aug', 'oct', 'nov', 'dec', 'mar', 'apr', 'may',\n",
       "       'sep'], dtype=object)"
      ]
     },
     "metadata": {},
     "output_type": "display_data"
    },
    {
     "data": {
      "text/plain": [
       "'DIA_SEMANA'"
      ]
     },
     "metadata": {},
     "output_type": "display_data"
    },
    {
     "data": {
      "text/plain": [
       "array(['mon', 'tue', 'wed', 'thu', 'fri'], dtype=object)"
      ]
     },
     "metadata": {},
     "output_type": "display_data"
    },
    {
     "data": {
      "text/plain": [
       "'RESULTADO_ANTERIOR'"
      ]
     },
     "metadata": {},
     "output_type": "display_data"
    },
    {
     "data": {
      "text/plain": [
       "array(['nonexistent', 'failure', 'success'], dtype=object)"
      ]
     },
     "metadata": {},
     "output_type": "display_data"
    },
    {
     "data": {
      "text/plain": [
       "'TARGET'"
      ]
     },
     "metadata": {},
     "output_type": "display_data"
    },
    {
     "data": {
      "text/plain": [
       "array(['no', 'yes'], dtype=object)"
      ]
     },
     "metadata": {},
     "output_type": "display_data"
    },
    {
     "name": "stdout",
     "output_type": "stream",
     "text": [
      "DATA_TRAIN\n",
      "----------------\n"
     ]
    },
    {
     "data": {
      "text/plain": [
       "'EMPLEO'"
      ]
     },
     "metadata": {},
     "output_type": "display_data"
    },
    {
     "data": {
      "text/plain": [
       "array(['housemaid', 'services', 'admin.', 'blue-collar', 'technician',\n",
       "       'retired', 'management', 'unemployed', 'self-employed', 'unknown',\n",
       "       'entrepreneur', 'student'], dtype=object)"
      ]
     },
     "metadata": {},
     "output_type": "display_data"
    },
    {
     "data": {
      "text/plain": [
       "'ESTADO'"
      ]
     },
     "metadata": {},
     "output_type": "display_data"
    },
    {
     "data": {
      "text/plain": [
       "array(['married', 'single', 'divorced', 'unknown'], dtype=object)"
      ]
     },
     "metadata": {},
     "output_type": "display_data"
    },
    {
     "data": {
      "text/plain": [
       "'EDUCACION'"
      ]
     },
     "metadata": {},
     "output_type": "display_data"
    },
    {
     "data": {
      "text/plain": [
       "array(['basic.4y', 'high.school', 'basic.6y', 'basic.9y',\n",
       "       'professional.course', 'unknown', 'university.degree',\n",
       "       'illiterate'], dtype=object)"
      ]
     },
     "metadata": {},
     "output_type": "display_data"
    },
    {
     "data": {
      "text/plain": [
       "'IMPAGO'"
      ]
     },
     "metadata": {},
     "output_type": "display_data"
    },
    {
     "data": {
      "text/plain": [
       "array(['no', 'unknown'], dtype=object)"
      ]
     },
     "metadata": {},
     "output_type": "display_data"
    },
    {
     "data": {
      "text/plain": [
       "'HIPOTECA'"
      ]
     },
     "metadata": {},
     "output_type": "display_data"
    },
    {
     "data": {
      "text/plain": [
       "array(['no', 'yes', 'unknown'], dtype=object)"
      ]
     },
     "metadata": {},
     "output_type": "display_data"
    },
    {
     "data": {
      "text/plain": [
       "'PRESTAMO'"
      ]
     },
     "metadata": {},
     "output_type": "display_data"
    },
    {
     "data": {
      "text/plain": [
       "array(['no', 'yes', 'unknown'], dtype=object)"
      ]
     },
     "metadata": {},
     "output_type": "display_data"
    },
    {
     "data": {
      "text/plain": [
       "'TIPO_CONTACTO'"
      ]
     },
     "metadata": {},
     "output_type": "display_data"
    },
    {
     "data": {
      "text/plain": [
       "array(['telephone', 'cellular'], dtype=object)"
      ]
     },
     "metadata": {},
     "output_type": "display_data"
    },
    {
     "data": {
      "text/plain": [
       "'MES'"
      ]
     },
     "metadata": {},
     "output_type": "display_data"
    },
    {
     "data": {
      "text/plain": [
       "array(['may', 'jun', 'jul', 'aug'], dtype=object)"
      ]
     },
     "metadata": {},
     "output_type": "display_data"
    },
    {
     "data": {
      "text/plain": [
       "'DIA_SEMANA'"
      ]
     },
     "metadata": {},
     "output_type": "display_data"
    },
    {
     "data": {
      "text/plain": [
       "array(['mon', 'tue', 'wed', 'thu', 'fri'], dtype=object)"
      ]
     },
     "metadata": {},
     "output_type": "display_data"
    },
    {
     "data": {
      "text/plain": [
       "'RESULTADO_ANTERIOR'"
      ]
     },
     "metadata": {},
     "output_type": "display_data"
    },
    {
     "data": {
      "text/plain": [
       "array(['nonexistent', 'failure', 'success'], dtype=object)"
      ]
     },
     "metadata": {},
     "output_type": "display_data"
    },
    {
     "data": {
      "text/plain": [
       "'TARGET'"
      ]
     },
     "metadata": {},
     "output_type": "display_data"
    },
    {
     "data": {
      "text/plain": [
       "array(['no', 'yes'], dtype=object)"
      ]
     },
     "metadata": {},
     "output_type": "display_data"
    }
   ],
   "source": [
    "#Mostamos las columnas categóricas de los datasets de training y de test \n",
    "for index,data in list(enumerate([dataTr,dataTe])):\n",
    "    msg = \"data_train\" if index==1 else \"data_test\"\n",
    "    print(msg.upper())\n",
    "    print('----------------')\n",
    "    for i in categorical_columns_train:\n",
    "        display(i.upper(),data[i].unique())"
   ]
  },
  {
   "cell_type": "markdown",
   "metadata": {},
   "source": [
    "Podemos comprobar que las variables categoricas son las mismas en ambos datasets"
   ]
  },
  {
   "cell_type": "code",
   "execution_count": 1241,
   "metadata": {},
   "outputs": [
    {
     "data": {
      "text/plain": [
       "Index(['empleo', 'estado', 'educacion', 'impago', 'hipoteca', 'prestamo',\n",
       "       'tipo_contacto', 'mes', 'dia_semana', 'resultado_anterior', 'target'],\n",
       "      dtype='object')"
      ]
     },
     "metadata": {},
     "output_type": "display_data"
    },
    {
     "data": {
      "text/plain": [
       "Index(['empleo', 'estado', 'educacion', 'impago', 'hipoteca', 'prestamo',\n",
       "       'tipo_contacto', 'mes', 'dia_semana', 'resultado_anterior', 'target'],\n",
       "      dtype='object')"
      ]
     },
     "metadata": {},
     "output_type": "display_data"
    }
   ],
   "source": [
    "#Encoder transforma las variables categoricas en variables numéricas\n",
    "label_encoder=preprocessing.LabelEncoder() \n",
    "display(categorical_columns_train)\n",
    "display(categorical_columns_test)"
   ]
  },
  {
   "cell_type": "code",
   "execution_count": 1242,
   "metadata": {},
   "outputs": [
    {
     "name": "stdout",
     "output_type": "stream",
     "text": [
      "<class 'pandas.core.frame.DataFrame'>\n",
      "RangeIndex: 32652 entries, 0 to 32651\n",
      "Data columns (total 17 columns):\n",
      " #   Column              Non-Null Count  Dtype  \n",
      "---  ------              --------------  -----  \n",
      " 0   edad                32652 non-null  int64  \n",
      " 1   empleo              32652 non-null  int64  \n",
      " 2   estado              32652 non-null  int64  \n",
      " 3   educacion           32652 non-null  int64  \n",
      " 4   impago              32652 non-null  int64  \n",
      " 5   hipoteca            32652 non-null  int64  \n",
      " 6   prestamo            32652 non-null  int64  \n",
      " 7   tipo_contacto       32652 non-null  int64  \n",
      " 8   mes                 32652 non-null  int64  \n",
      " 9   dia_semana          32652 non-null  int64  \n",
      " 10  contactos_actual    32652 non-null  int64  \n",
      " 11  contactos_anterior  32652 non-null  int64  \n",
      " 12  resultado_anterior  32652 non-null  int64  \n",
      " 13  tasa_var_empleo_3m  32652 non-null  float64\n",
      " 14  euribor_3m          32652 non-null  float64\n",
      " 15  ipc_1m              32652 non-null  float64\n",
      " 16  target              32652 non-null  int64  \n",
      "dtypes: float64(3), int64(14)\n",
      "memory usage: 4.2 MB\n"
     ]
    },
    {
     "data": {
      "text/plain": [
       "None"
      ]
     },
     "metadata": {},
     "output_type": "display_data"
    },
    {
     "name": "stdout",
     "output_type": "stream",
     "text": [
      "<class 'pandas.core.frame.DataFrame'>\n",
      "RangeIndex: 8536 entries, 0 to 8535\n",
      "Data columns (total 17 columns):\n",
      " #   Column              Non-Null Count  Dtype  \n",
      "---  ------              --------------  -----  \n",
      " 0   edad                8536 non-null   int64  \n",
      " 1   empleo              8536 non-null   int64  \n",
      " 2   estado              8536 non-null   int64  \n",
      " 3   educacion           8536 non-null   int64  \n",
      " 4   impago              8536 non-null   int64  \n",
      " 5   hipoteca            8536 non-null   int64  \n",
      " 6   prestamo            8536 non-null   int64  \n",
      " 7   tipo_contacto       8536 non-null   int64  \n",
      " 8   mes                 8536 non-null   int64  \n",
      " 9   dia_semana          8536 non-null   int64  \n",
      " 10  contactos_actual    8536 non-null   int64  \n",
      " 11  contactos_anterior  8536 non-null   int64  \n",
      " 12  resultado_anterior  8536 non-null   int64  \n",
      " 13  tasa_var_empleo_3m  8536 non-null   float64\n",
      " 14  euribor_3m          8536 non-null   float64\n",
      " 15  ipc_1m              8536 non-null   float64\n",
      " 16  target              8536 non-null   int64  \n",
      "dtypes: float64(3), int64(14)\n",
      "memory usage: 1.1 MB\n"
     ]
    },
    {
     "data": {
      "text/plain": [
       "None"
      ]
     },
     "metadata": {},
     "output_type": "display_data"
    }
   ],
   "source": [
    "#Hacemos un fit del encoder con los datos de uno de los datasets y este se aplica en los dos, para que los datos concuerden\n",
    "data_train=dataTr.copy()\n",
    "data_test=dataTe.copy()\n",
    "for i in categorical_columns_train:\n",
    "    label_encoder.fit(data_train[i])\n",
    "    data_train[i]=label_encoder.transform(dataTr[i])\n",
    "    data_test[i]=label_encoder.transform(dataTe[i])\n",
    "    \n",
    "\n",
    "display(data_train.info())\n",
    "display(data_test.info())\n"
   ]
  },
  {
   "cell_type": "code",
   "execution_count": 1243,
   "metadata": {},
   "outputs": [
    {
     "data": {
      "text/plain": [
       "0        0\n",
       "1        0\n",
       "2        0\n",
       "3        0\n",
       "4        0\n",
       "        ..\n",
       "32647    1\n",
       "32648    0\n",
       "32649    0\n",
       "32650    1\n",
       "32651    0\n",
       "Name: target, Length: 32652, dtype: int64"
      ]
     },
     "execution_count": 1243,
     "metadata": {},
     "output_type": "execute_result"
    }
   ],
   "source": [
    "data_train['target']"
   ]
  },
  {
   "cell_type": "markdown",
   "metadata": {},
   "source": [
    "No se eliminan los datos duplicados dado que reducen la precisión del modelo"
   ]
  },
  {
   "cell_type": "code",
   "execution_count": 1244,
   "metadata": {},
   "outputs": [
    {
     "data": {
      "text/plain": [
       "1553"
      ]
     },
     "metadata": {},
     "output_type": "display_data"
    },
    {
     "data": {
      "text/plain": [
       "242"
      ]
     },
     "metadata": {},
     "output_type": "display_data"
    }
   ],
   "source": [
    "display(data_train.duplicated().sum())\n",
    "display(data_test.duplicated().sum())"
   ]
  },
  {
   "cell_type": "markdown",
   "metadata": {},
   "source": [
    "display(data_train.duplicated().sum())\n",
    "display(data_test.duplicated().sum())\n",
    "data_train=data_train.drop_duplicates()\n",
    "data_test=data_test.drop_duplicates()\n"
   ]
  },
  {
   "attachments": {},
   "cell_type": "markdown",
   "metadata": {},
   "source": [
    "## 1. Calcular el ratio de conversión (porcentaje de clientes que contratan) de la campaña en el conjunto de entrenamiento"
   ]
  },
  {
   "attachments": {},
   "cell_type": "markdown",
   "metadata": {},
   "source": [
    "Para el cálculo del ratio de conversión bastará con la división del número personas que han contratado el servicion entre el total de usuario y multiplicar esto por 100"
   ]
  },
  {
   "cell_type": "markdown",
   "metadata": {},
   "source": [
    "Trás pasar las variables categóricas a numéricas podemos comprobar en la columna target que el número 0 hace referencia a las personas que no han contratado el servicio y el 1 hace referencia a las personas que han contratado el servicio, por lo tanto, con sumar los número de la columna target ya obtendremos el número de personas que han contratado el servicio"
   ]
  },
  {
   "cell_type": "code",
   "execution_count": 1245,
   "metadata": {},
   "outputs": [
    {
     "data": {
      "text/plain": [
       "no     28655\n",
       "yes     3997\n",
       "Name: target, dtype: int64"
      ]
     },
     "execution_count": 1245,
     "metadata": {},
     "output_type": "execute_result"
    }
   ],
   "source": [
    "pd.read_csv(\"dataset_marketing_train.csv\")['target'].value_counts()\n"
   ]
  },
  {
   "cell_type": "code",
   "execution_count": 1246,
   "metadata": {},
   "outputs": [
    {
     "data": {
      "text/plain": [
       "0    28655\n",
       "1     3997\n",
       "Name: target, dtype: int64"
      ]
     },
     "execution_count": 1246,
     "metadata": {},
     "output_type": "execute_result"
    }
   ],
   "source": [
    "data_train['target'].value_counts() # Comprobación de que se ha realizado la conversion del valor 'no' por 0"
   ]
  },
  {
   "cell_type": "code",
   "execution_count": 1247,
   "metadata": {},
   "outputs": [
    {
     "name": "stdout",
     "output_type": "stream",
     "text": [
      "El ratio de conversión es: 12.241%\n"
     ]
    }
   ],
   "source": [
    "print('El ratio de conversión es: '+f'{(data_train.target.sum()/data_train.shape[0])*100:.3f}'+'%')"
   ]
  },
  {
   "attachments": {},
   "cell_type": "markdown",
   "metadata": {},
   "source": [
    "## 2. ¿Cómo influye el día de la semana de contacto en el resultado de la campaña? ¿Y el mes?"
   ]
  },
  {
   "attachments": {},
   "cell_type": "markdown",
   "metadata": {},
   "source": [
    "## Según el día de la semana"
   ]
  },
  {
   "cell_type": "code",
   "execution_count": 1248,
   "metadata": {},
   "outputs": [
    {
     "data": {
      "text/plain": [
       "0.02051267596600076"
      ]
     },
     "execution_count": 1248,
     "metadata": {},
     "output_type": "execute_result"
    }
   ],
   "source": [
    "data_train['dia_semana'].corr(data_train['target'])"
   ]
  },
  {
   "cell_type": "code",
   "execution_count": 1249,
   "metadata": {},
   "outputs": [
    {
     "data": {
      "text/plain": [
       "dia_semana\n",
       "fri    6035\n",
       "mon    6980\n",
       "thu    7146\n",
       "tue    6199\n",
       "wed    6292\n",
       "Name: target, dtype: int64"
      ]
     },
     "metadata": {},
     "output_type": "display_data"
    },
    {
     "data": {
      "text/plain": [
       "Text(0.5, 1.0, 'Número de contrataciones según el día de la semana')"
      ]
     },
     "execution_count": 1249,
     "metadata": {},
     "output_type": "execute_result"
    },
    {
     "data": {
      "image/png": "[encoded data removed]",
      "text/plain": [
       "<Figure size 432x288 with 1 Axes>"
      ]
     },
     "metadata": {
      "needs_background": "light"
     },
     "output_type": "display_data"
    }
   ],
   "source": [
    "display(dataTr.groupby('dia_semana')['target'].count())\n",
    "plt.bar(dataTr.dia_semana.unique(),data_train.groupby('dia_semana')['target'].sum())\n",
    "plt.xlabel('Dias de la semana')\n",
    "plt.ylabel('Número de contrataciones')\n",
    "plt.title('Número de contrataciones según el día de la semana')"
   ]
  },
  {
   "cell_type": "markdown",
   "metadata": {},
   "source": [
    "Como podemos ver con el porcentaje de correlacion entre la columna target y el día de la semana y el gráfico que representa el número de contrataciones y el día de la semana no hay una correlación muy alta entre esta variable y la columna target"
   ]
  },
  {
   "cell_type": "markdown",
   "metadata": {},
   "source": [
    "## Según el mes"
   ]
  },
  {
   "cell_type": "code",
   "execution_count": 1250,
   "metadata": {},
   "outputs": [
    {
     "data": {
      "text/plain": [
       "0.06036267999010513"
      ]
     },
     "execution_count": 1250,
     "metadata": {},
     "output_type": "execute_result"
    }
   ],
   "source": [
    "data_train['mes'].corr(data_train['target'])"
   ]
  },
  {
   "cell_type": "code",
   "execution_count": 1251,
   "metadata": {},
   "outputs": [
    {
     "data": {
      "text/plain": [
       "mes\n",
       "apr    2632\n",
       "aug    5945\n",
       "dec     182\n",
       "jul    6863\n",
       "jun    5089\n",
       "mar     546\n",
       "may    6006\n",
       "nov    4101\n",
       "oct     718\n",
       "sep     570\n",
       "Name: target, dtype: int64"
      ]
     },
     "metadata": {},
     "output_type": "display_data"
    },
    {
     "data": {
      "text/plain": [
       "Text(0.5, 1.0, 'Número de contrataciones según el día de la semana')"
      ]
     },
     "execution_count": 1251,
     "metadata": {},
     "output_type": "execute_result"
    },
    {
     "data": {
      "image/png": "[encoded data removed]",
      "text/plain": [
       "<Figure size 432x288 with 1 Axes>"
      ]
     },
     "metadata": {
      "needs_background": "light"
     },
     "output_type": "display_data"
    }
   ],
   "source": [
    "display(dataTr.groupby('mes')['target'].count())\n",
    "plt.bar(dataTr.mes.unique(),data_train.groupby('mes')['target'].sum())\n",
    "plt.xlabel('Dias de la semana')\n",
    "plt.ylabel('Número de contrataciones')\n",
    "plt.title('Número de contrataciones según el día de la semana')"
   ]
  },
  {
   "attachments": {},
   "cell_type": "markdown",
   "metadata": {},
   "source": [
    "En cambio, como podemos ver con el porcentaje de correlación entre el més y la columna target, existe una correlacion más alta y esto queda reflejado en el número de contrataciones por mes, como se puede ver en el gráfico."
   ]
  },
  {
   "attachments": {},
   "cell_type": "markdown",
   "metadata": {},
   "source": [
    "## 3. Transformar, al menos, las variables estado y resultado_anterior utilizando one-hot encoding"
   ]
  },
  {
   "cell_type": "code",
   "execution_count": 1252,
   "metadata": {},
   "outputs": [
    {
     "name": "stdout",
     "output_type": "stream",
     "text": [
      "Variables categóricas:\n"
     ]
    },
    {
     "data": {
      "text/plain": [
       "Index(['empleo', 'estado', 'educacion', 'impago', 'hipoteca', 'prestamo',\n",
       "       'tipo_contacto', 'mes', 'dia_semana', 'resultado_anterior'],\n",
       "      dtype='object')"
      ]
     },
     "metadata": {},
     "output_type": "display_data"
    },
    {
     "data": {
      "text/plain": [
       "Index(['empleo', 'estado', 'educacion', 'impago', 'hipoteca', 'prestamo',\n",
       "       'tipo_contacto', 'mes', 'dia_semana', 'resultado_anterior'],\n",
       "      dtype='object')"
      ]
     },
     "metadata": {},
     "output_type": "display_data"
    },
    {
     "name": "stdout",
     "output_type": "stream",
     "text": [
      "Variables numéricas:\n"
     ]
    },
    {
     "data": {
      "text/plain": [
       "Index(['edad', 'contactos_actual', 'contactos_anterior', 'tasa_var_empleo_3m',\n",
       "       'euribor_3m', 'ipc_1m'],\n",
       "      dtype='object')"
      ]
     },
     "metadata": {},
     "output_type": "display_data"
    },
    {
     "data": {
      "text/plain": [
       "Index(['edad', 'contactos_actual', 'contactos_anterior', 'tasa_var_empleo_3m',\n",
       "       'euribor_3m', 'ipc_1m'],\n",
       "      dtype='object')"
      ]
     },
     "metadata": {},
     "output_type": "display_data"
    }
   ],
   "source": [
    "#Obtenemos las columnas con variables categoricas y transformamos todas las categóricas utilizando el onehotenconding\n",
    "#Obtenemos las columnas con variables numéricas y las normalizamos.\n",
    "categorical_columns_train=dataTr.loc[:, dataTr.columns!='target'].select_dtypes(exclude=[\"int64\",\"float64\"]).columns \n",
    "categorical_columns_test=dataTe.loc[:, dataTe.columns!='target'].select_dtypes(exclude=[\"int64\",\"float64\"]).columns \n",
    "numerical_columns_train=dataTr.loc[:, dataTr.columns!='target'].select_dtypes(include=[\"int64\",\"float64\"]).columns \n",
    "numerical_columns_test=dataTe.loc[:, dataTr.columns!='target'].select_dtypes(include=[\"int64\",\"float64\"]).columns\n",
    "print('Variables categóricas:')\n",
    "display(categorical_columns_train)\n",
    "display(categorical_columns_test)\n",
    "print('Variables numéricas:')\n",
    "display(numerical_columns_train)\n",
    "display(numerical_columns_test)\n"
   ]
  },
  {
   "cell_type": "code",
   "execution_count": 1253,
   "metadata": {},
   "outputs": [
    {
     "data": {
      "text/html": [
       "<div>\n",
       "<style scoped>\n",
       "    .dataframe tbody tr th:only-of-type {\n",
       "        vertical-align: middle;\n",
       "    }\n",
       "\n",
       "    .dataframe tbody tr th {\n",
       "        vertical-align: top;\n",
       "    }\n",
       "\n",
       "    .dataframe thead th {\n",
       "        text-align: right;\n",
       "    }\n",
       "</style>\n",
       "<table border=\"1\" class=\"dataframe\">\n",
       "  <thead>\n",
       "    <tr style=\"text-align: right;\">\n",
       "      <th></th>\n",
       "      <th>edad</th>\n",
       "      <th>contactos_actual</th>\n",
       "      <th>contactos_anterior</th>\n",
       "      <th>tasa_var_empleo_3m</th>\n",
       "      <th>euribor_3m</th>\n",
       "      <th>ipc_1m</th>\n",
       "      <th>target</th>\n",
       "      <th>x0_admin.</th>\n",
       "      <th>x0_blue-collar</th>\n",
       "      <th>x0_entrepreneur</th>\n",
       "      <th>...</th>\n",
       "      <th>x7_oct</th>\n",
       "      <th>x7_sep</th>\n",
       "      <th>x8_fri</th>\n",
       "      <th>x8_mon</th>\n",
       "      <th>x8_thu</th>\n",
       "      <th>x8_tue</th>\n",
       "      <th>x8_wed</th>\n",
       "      <th>x9_failure</th>\n",
       "      <th>x9_nonexistent</th>\n",
       "      <th>x9_success</th>\n",
       "    </tr>\n",
       "  </thead>\n",
       "  <tbody>\n",
       "    <tr>\n",
       "      <th>0</th>\n",
       "      <td>26</td>\n",
       "      <td>3</td>\n",
       "      <td>0</td>\n",
       "      <td>1.4</td>\n",
       "      <td>4.865</td>\n",
       "      <td>94.465</td>\n",
       "      <td>no</td>\n",
       "      <td>0.0</td>\n",
       "      <td>0.0</td>\n",
       "      <td>0.0</td>\n",
       "      <td>...</td>\n",
       "      <td>0.0</td>\n",
       "      <td>0.0</td>\n",
       "      <td>0.0</td>\n",
       "      <td>1.0</td>\n",
       "      <td>0.0</td>\n",
       "      <td>0.0</td>\n",
       "      <td>0.0</td>\n",
       "      <td>0.0</td>\n",
       "      <td>1.0</td>\n",
       "      <td>0.0</td>\n",
       "    </tr>\n",
       "    <tr>\n",
       "      <th>1</th>\n",
       "      <td>42</td>\n",
       "      <td>9</td>\n",
       "      <td>0</td>\n",
       "      <td>1.4</td>\n",
       "      <td>4.865</td>\n",
       "      <td>94.465</td>\n",
       "      <td>no</td>\n",
       "      <td>0.0</td>\n",
       "      <td>0.0</td>\n",
       "      <td>0.0</td>\n",
       "      <td>...</td>\n",
       "      <td>0.0</td>\n",
       "      <td>0.0</td>\n",
       "      <td>0.0</td>\n",
       "      <td>1.0</td>\n",
       "      <td>0.0</td>\n",
       "      <td>0.0</td>\n",
       "      <td>0.0</td>\n",
       "      <td>0.0</td>\n",
       "      <td>1.0</td>\n",
       "      <td>0.0</td>\n",
       "    </tr>\n",
       "    <tr>\n",
       "      <th>2</th>\n",
       "      <td>30</td>\n",
       "      <td>2</td>\n",
       "      <td>0</td>\n",
       "      <td>1.4</td>\n",
       "      <td>4.865</td>\n",
       "      <td>94.465</td>\n",
       "      <td>no</td>\n",
       "      <td>1.0</td>\n",
       "      <td>0.0</td>\n",
       "      <td>0.0</td>\n",
       "      <td>...</td>\n",
       "      <td>0.0</td>\n",
       "      <td>0.0</td>\n",
       "      <td>0.0</td>\n",
       "      <td>1.0</td>\n",
       "      <td>0.0</td>\n",
       "      <td>0.0</td>\n",
       "      <td>0.0</td>\n",
       "      <td>0.0</td>\n",
       "      <td>1.0</td>\n",
       "      <td>0.0</td>\n",
       "    </tr>\n",
       "    <tr>\n",
       "      <th>3</th>\n",
       "      <td>55</td>\n",
       "      <td>3</td>\n",
       "      <td>0</td>\n",
       "      <td>1.4</td>\n",
       "      <td>4.865</td>\n",
       "      <td>94.465</td>\n",
       "      <td>no</td>\n",
       "      <td>0.0</td>\n",
       "      <td>0.0</td>\n",
       "      <td>0.0</td>\n",
       "      <td>...</td>\n",
       "      <td>0.0</td>\n",
       "      <td>0.0</td>\n",
       "      <td>0.0</td>\n",
       "      <td>1.0</td>\n",
       "      <td>0.0</td>\n",
       "      <td>0.0</td>\n",
       "      <td>0.0</td>\n",
       "      <td>0.0</td>\n",
       "      <td>1.0</td>\n",
       "      <td>0.0</td>\n",
       "    </tr>\n",
       "    <tr>\n",
       "      <th>4</th>\n",
       "      <td>41</td>\n",
       "      <td>2</td>\n",
       "      <td>0</td>\n",
       "      <td>1.4</td>\n",
       "      <td>4.865</td>\n",
       "      <td>94.465</td>\n",
       "      <td>no</td>\n",
       "      <td>0.0</td>\n",
       "      <td>1.0</td>\n",
       "      <td>0.0</td>\n",
       "      <td>...</td>\n",
       "      <td>0.0</td>\n",
       "      <td>0.0</td>\n",
       "      <td>0.0</td>\n",
       "      <td>1.0</td>\n",
       "      <td>0.0</td>\n",
       "      <td>0.0</td>\n",
       "      <td>0.0</td>\n",
       "      <td>0.0</td>\n",
       "      <td>1.0</td>\n",
       "      <td>0.0</td>\n",
       "    </tr>\n",
       "    <tr>\n",
       "      <th>...</th>\n",
       "      <td>...</td>\n",
       "      <td>...</td>\n",
       "      <td>...</td>\n",
       "      <td>...</td>\n",
       "      <td>...</td>\n",
       "      <td>...</td>\n",
       "      <td>...</td>\n",
       "      <td>...</td>\n",
       "      <td>...</td>\n",
       "      <td>...</td>\n",
       "      <td>...</td>\n",
       "      <td>...</td>\n",
       "      <td>...</td>\n",
       "      <td>...</td>\n",
       "      <td>...</td>\n",
       "      <td>...</td>\n",
       "      <td>...</td>\n",
       "      <td>...</td>\n",
       "      <td>...</td>\n",
       "      <td>...</td>\n",
       "      <td>...</td>\n",
       "    </tr>\n",
       "    <tr>\n",
       "      <th>32647</th>\n",
       "      <td>73</td>\n",
       "      <td>1</td>\n",
       "      <td>0</td>\n",
       "      <td>-1.1</td>\n",
       "      <td>1.028</td>\n",
       "      <td>94.767</td>\n",
       "      <td>yes</td>\n",
       "      <td>0.0</td>\n",
       "      <td>0.0</td>\n",
       "      <td>0.0</td>\n",
       "      <td>...</td>\n",
       "      <td>0.0</td>\n",
       "      <td>0.0</td>\n",
       "      <td>1.0</td>\n",
       "      <td>0.0</td>\n",
       "      <td>0.0</td>\n",
       "      <td>0.0</td>\n",
       "      <td>0.0</td>\n",
       "      <td>0.0</td>\n",
       "      <td>1.0</td>\n",
       "      <td>0.0</td>\n",
       "    </tr>\n",
       "    <tr>\n",
       "      <th>32648</th>\n",
       "      <td>46</td>\n",
       "      <td>1</td>\n",
       "      <td>0</td>\n",
       "      <td>-1.1</td>\n",
       "      <td>1.028</td>\n",
       "      <td>94.767</td>\n",
       "      <td>no</td>\n",
       "      <td>0.0</td>\n",
       "      <td>1.0</td>\n",
       "      <td>0.0</td>\n",
       "      <td>...</td>\n",
       "      <td>0.0</td>\n",
       "      <td>0.0</td>\n",
       "      <td>1.0</td>\n",
       "      <td>0.0</td>\n",
       "      <td>0.0</td>\n",
       "      <td>0.0</td>\n",
       "      <td>0.0</td>\n",
       "      <td>0.0</td>\n",
       "      <td>1.0</td>\n",
       "      <td>0.0</td>\n",
       "    </tr>\n",
       "    <tr>\n",
       "      <th>32649</th>\n",
       "      <td>56</td>\n",
       "      <td>2</td>\n",
       "      <td>0</td>\n",
       "      <td>-1.1</td>\n",
       "      <td>1.028</td>\n",
       "      <td>94.767</td>\n",
       "      <td>no</td>\n",
       "      <td>0.0</td>\n",
       "      <td>0.0</td>\n",
       "      <td>0.0</td>\n",
       "      <td>...</td>\n",
       "      <td>0.0</td>\n",
       "      <td>0.0</td>\n",
       "      <td>1.0</td>\n",
       "      <td>0.0</td>\n",
       "      <td>0.0</td>\n",
       "      <td>0.0</td>\n",
       "      <td>0.0</td>\n",
       "      <td>0.0</td>\n",
       "      <td>1.0</td>\n",
       "      <td>0.0</td>\n",
       "    </tr>\n",
       "    <tr>\n",
       "      <th>32650</th>\n",
       "      <td>44</td>\n",
       "      <td>1</td>\n",
       "      <td>0</td>\n",
       "      <td>-1.1</td>\n",
       "      <td>1.028</td>\n",
       "      <td>94.767</td>\n",
       "      <td>yes</td>\n",
       "      <td>0.0</td>\n",
       "      <td>0.0</td>\n",
       "      <td>0.0</td>\n",
       "      <td>...</td>\n",
       "      <td>0.0</td>\n",
       "      <td>0.0</td>\n",
       "      <td>1.0</td>\n",
       "      <td>0.0</td>\n",
       "      <td>0.0</td>\n",
       "      <td>0.0</td>\n",
       "      <td>0.0</td>\n",
       "      <td>0.0</td>\n",
       "      <td>1.0</td>\n",
       "      <td>0.0</td>\n",
       "    </tr>\n",
       "    <tr>\n",
       "      <th>32651</th>\n",
       "      <td>74</td>\n",
       "      <td>3</td>\n",
       "      <td>1</td>\n",
       "      <td>-1.1</td>\n",
       "      <td>1.028</td>\n",
       "      <td>94.767</td>\n",
       "      <td>no</td>\n",
       "      <td>0.0</td>\n",
       "      <td>0.0</td>\n",
       "      <td>0.0</td>\n",
       "      <td>...</td>\n",
       "      <td>0.0</td>\n",
       "      <td>0.0</td>\n",
       "      <td>1.0</td>\n",
       "      <td>0.0</td>\n",
       "      <td>0.0</td>\n",
       "      <td>0.0</td>\n",
       "      <td>0.0</td>\n",
       "      <td>1.0</td>\n",
       "      <td>0.0</td>\n",
       "      <td>0.0</td>\n",
       "    </tr>\n",
       "  </tbody>\n",
       "</table>\n",
       "<p>32652 rows × 60 columns</p>\n",
       "</div>"
      ],
      "text/plain": [
       "       edad  contactos_actual  contactos_anterior  tasa_var_empleo_3m  \\\n",
       "0        26                 3                   0                 1.4   \n",
       "1        42                 9                   0                 1.4   \n",
       "2        30                 2                   0                 1.4   \n",
       "3        55                 3                   0                 1.4   \n",
       "4        41                 2                   0                 1.4   \n",
       "...     ...               ...                 ...                 ...   \n",
       "32647    73                 1                   0                -1.1   \n",
       "32648    46                 1                   0                -1.1   \n",
       "32649    56                 2                   0                -1.1   \n",
       "32650    44                 1                   0                -1.1   \n",
       "32651    74                 3                   1                -1.1   \n",
       "\n",
       "       euribor_3m  ipc_1m target  x0_admin.  x0_blue-collar  x0_entrepreneur  \\\n",
       "0           4.865  94.465     no        0.0             0.0              0.0   \n",
       "1           4.865  94.465     no        0.0             0.0              0.0   \n",
       "2           4.865  94.465     no        1.0             0.0              0.0   \n",
       "3           4.865  94.465     no        0.0             0.0              0.0   \n",
       "4           4.865  94.465     no        0.0             1.0              0.0   \n",
       "...           ...     ...    ...        ...             ...              ...   \n",
       "32647       1.028  94.767    yes        0.0             0.0              0.0   \n",
       "32648       1.028  94.767     no        0.0             1.0              0.0   \n",
       "32649       1.028  94.767     no        0.0             0.0              0.0   \n",
       "32650       1.028  94.767    yes        0.0             0.0              0.0   \n",
       "32651       1.028  94.767     no        0.0             0.0              0.0   \n",
       "\n",
       "       ...  x7_oct  x7_sep  x8_fri  x8_mon  x8_thu  x8_tue  x8_wed  \\\n",
       "0      ...     0.0     0.0     0.0     1.0     0.0     0.0     0.0   \n",
       "1      ...     0.0     0.0     0.0     1.0     0.0     0.0     0.0   \n",
       "2      ...     0.0     0.0     0.0     1.0     0.0     0.0     0.0   \n",
       "3      ...     0.0     0.0     0.0     1.0     0.0     0.0     0.0   \n",
       "4      ...     0.0     0.0     0.0     1.0     0.0     0.0     0.0   \n",
       "...    ...     ...     ...     ...     ...     ...     ...     ...   \n",
       "32647  ...     0.0     0.0     1.0     0.0     0.0     0.0     0.0   \n",
       "32648  ...     0.0     0.0     1.0     0.0     0.0     0.0     0.0   \n",
       "32649  ...     0.0     0.0     1.0     0.0     0.0     0.0     0.0   \n",
       "32650  ...     0.0     0.0     1.0     0.0     0.0     0.0     0.0   \n",
       "32651  ...     0.0     0.0     1.0     0.0     0.0     0.0     0.0   \n",
       "\n",
       "       x9_failure  x9_nonexistent  x9_success  \n",
       "0             0.0             1.0         0.0  \n",
       "1             0.0             1.0         0.0  \n",
       "2             0.0             1.0         0.0  \n",
       "3             0.0             1.0         0.0  \n",
       "4             0.0             1.0         0.0  \n",
       "...           ...             ...         ...  \n",
       "32647         0.0             1.0         0.0  \n",
       "32648         0.0             1.0         0.0  \n",
       "32649         0.0             1.0         0.0  \n",
       "32650         0.0             1.0         0.0  \n",
       "32651         1.0             0.0         0.0  \n",
       "\n",
       "[32652 rows x 60 columns]"
      ]
     },
     "metadata": {},
     "output_type": "display_data"
    },
    {
     "data": {
      "text/html": [
       "<div>\n",
       "<style scoped>\n",
       "    .dataframe tbody tr th:only-of-type {\n",
       "        vertical-align: middle;\n",
       "    }\n",
       "\n",
       "    .dataframe tbody tr th {\n",
       "        vertical-align: top;\n",
       "    }\n",
       "\n",
       "    .dataframe thead th {\n",
       "        text-align: right;\n",
       "    }\n",
       "</style>\n",
       "<table border=\"1\" class=\"dataframe\">\n",
       "  <thead>\n",
       "    <tr style=\"text-align: right;\">\n",
       "      <th></th>\n",
       "      <th>edad</th>\n",
       "      <th>contactos_actual</th>\n",
       "      <th>contactos_anterior</th>\n",
       "      <th>tasa_var_empleo_3m</th>\n",
       "      <th>euribor_3m</th>\n",
       "      <th>ipc_1m</th>\n",
       "      <th>target</th>\n",
       "      <th>x0_admin.</th>\n",
       "      <th>x0_blue-collar</th>\n",
       "      <th>x0_entrepreneur</th>\n",
       "      <th>...</th>\n",
       "      <th>x7_oct</th>\n",
       "      <th>x7_sep</th>\n",
       "      <th>x8_fri</th>\n",
       "      <th>x8_mon</th>\n",
       "      <th>x8_thu</th>\n",
       "      <th>x8_tue</th>\n",
       "      <th>x8_wed</th>\n",
       "      <th>x9_failure</th>\n",
       "      <th>x9_nonexistent</th>\n",
       "      <th>x9_success</th>\n",
       "    </tr>\n",
       "  </thead>\n",
       "  <tbody>\n",
       "    <tr>\n",
       "      <th>0</th>\n",
       "      <td>56</td>\n",
       "      <td>1</td>\n",
       "      <td>0</td>\n",
       "      <td>1.1</td>\n",
       "      <td>4.857</td>\n",
       "      <td>93.994</td>\n",
       "      <td>no</td>\n",
       "      <td>0.0</td>\n",
       "      <td>0.0</td>\n",
       "      <td>0.0</td>\n",
       "      <td>...</td>\n",
       "      <td>0.0</td>\n",
       "      <td>0.0</td>\n",
       "      <td>0.0</td>\n",
       "      <td>1.0</td>\n",
       "      <td>0.0</td>\n",
       "      <td>0.0</td>\n",
       "      <td>0.0</td>\n",
       "      <td>0.0</td>\n",
       "      <td>1.0</td>\n",
       "      <td>0.0</td>\n",
       "    </tr>\n",
       "    <tr>\n",
       "      <th>1</th>\n",
       "      <td>57</td>\n",
       "      <td>1</td>\n",
       "      <td>0</td>\n",
       "      <td>1.1</td>\n",
       "      <td>4.857</td>\n",
       "      <td>93.994</td>\n",
       "      <td>no</td>\n",
       "      <td>0.0</td>\n",
       "      <td>0.0</td>\n",
       "      <td>0.0</td>\n",
       "      <td>...</td>\n",
       "      <td>0.0</td>\n",
       "      <td>0.0</td>\n",
       "      <td>0.0</td>\n",
       "      <td>1.0</td>\n",
       "      <td>0.0</td>\n",
       "      <td>0.0</td>\n",
       "      <td>0.0</td>\n",
       "      <td>0.0</td>\n",
       "      <td>1.0</td>\n",
       "      <td>0.0</td>\n",
       "    </tr>\n",
       "    <tr>\n",
       "      <th>2</th>\n",
       "      <td>37</td>\n",
       "      <td>1</td>\n",
       "      <td>0</td>\n",
       "      <td>1.1</td>\n",
       "      <td>4.857</td>\n",
       "      <td>93.994</td>\n",
       "      <td>no</td>\n",
       "      <td>0.0</td>\n",
       "      <td>0.0</td>\n",
       "      <td>0.0</td>\n",
       "      <td>...</td>\n",
       "      <td>0.0</td>\n",
       "      <td>0.0</td>\n",
       "      <td>0.0</td>\n",
       "      <td>1.0</td>\n",
       "      <td>0.0</td>\n",
       "      <td>0.0</td>\n",
       "      <td>0.0</td>\n",
       "      <td>0.0</td>\n",
       "      <td>1.0</td>\n",
       "      <td>0.0</td>\n",
       "    </tr>\n",
       "    <tr>\n",
       "      <th>3</th>\n",
       "      <td>40</td>\n",
       "      <td>1</td>\n",
       "      <td>0</td>\n",
       "      <td>1.1</td>\n",
       "      <td>4.857</td>\n",
       "      <td>93.994</td>\n",
       "      <td>no</td>\n",
       "      <td>1.0</td>\n",
       "      <td>0.0</td>\n",
       "      <td>0.0</td>\n",
       "      <td>...</td>\n",
       "      <td>0.0</td>\n",
       "      <td>0.0</td>\n",
       "      <td>0.0</td>\n",
       "      <td>1.0</td>\n",
       "      <td>0.0</td>\n",
       "      <td>0.0</td>\n",
       "      <td>0.0</td>\n",
       "      <td>0.0</td>\n",
       "      <td>1.0</td>\n",
       "      <td>0.0</td>\n",
       "    </tr>\n",
       "    <tr>\n",
       "      <th>4</th>\n",
       "      <td>56</td>\n",
       "      <td>1</td>\n",
       "      <td>0</td>\n",
       "      <td>1.1</td>\n",
       "      <td>4.857</td>\n",
       "      <td>93.994</td>\n",
       "      <td>no</td>\n",
       "      <td>0.0</td>\n",
       "      <td>0.0</td>\n",
       "      <td>0.0</td>\n",
       "      <td>...</td>\n",
       "      <td>0.0</td>\n",
       "      <td>0.0</td>\n",
       "      <td>0.0</td>\n",
       "      <td>1.0</td>\n",
       "      <td>0.0</td>\n",
       "      <td>0.0</td>\n",
       "      <td>0.0</td>\n",
       "      <td>0.0</td>\n",
       "      <td>1.0</td>\n",
       "      <td>0.0</td>\n",
       "    </tr>\n",
       "    <tr>\n",
       "      <th>...</th>\n",
       "      <td>...</td>\n",
       "      <td>...</td>\n",
       "      <td>...</td>\n",
       "      <td>...</td>\n",
       "      <td>...</td>\n",
       "      <td>...</td>\n",
       "      <td>...</td>\n",
       "      <td>...</td>\n",
       "      <td>...</td>\n",
       "      <td>...</td>\n",
       "      <td>...</td>\n",
       "      <td>...</td>\n",
       "      <td>...</td>\n",
       "      <td>...</td>\n",
       "      <td>...</td>\n",
       "      <td>...</td>\n",
       "      <td>...</td>\n",
       "      <td>...</td>\n",
       "      <td>...</td>\n",
       "      <td>...</td>\n",
       "      <td>...</td>\n",
       "    </tr>\n",
       "    <tr>\n",
       "      <th>8531</th>\n",
       "      <td>56</td>\n",
       "      <td>3</td>\n",
       "      <td>1</td>\n",
       "      <td>-1.7</td>\n",
       "      <td>0.886</td>\n",
       "      <td>94.027</td>\n",
       "      <td>yes</td>\n",
       "      <td>0.0</td>\n",
       "      <td>0.0</td>\n",
       "      <td>0.0</td>\n",
       "      <td>...</td>\n",
       "      <td>0.0</td>\n",
       "      <td>0.0</td>\n",
       "      <td>0.0</td>\n",
       "      <td>0.0</td>\n",
       "      <td>0.0</td>\n",
       "      <td>1.0</td>\n",
       "      <td>0.0</td>\n",
       "      <td>1.0</td>\n",
       "      <td>0.0</td>\n",
       "      <td>0.0</td>\n",
       "    </tr>\n",
       "    <tr>\n",
       "      <th>8532</th>\n",
       "      <td>58</td>\n",
       "      <td>1</td>\n",
       "      <td>0</td>\n",
       "      <td>-1.7</td>\n",
       "      <td>0.886</td>\n",
       "      <td>94.027</td>\n",
       "      <td>no</td>\n",
       "      <td>0.0</td>\n",
       "      <td>0.0</td>\n",
       "      <td>0.0</td>\n",
       "      <td>...</td>\n",
       "      <td>0.0</td>\n",
       "      <td>0.0</td>\n",
       "      <td>0.0</td>\n",
       "      <td>0.0</td>\n",
       "      <td>0.0</td>\n",
       "      <td>1.0</td>\n",
       "      <td>0.0</td>\n",
       "      <td>0.0</td>\n",
       "      <td>1.0</td>\n",
       "      <td>0.0</td>\n",
       "    </tr>\n",
       "    <tr>\n",
       "      <th>8533</th>\n",
       "      <td>34</td>\n",
       "      <td>2</td>\n",
       "      <td>0</td>\n",
       "      <td>-1.7</td>\n",
       "      <td>0.886</td>\n",
       "      <td>94.027</td>\n",
       "      <td>no</td>\n",
       "      <td>0.0</td>\n",
       "      <td>1.0</td>\n",
       "      <td>0.0</td>\n",
       "      <td>...</td>\n",
       "      <td>0.0</td>\n",
       "      <td>0.0</td>\n",
       "      <td>0.0</td>\n",
       "      <td>0.0</td>\n",
       "      <td>0.0</td>\n",
       "      <td>1.0</td>\n",
       "      <td>0.0</td>\n",
       "      <td>0.0</td>\n",
       "      <td>1.0</td>\n",
       "      <td>0.0</td>\n",
       "    </tr>\n",
       "    <tr>\n",
       "      <th>8534</th>\n",
       "      <td>44</td>\n",
       "      <td>1</td>\n",
       "      <td>0</td>\n",
       "      <td>-1.7</td>\n",
       "      <td>0.886</td>\n",
       "      <td>94.027</td>\n",
       "      <td>no</td>\n",
       "      <td>1.0</td>\n",
       "      <td>0.0</td>\n",
       "      <td>0.0</td>\n",
       "      <td>...</td>\n",
       "      <td>0.0</td>\n",
       "      <td>0.0</td>\n",
       "      <td>0.0</td>\n",
       "      <td>0.0</td>\n",
       "      <td>0.0</td>\n",
       "      <td>1.0</td>\n",
       "      <td>0.0</td>\n",
       "      <td>0.0</td>\n",
       "      <td>1.0</td>\n",
       "      <td>0.0</td>\n",
       "    </tr>\n",
       "    <tr>\n",
       "      <th>8535</th>\n",
       "      <td>27</td>\n",
       "      <td>5</td>\n",
       "      <td>1</td>\n",
       "      <td>-1.7</td>\n",
       "      <td>0.886</td>\n",
       "      <td>94.027</td>\n",
       "      <td>yes</td>\n",
       "      <td>1.0</td>\n",
       "      <td>0.0</td>\n",
       "      <td>0.0</td>\n",
       "      <td>...</td>\n",
       "      <td>0.0</td>\n",
       "      <td>0.0</td>\n",
       "      <td>0.0</td>\n",
       "      <td>0.0</td>\n",
       "      <td>0.0</td>\n",
       "      <td>1.0</td>\n",
       "      <td>0.0</td>\n",
       "      <td>0.0</td>\n",
       "      <td>0.0</td>\n",
       "      <td>1.0</td>\n",
       "    </tr>\n",
       "  </tbody>\n",
       "</table>\n",
       "<p>8536 rows × 60 columns</p>\n",
       "</div>"
      ],
      "text/plain": [
       "      edad  contactos_actual  contactos_anterior  tasa_var_empleo_3m  \\\n",
       "0       56                 1                   0                 1.1   \n",
       "1       57                 1                   0                 1.1   \n",
       "2       37                 1                   0                 1.1   \n",
       "3       40                 1                   0                 1.1   \n",
       "4       56                 1                   0                 1.1   \n",
       "...    ...               ...                 ...                 ...   \n",
       "8531    56                 3                   1                -1.7   \n",
       "8532    58                 1                   0                -1.7   \n",
       "8533    34                 2                   0                -1.7   \n",
       "8534    44                 1                   0                -1.7   \n",
       "8535    27                 5                   1                -1.7   \n",
       "\n",
       "      euribor_3m  ipc_1m target  x0_admin.  x0_blue-collar  x0_entrepreneur  \\\n",
       "0          4.857  93.994     no        0.0             0.0              0.0   \n",
       "1          4.857  93.994     no        0.0             0.0              0.0   \n",
       "2          4.857  93.994     no        0.0             0.0              0.0   \n",
       "3          4.857  93.994     no        1.0             0.0              0.0   \n",
       "4          4.857  93.994     no        0.0             0.0              0.0   \n",
       "...          ...     ...    ...        ...             ...              ...   \n",
       "8531       0.886  94.027    yes        0.0             0.0              0.0   \n",
       "8532       0.886  94.027     no        0.0             0.0              0.0   \n",
       "8533       0.886  94.027     no        0.0             1.0              0.0   \n",
       "8534       0.886  94.027     no        1.0             0.0              0.0   \n",
       "8535       0.886  94.027    yes        1.0             0.0              0.0   \n",
       "\n",
       "      ...  x7_oct  x7_sep  x8_fri  x8_mon  x8_thu  x8_tue  x8_wed  x9_failure  \\\n",
       "0     ...     0.0     0.0     0.0     1.0     0.0     0.0     0.0         0.0   \n",
       "1     ...     0.0     0.0     0.0     1.0     0.0     0.0     0.0         0.0   \n",
       "2     ...     0.0     0.0     0.0     1.0     0.0     0.0     0.0         0.0   \n",
       "3     ...     0.0     0.0     0.0     1.0     0.0     0.0     0.0         0.0   \n",
       "4     ...     0.0     0.0     0.0     1.0     0.0     0.0     0.0         0.0   \n",
       "...   ...     ...     ...     ...     ...     ...     ...     ...         ...   \n",
       "8531  ...     0.0     0.0     0.0     0.0     0.0     1.0     0.0         1.0   \n",
       "8532  ...     0.0     0.0     0.0     0.0     0.0     1.0     0.0         0.0   \n",
       "8533  ...     0.0     0.0     0.0     0.0     0.0     1.0     0.0         0.0   \n",
       "8534  ...     0.0     0.0     0.0     0.0     0.0     1.0     0.0         0.0   \n",
       "8535  ...     0.0     0.0     0.0     0.0     0.0     1.0     0.0         0.0   \n",
       "\n",
       "      x9_nonexistent  x9_success  \n",
       "0                1.0         0.0  \n",
       "1                1.0         0.0  \n",
       "2                1.0         0.0  \n",
       "3                1.0         0.0  \n",
       "4                1.0         0.0  \n",
       "...              ...         ...  \n",
       "8531             0.0         0.0  \n",
       "8532             1.0         0.0  \n",
       "8533             1.0         0.0  \n",
       "8534             1.0         0.0  \n",
       "8535             0.0         1.0  \n",
       "\n",
       "[8536 rows x 60 columns]"
      ]
     },
     "metadata": {},
     "output_type": "display_data"
    }
   ],
   "source": [
    "data_train=dataTr.copy()\n",
    "data_test=dataTe.copy()\n",
    "# Creación del encoder\n",
    "onehotencoder = preprocessing.OneHotEncoder()\n",
    "onehotencoder.fit(dataTr[categorical_columns_train])\n",
    "# Transformamos los datos, los unimos al dataframe de los datos y eliminamos la columna de las variables categóricas\n",
    "one_train = onehotencoder.transform(dataTr[categorical_columns_train]).toarray()\n",
    "onehot_datatrain = pd.DataFrame(one_train, columns = onehotencoder.get_feature_names())\n",
    "data_train.drop(categorical_columns_train,axis=1, inplace=True)\n",
    "data_train=data_train.join(onehot_datatrain)\n",
    "\n",
    "# Transformamos los datos, los unimos al dataframe de los datos y eliminamos la columna de las variables categóricas\n",
    "one_test = onehotencoder.transform(dataTe[categorical_columns_test]).toarray()\n",
    "onehot_datatest = pd.DataFrame(one_test, columns = onehotencoder.get_feature_names())\n",
    "data_test.drop(categorical_columns_test,axis=1, inplace=True)\n",
    "data_test=data_test.join(onehot_datatest)\n",
    "\n",
    "display(data_train)\n",
    "display(data_test)\n",
    "\n"
   ]
  },
  {
   "cell_type": "code",
   "execution_count": 1254,
   "metadata": {},
   "outputs": [
    {
     "data": {
      "text/html": [
       "<div>\n",
       "<style scoped>\n",
       "    .dataframe tbody tr th:only-of-type {\n",
       "        vertical-align: middle;\n",
       "    }\n",
       "\n",
       "    .dataframe tbody tr th {\n",
       "        vertical-align: top;\n",
       "    }\n",
       "\n",
       "    .dataframe thead th {\n",
       "        text-align: right;\n",
       "    }\n",
       "</style>\n",
       "<table border=\"1\" class=\"dataframe\">\n",
       "  <thead>\n",
       "    <tr style=\"text-align: right;\">\n",
       "      <th></th>\n",
       "      <th>target</th>\n",
       "      <th>x0_admin.</th>\n",
       "      <th>x0_blue-collar</th>\n",
       "      <th>x0_entrepreneur</th>\n",
       "      <th>x0_housemaid</th>\n",
       "      <th>x0_management</th>\n",
       "      <th>x0_retired</th>\n",
       "      <th>x0_self-employed</th>\n",
       "      <th>x0_services</th>\n",
       "      <th>x0_student</th>\n",
       "      <th>...</th>\n",
       "      <th>x8_wed</th>\n",
       "      <th>x9_failure</th>\n",
       "      <th>x9_nonexistent</th>\n",
       "      <th>x9_success</th>\n",
       "      <th>edad</th>\n",
       "      <th>contactos_actual</th>\n",
       "      <th>contactos_anterior</th>\n",
       "      <th>tasa_var_empleo_3m</th>\n",
       "      <th>euribor_3m</th>\n",
       "      <th>ipc_1m</th>\n",
       "    </tr>\n",
       "  </thead>\n",
       "  <tbody>\n",
       "    <tr>\n",
       "      <th>0</th>\n",
       "      <td>no</td>\n",
       "      <td>0.0</td>\n",
       "      <td>0.0</td>\n",
       "      <td>0.0</td>\n",
       "      <td>0.0</td>\n",
       "      <td>1.0</td>\n",
       "      <td>0.0</td>\n",
       "      <td>0.0</td>\n",
       "      <td>0.0</td>\n",
       "      <td>0.0</td>\n",
       "      <td>...</td>\n",
       "      <td>0.0</td>\n",
       "      <td>0.0</td>\n",
       "      <td>1.0</td>\n",
       "      <td>0.0</td>\n",
       "      <td>-1.315135</td>\n",
       "      <td>0.143479</td>\n",
       "      <td>-0.385848</td>\n",
       "      <td>0.915139</td>\n",
       "      <td>0.823313</td>\n",
       "      <td>1.665649</td>\n",
       "    </tr>\n",
       "    <tr>\n",
       "      <th>1</th>\n",
       "      <td>no</td>\n",
       "      <td>0.0</td>\n",
       "      <td>0.0</td>\n",
       "      <td>0.0</td>\n",
       "      <td>0.0</td>\n",
       "      <td>0.0</td>\n",
       "      <td>0.0</td>\n",
       "      <td>0.0</td>\n",
       "      <td>0.0</td>\n",
       "      <td>0.0</td>\n",
       "      <td>...</td>\n",
       "      <td>0.0</td>\n",
       "      <td>0.0</td>\n",
       "      <td>1.0</td>\n",
       "      <td>0.0</td>\n",
       "      <td>0.195420</td>\n",
       "      <td>2.271517</td>\n",
       "      <td>-0.385848</td>\n",
       "      <td>0.915139</td>\n",
       "      <td>0.823313</td>\n",
       "      <td>1.665649</td>\n",
       "    </tr>\n",
       "    <tr>\n",
       "      <th>2</th>\n",
       "      <td>no</td>\n",
       "      <td>1.0</td>\n",
       "      <td>0.0</td>\n",
       "      <td>0.0</td>\n",
       "      <td>0.0</td>\n",
       "      <td>0.0</td>\n",
       "      <td>0.0</td>\n",
       "      <td>0.0</td>\n",
       "      <td>0.0</td>\n",
       "      <td>0.0</td>\n",
       "      <td>...</td>\n",
       "      <td>0.0</td>\n",
       "      <td>0.0</td>\n",
       "      <td>1.0</td>\n",
       "      <td>0.0</td>\n",
       "      <td>-0.937496</td>\n",
       "      <td>-0.211194</td>\n",
       "      <td>-0.385848</td>\n",
       "      <td>0.915139</td>\n",
       "      <td>0.823313</td>\n",
       "      <td>1.665649</td>\n",
       "    </tr>\n",
       "    <tr>\n",
       "      <th>3</th>\n",
       "      <td>no</td>\n",
       "      <td>0.0</td>\n",
       "      <td>0.0</td>\n",
       "      <td>0.0</td>\n",
       "      <td>0.0</td>\n",
       "      <td>0.0</td>\n",
       "      <td>0.0</td>\n",
       "      <td>0.0</td>\n",
       "      <td>0.0</td>\n",
       "      <td>0.0</td>\n",
       "      <td>...</td>\n",
       "      <td>0.0</td>\n",
       "      <td>0.0</td>\n",
       "      <td>1.0</td>\n",
       "      <td>0.0</td>\n",
       "      <td>1.422747</td>\n",
       "      <td>0.143479</td>\n",
       "      <td>-0.385848</td>\n",
       "      <td>0.915139</td>\n",
       "      <td>0.823313</td>\n",
       "      <td>1.665649</td>\n",
       "    </tr>\n",
       "    <tr>\n",
       "      <th>4</th>\n",
       "      <td>no</td>\n",
       "      <td>0.0</td>\n",
       "      <td>1.0</td>\n",
       "      <td>0.0</td>\n",
       "      <td>0.0</td>\n",
       "      <td>0.0</td>\n",
       "      <td>0.0</td>\n",
       "      <td>0.0</td>\n",
       "      <td>0.0</td>\n",
       "      <td>0.0</td>\n",
       "      <td>...</td>\n",
       "      <td>0.0</td>\n",
       "      <td>0.0</td>\n",
       "      <td>1.0</td>\n",
       "      <td>0.0</td>\n",
       "      <td>0.101011</td>\n",
       "      <td>-0.211194</td>\n",
       "      <td>-0.385848</td>\n",
       "      <td>0.915139</td>\n",
       "      <td>0.823313</td>\n",
       "      <td>1.665649</td>\n",
       "    </tr>\n",
       "    <tr>\n",
       "      <th>...</th>\n",
       "      <td>...</td>\n",
       "      <td>...</td>\n",
       "      <td>...</td>\n",
       "      <td>...</td>\n",
       "      <td>...</td>\n",
       "      <td>...</td>\n",
       "      <td>...</td>\n",
       "      <td>...</td>\n",
       "      <td>...</td>\n",
       "      <td>...</td>\n",
       "      <td>...</td>\n",
       "      <td>...</td>\n",
       "      <td>...</td>\n",
       "      <td>...</td>\n",
       "      <td>...</td>\n",
       "      <td>...</td>\n",
       "      <td>...</td>\n",
       "      <td>...</td>\n",
       "      <td>...</td>\n",
       "      <td>...</td>\n",
       "      <td>...</td>\n",
       "    </tr>\n",
       "    <tr>\n",
       "      <th>32647</th>\n",
       "      <td>yes</td>\n",
       "      <td>0.0</td>\n",
       "      <td>0.0</td>\n",
       "      <td>0.0</td>\n",
       "      <td>0.0</td>\n",
       "      <td>0.0</td>\n",
       "      <td>1.0</td>\n",
       "      <td>0.0</td>\n",
       "      <td>0.0</td>\n",
       "      <td>0.0</td>\n",
       "      <td>...</td>\n",
       "      <td>0.0</td>\n",
       "      <td>0.0</td>\n",
       "      <td>1.0</td>\n",
       "      <td>0.0</td>\n",
       "      <td>3.122122</td>\n",
       "      <td>-0.565867</td>\n",
       "      <td>-0.385848</td>\n",
       "      <td>-0.592020</td>\n",
       "      <td>-1.323396</td>\n",
       "      <td>2.167938</td>\n",
       "    </tr>\n",
       "    <tr>\n",
       "      <th>32648</th>\n",
       "      <td>no</td>\n",
       "      <td>0.0</td>\n",
       "      <td>1.0</td>\n",
       "      <td>0.0</td>\n",
       "      <td>0.0</td>\n",
       "      <td>0.0</td>\n",
       "      <td>0.0</td>\n",
       "      <td>0.0</td>\n",
       "      <td>0.0</td>\n",
       "      <td>0.0</td>\n",
       "      <td>...</td>\n",
       "      <td>0.0</td>\n",
       "      <td>0.0</td>\n",
       "      <td>1.0</td>\n",
       "      <td>0.0</td>\n",
       "      <td>0.573059</td>\n",
       "      <td>-0.565867</td>\n",
       "      <td>-0.385848</td>\n",
       "      <td>-0.592020</td>\n",
       "      <td>-1.323396</td>\n",
       "      <td>2.167938</td>\n",
       "    </tr>\n",
       "    <tr>\n",
       "      <th>32649</th>\n",
       "      <td>no</td>\n",
       "      <td>0.0</td>\n",
       "      <td>0.0</td>\n",
       "      <td>0.0</td>\n",
       "      <td>0.0</td>\n",
       "      <td>0.0</td>\n",
       "      <td>1.0</td>\n",
       "      <td>0.0</td>\n",
       "      <td>0.0</td>\n",
       "      <td>0.0</td>\n",
       "      <td>...</td>\n",
       "      <td>0.0</td>\n",
       "      <td>0.0</td>\n",
       "      <td>1.0</td>\n",
       "      <td>0.0</td>\n",
       "      <td>1.517156</td>\n",
       "      <td>-0.211194</td>\n",
       "      <td>-0.385848</td>\n",
       "      <td>-0.592020</td>\n",
       "      <td>-1.323396</td>\n",
       "      <td>2.167938</td>\n",
       "    </tr>\n",
       "    <tr>\n",
       "      <th>32650</th>\n",
       "      <td>yes</td>\n",
       "      <td>0.0</td>\n",
       "      <td>0.0</td>\n",
       "      <td>0.0</td>\n",
       "      <td>0.0</td>\n",
       "      <td>0.0</td>\n",
       "      <td>0.0</td>\n",
       "      <td>0.0</td>\n",
       "      <td>0.0</td>\n",
       "      <td>0.0</td>\n",
       "      <td>...</td>\n",
       "      <td>0.0</td>\n",
       "      <td>0.0</td>\n",
       "      <td>1.0</td>\n",
       "      <td>0.0</td>\n",
       "      <td>0.384240</td>\n",
       "      <td>-0.565867</td>\n",
       "      <td>-0.385848</td>\n",
       "      <td>-0.592020</td>\n",
       "      <td>-1.323396</td>\n",
       "      <td>2.167938</td>\n",
       "    </tr>\n",
       "    <tr>\n",
       "      <th>32651</th>\n",
       "      <td>no</td>\n",
       "      <td>0.0</td>\n",
       "      <td>0.0</td>\n",
       "      <td>0.0</td>\n",
       "      <td>0.0</td>\n",
       "      <td>0.0</td>\n",
       "      <td>1.0</td>\n",
       "      <td>0.0</td>\n",
       "      <td>0.0</td>\n",
       "      <td>0.0</td>\n",
       "      <td>...</td>\n",
       "      <td>0.0</td>\n",
       "      <td>1.0</td>\n",
       "      <td>0.0</td>\n",
       "      <td>0.0</td>\n",
       "      <td>3.216531</td>\n",
       "      <td>0.143479</td>\n",
       "      <td>1.610462</td>\n",
       "      <td>-0.592020</td>\n",
       "      <td>-1.323396</td>\n",
       "      <td>2.167938</td>\n",
       "    </tr>\n",
       "  </tbody>\n",
       "</table>\n",
       "<p>32652 rows × 60 columns</p>\n",
       "</div>"
      ],
      "text/plain": [
       "      target  x0_admin.  x0_blue-collar  x0_entrepreneur  x0_housemaid  \\\n",
       "0         no        0.0             0.0              0.0           0.0   \n",
       "1         no        0.0             0.0              0.0           0.0   \n",
       "2         no        1.0             0.0              0.0           0.0   \n",
       "3         no        0.0             0.0              0.0           0.0   \n",
       "4         no        0.0             1.0              0.0           0.0   \n",
       "...      ...        ...             ...              ...           ...   \n",
       "32647    yes        0.0             0.0              0.0           0.0   \n",
       "32648     no        0.0             1.0              0.0           0.0   \n",
       "32649     no        0.0             0.0              0.0           0.0   \n",
       "32650    yes        0.0             0.0              0.0           0.0   \n",
       "32651     no        0.0             0.0              0.0           0.0   \n",
       "\n",
       "       x0_management  x0_retired  x0_self-employed  x0_services  x0_student  \\\n",
       "0                1.0         0.0               0.0          0.0         0.0   \n",
       "1                0.0         0.0               0.0          0.0         0.0   \n",
       "2                0.0         0.0               0.0          0.0         0.0   \n",
       "3                0.0         0.0               0.0          0.0         0.0   \n",
       "4                0.0         0.0               0.0          0.0         0.0   \n",
       "...              ...         ...               ...          ...         ...   \n",
       "32647            0.0         1.0               0.0          0.0         0.0   \n",
       "32648            0.0         0.0               0.0          0.0         0.0   \n",
       "32649            0.0         1.0               0.0          0.0         0.0   \n",
       "32650            0.0         0.0               0.0          0.0         0.0   \n",
       "32651            0.0         1.0               0.0          0.0         0.0   \n",
       "\n",
       "       ...  x8_wed  x9_failure  x9_nonexistent  x9_success      edad  \\\n",
       "0      ...     0.0         0.0             1.0         0.0 -1.315135   \n",
       "1      ...     0.0         0.0             1.0         0.0  0.195420   \n",
       "2      ...     0.0         0.0             1.0         0.0 -0.937496   \n",
       "3      ...     0.0         0.0             1.0         0.0  1.422747   \n",
       "4      ...     0.0         0.0             1.0         0.0  0.101011   \n",
       "...    ...     ...         ...             ...         ...       ...   \n",
       "32647  ...     0.0         0.0             1.0         0.0  3.122122   \n",
       "32648  ...     0.0         0.0             1.0         0.0  0.573059   \n",
       "32649  ...     0.0         0.0             1.0         0.0  1.517156   \n",
       "32650  ...     0.0         0.0             1.0         0.0  0.384240   \n",
       "32651  ...     0.0         1.0             0.0         0.0  3.216531   \n",
       "\n",
       "       contactos_actual  contactos_anterior  tasa_var_empleo_3m  euribor_3m  \\\n",
       "0              0.143479           -0.385848            0.915139    0.823313   \n",
       "1              2.271517           -0.385848            0.915139    0.823313   \n",
       "2             -0.211194           -0.385848            0.915139    0.823313   \n",
       "3              0.143479           -0.385848            0.915139    0.823313   \n",
       "4             -0.211194           -0.385848            0.915139    0.823313   \n",
       "...                 ...                 ...                 ...         ...   \n",
       "32647         -0.565867           -0.385848           -0.592020   -1.323396   \n",
       "32648         -0.565867           -0.385848           -0.592020   -1.323396   \n",
       "32649         -0.211194           -0.385848           -0.592020   -1.323396   \n",
       "32650         -0.565867           -0.385848           -0.592020   -1.323396   \n",
       "32651          0.143479            1.610462           -0.592020   -1.323396   \n",
       "\n",
       "         ipc_1m  \n",
       "0      1.665649  \n",
       "1      1.665649  \n",
       "2      1.665649  \n",
       "3      1.665649  \n",
       "4      1.665649  \n",
       "...         ...  \n",
       "32647  2.167938  \n",
       "32648  2.167938  \n",
       "32649  2.167938  \n",
       "32650  2.167938  \n",
       "32651  2.167938  \n",
       "\n",
       "[32652 rows x 60 columns]"
      ]
     },
     "metadata": {},
     "output_type": "display_data"
    },
    {
     "data": {
      "text/html": [
       "<div>\n",
       "<style scoped>\n",
       "    .dataframe tbody tr th:only-of-type {\n",
       "        vertical-align: middle;\n",
       "    }\n",
       "\n",
       "    .dataframe tbody tr th {\n",
       "        vertical-align: top;\n",
       "    }\n",
       "\n",
       "    .dataframe thead th {\n",
       "        text-align: right;\n",
       "    }\n",
       "</style>\n",
       "<table border=\"1\" class=\"dataframe\">\n",
       "  <thead>\n",
       "    <tr style=\"text-align: right;\">\n",
       "      <th></th>\n",
       "      <th>target</th>\n",
       "      <th>x0_admin.</th>\n",
       "      <th>x0_blue-collar</th>\n",
       "      <th>x0_entrepreneur</th>\n",
       "      <th>x0_housemaid</th>\n",
       "      <th>x0_management</th>\n",
       "      <th>x0_retired</th>\n",
       "      <th>x0_self-employed</th>\n",
       "      <th>x0_services</th>\n",
       "      <th>x0_student</th>\n",
       "      <th>...</th>\n",
       "      <th>x8_wed</th>\n",
       "      <th>x9_failure</th>\n",
       "      <th>x9_nonexistent</th>\n",
       "      <th>x9_success</th>\n",
       "      <th>edad</th>\n",
       "      <th>contactos_actual</th>\n",
       "      <th>contactos_anterior</th>\n",
       "      <th>tasa_var_empleo_3m</th>\n",
       "      <th>euribor_3m</th>\n",
       "      <th>ipc_1m</th>\n",
       "    </tr>\n",
       "  </thead>\n",
       "  <tbody>\n",
       "    <tr>\n",
       "      <th>0</th>\n",
       "      <td>no</td>\n",
       "      <td>0.0</td>\n",
       "      <td>0.0</td>\n",
       "      <td>0.0</td>\n",
       "      <td>1.0</td>\n",
       "      <td>0.0</td>\n",
       "      <td>0.0</td>\n",
       "      <td>0.0</td>\n",
       "      <td>0.0</td>\n",
       "      <td>0.0</td>\n",
       "      <td>...</td>\n",
       "      <td>0.0</td>\n",
       "      <td>0.0</td>\n",
       "      <td>1.0</td>\n",
       "      <td>0.0</td>\n",
       "      <td>1.517156</td>\n",
       "      <td>-0.565867</td>\n",
       "      <td>-0.385848</td>\n",
       "      <td>0.734280</td>\n",
       "      <td>0.818837</td>\n",
       "      <td>0.882277</td>\n",
       "    </tr>\n",
       "    <tr>\n",
       "      <th>1</th>\n",
       "      <td>no</td>\n",
       "      <td>0.0</td>\n",
       "      <td>0.0</td>\n",
       "      <td>0.0</td>\n",
       "      <td>0.0</td>\n",
       "      <td>0.0</td>\n",
       "      <td>0.0</td>\n",
       "      <td>0.0</td>\n",
       "      <td>1.0</td>\n",
       "      <td>0.0</td>\n",
       "      <td>...</td>\n",
       "      <td>0.0</td>\n",
       "      <td>0.0</td>\n",
       "      <td>1.0</td>\n",
       "      <td>0.0</td>\n",
       "      <td>1.611566</td>\n",
       "      <td>-0.565867</td>\n",
       "      <td>-0.385848</td>\n",
       "      <td>0.734280</td>\n",
       "      <td>0.818837</td>\n",
       "      <td>0.882277</td>\n",
       "    </tr>\n",
       "    <tr>\n",
       "      <th>2</th>\n",
       "      <td>no</td>\n",
       "      <td>0.0</td>\n",
       "      <td>0.0</td>\n",
       "      <td>0.0</td>\n",
       "      <td>0.0</td>\n",
       "      <td>0.0</td>\n",
       "      <td>0.0</td>\n",
       "      <td>0.0</td>\n",
       "      <td>1.0</td>\n",
       "      <td>0.0</td>\n",
       "      <td>...</td>\n",
       "      <td>0.0</td>\n",
       "      <td>0.0</td>\n",
       "      <td>1.0</td>\n",
       "      <td>0.0</td>\n",
       "      <td>-0.276628</td>\n",
       "      <td>-0.565867</td>\n",
       "      <td>-0.385848</td>\n",
       "      <td>0.734280</td>\n",
       "      <td>0.818837</td>\n",
       "      <td>0.882277</td>\n",
       "    </tr>\n",
       "    <tr>\n",
       "      <th>3</th>\n",
       "      <td>no</td>\n",
       "      <td>1.0</td>\n",
       "      <td>0.0</td>\n",
       "      <td>0.0</td>\n",
       "      <td>0.0</td>\n",
       "      <td>0.0</td>\n",
       "      <td>0.0</td>\n",
       "      <td>0.0</td>\n",
       "      <td>0.0</td>\n",
       "      <td>0.0</td>\n",
       "      <td>...</td>\n",
       "      <td>0.0</td>\n",
       "      <td>0.0</td>\n",
       "      <td>1.0</td>\n",
       "      <td>0.0</td>\n",
       "      <td>0.006601</td>\n",
       "      <td>-0.565867</td>\n",
       "      <td>-0.385848</td>\n",
       "      <td>0.734280</td>\n",
       "      <td>0.818837</td>\n",
       "      <td>0.882277</td>\n",
       "    </tr>\n",
       "    <tr>\n",
       "      <th>4</th>\n",
       "      <td>no</td>\n",
       "      <td>0.0</td>\n",
       "      <td>0.0</td>\n",
       "      <td>0.0</td>\n",
       "      <td>0.0</td>\n",
       "      <td>0.0</td>\n",
       "      <td>0.0</td>\n",
       "      <td>0.0</td>\n",
       "      <td>1.0</td>\n",
       "      <td>0.0</td>\n",
       "      <td>...</td>\n",
       "      <td>0.0</td>\n",
       "      <td>0.0</td>\n",
       "      <td>1.0</td>\n",
       "      <td>0.0</td>\n",
       "      <td>1.517156</td>\n",
       "      <td>-0.565867</td>\n",
       "      <td>-0.385848</td>\n",
       "      <td>0.734280</td>\n",
       "      <td>0.818837</td>\n",
       "      <td>0.882277</td>\n",
       "    </tr>\n",
       "    <tr>\n",
       "      <th>...</th>\n",
       "      <td>...</td>\n",
       "      <td>...</td>\n",
       "      <td>...</td>\n",
       "      <td>...</td>\n",
       "      <td>...</td>\n",
       "      <td>...</td>\n",
       "      <td>...</td>\n",
       "      <td>...</td>\n",
       "      <td>...</td>\n",
       "      <td>...</td>\n",
       "      <td>...</td>\n",
       "      <td>...</td>\n",
       "      <td>...</td>\n",
       "      <td>...</td>\n",
       "      <td>...</td>\n",
       "      <td>...</td>\n",
       "      <td>...</td>\n",
       "      <td>...</td>\n",
       "      <td>...</td>\n",
       "      <td>...</td>\n",
       "      <td>...</td>\n",
       "    </tr>\n",
       "    <tr>\n",
       "      <th>8531</th>\n",
       "      <td>yes</td>\n",
       "      <td>0.0</td>\n",
       "      <td>0.0</td>\n",
       "      <td>0.0</td>\n",
       "      <td>0.0</td>\n",
       "      <td>0.0</td>\n",
       "      <td>1.0</td>\n",
       "      <td>0.0</td>\n",
       "      <td>0.0</td>\n",
       "      <td>0.0</td>\n",
       "      <td>...</td>\n",
       "      <td>0.0</td>\n",
       "      <td>1.0</td>\n",
       "      <td>0.0</td>\n",
       "      <td>0.0</td>\n",
       "      <td>1.517156</td>\n",
       "      <td>0.143479</td>\n",
       "      <td>1.610462</td>\n",
       "      <td>-0.953738</td>\n",
       "      <td>-1.402841</td>\n",
       "      <td>0.937163</td>\n",
       "    </tr>\n",
       "    <tr>\n",
       "      <th>8532</th>\n",
       "      <td>no</td>\n",
       "      <td>0.0</td>\n",
       "      <td>0.0</td>\n",
       "      <td>0.0</td>\n",
       "      <td>0.0</td>\n",
       "      <td>0.0</td>\n",
       "      <td>1.0</td>\n",
       "      <td>0.0</td>\n",
       "      <td>0.0</td>\n",
       "      <td>0.0</td>\n",
       "      <td>...</td>\n",
       "      <td>0.0</td>\n",
       "      <td>0.0</td>\n",
       "      <td>1.0</td>\n",
       "      <td>0.0</td>\n",
       "      <td>1.705976</td>\n",
       "      <td>-0.565867</td>\n",
       "      <td>-0.385848</td>\n",
       "      <td>-0.953738</td>\n",
       "      <td>-1.402841</td>\n",
       "      <td>0.937163</td>\n",
       "    </tr>\n",
       "    <tr>\n",
       "      <th>8533</th>\n",
       "      <td>no</td>\n",
       "      <td>0.0</td>\n",
       "      <td>1.0</td>\n",
       "      <td>0.0</td>\n",
       "      <td>0.0</td>\n",
       "      <td>0.0</td>\n",
       "      <td>0.0</td>\n",
       "      <td>0.0</td>\n",
       "      <td>0.0</td>\n",
       "      <td>0.0</td>\n",
       "      <td>...</td>\n",
       "      <td>0.0</td>\n",
       "      <td>0.0</td>\n",
       "      <td>1.0</td>\n",
       "      <td>0.0</td>\n",
       "      <td>-0.559857</td>\n",
       "      <td>-0.211194</td>\n",
       "      <td>-0.385848</td>\n",
       "      <td>-0.953738</td>\n",
       "      <td>-1.402841</td>\n",
       "      <td>0.937163</td>\n",
       "    </tr>\n",
       "    <tr>\n",
       "      <th>8534</th>\n",
       "      <td>no</td>\n",
       "      <td>1.0</td>\n",
       "      <td>0.0</td>\n",
       "      <td>0.0</td>\n",
       "      <td>0.0</td>\n",
       "      <td>0.0</td>\n",
       "      <td>0.0</td>\n",
       "      <td>0.0</td>\n",
       "      <td>0.0</td>\n",
       "      <td>0.0</td>\n",
       "      <td>...</td>\n",
       "      <td>0.0</td>\n",
       "      <td>0.0</td>\n",
       "      <td>1.0</td>\n",
       "      <td>0.0</td>\n",
       "      <td>0.384240</td>\n",
       "      <td>-0.565867</td>\n",
       "      <td>-0.385848</td>\n",
       "      <td>-0.953738</td>\n",
       "      <td>-1.402841</td>\n",
       "      <td>0.937163</td>\n",
       "    </tr>\n",
       "    <tr>\n",
       "      <th>8535</th>\n",
       "      <td>yes</td>\n",
       "      <td>1.0</td>\n",
       "      <td>0.0</td>\n",
       "      <td>0.0</td>\n",
       "      <td>0.0</td>\n",
       "      <td>0.0</td>\n",
       "      <td>0.0</td>\n",
       "      <td>0.0</td>\n",
       "      <td>0.0</td>\n",
       "      <td>0.0</td>\n",
       "      <td>...</td>\n",
       "      <td>0.0</td>\n",
       "      <td>0.0</td>\n",
       "      <td>0.0</td>\n",
       "      <td>1.0</td>\n",
       "      <td>-1.220725</td>\n",
       "      <td>0.852825</td>\n",
       "      <td>1.610462</td>\n",
       "      <td>-0.953738</td>\n",
       "      <td>-1.402841</td>\n",
       "      <td>0.937163</td>\n",
       "    </tr>\n",
       "  </tbody>\n",
       "</table>\n",
       "<p>8536 rows × 60 columns</p>\n",
       "</div>"
      ],
      "text/plain": [
       "     target  x0_admin.  x0_blue-collar  x0_entrepreneur  x0_housemaid  \\\n",
       "0        no        0.0             0.0              0.0           1.0   \n",
       "1        no        0.0             0.0              0.0           0.0   \n",
       "2        no        0.0             0.0              0.0           0.0   \n",
       "3        no        1.0             0.0              0.0           0.0   \n",
       "4        no        0.0             0.0              0.0           0.0   \n",
       "...     ...        ...             ...              ...           ...   \n",
       "8531    yes        0.0             0.0              0.0           0.0   \n",
       "8532     no        0.0             0.0              0.0           0.0   \n",
       "8533     no        0.0             1.0              0.0           0.0   \n",
       "8534     no        1.0             0.0              0.0           0.0   \n",
       "8535    yes        1.0             0.0              0.0           0.0   \n",
       "\n",
       "      x0_management  x0_retired  x0_self-employed  x0_services  x0_student  \\\n",
       "0               0.0         0.0               0.0          0.0         0.0   \n",
       "1               0.0         0.0               0.0          1.0         0.0   \n",
       "2               0.0         0.0               0.0          1.0         0.0   \n",
       "3               0.0         0.0               0.0          0.0         0.0   \n",
       "4               0.0         0.0               0.0          1.0         0.0   \n",
       "...             ...         ...               ...          ...         ...   \n",
       "8531            0.0         1.0               0.0          0.0         0.0   \n",
       "8532            0.0         1.0               0.0          0.0         0.0   \n",
       "8533            0.0         0.0               0.0          0.0         0.0   \n",
       "8534            0.0         0.0               0.0          0.0         0.0   \n",
       "8535            0.0         0.0               0.0          0.0         0.0   \n",
       "\n",
       "      ...  x8_wed  x9_failure  x9_nonexistent  x9_success      edad  \\\n",
       "0     ...     0.0         0.0             1.0         0.0  1.517156   \n",
       "1     ...     0.0         0.0             1.0         0.0  1.611566   \n",
       "2     ...     0.0         0.0             1.0         0.0 -0.276628   \n",
       "3     ...     0.0         0.0             1.0         0.0  0.006601   \n",
       "4     ...     0.0         0.0             1.0         0.0  1.517156   \n",
       "...   ...     ...         ...             ...         ...       ...   \n",
       "8531  ...     0.0         1.0             0.0         0.0  1.517156   \n",
       "8532  ...     0.0         0.0             1.0         0.0  1.705976   \n",
       "8533  ...     0.0         0.0             1.0         0.0 -0.559857   \n",
       "8534  ...     0.0         0.0             1.0         0.0  0.384240   \n",
       "8535  ...     0.0         0.0             0.0         1.0 -1.220725   \n",
       "\n",
       "      contactos_actual  contactos_anterior  tasa_var_empleo_3m  euribor_3m  \\\n",
       "0            -0.565867           -0.385848            0.734280    0.818837   \n",
       "1            -0.565867           -0.385848            0.734280    0.818837   \n",
       "2            -0.565867           -0.385848            0.734280    0.818837   \n",
       "3            -0.565867           -0.385848            0.734280    0.818837   \n",
       "4            -0.565867           -0.385848            0.734280    0.818837   \n",
       "...                ...                 ...                 ...         ...   \n",
       "8531          0.143479            1.610462           -0.953738   -1.402841   \n",
       "8532         -0.565867           -0.385848           -0.953738   -1.402841   \n",
       "8533         -0.211194           -0.385848           -0.953738   -1.402841   \n",
       "8534         -0.565867           -0.385848           -0.953738   -1.402841   \n",
       "8535          0.852825            1.610462           -0.953738   -1.402841   \n",
       "\n",
       "        ipc_1m  \n",
       "0     0.882277  \n",
       "1     0.882277  \n",
       "2     0.882277  \n",
       "3     0.882277  \n",
       "4     0.882277  \n",
       "...        ...  \n",
       "8531  0.937163  \n",
       "8532  0.937163  \n",
       "8533  0.937163  \n",
       "8534  0.937163  \n",
       "8535  0.937163  \n",
       "\n",
       "[8536 rows x 60 columns]"
      ]
     },
     "metadata": {},
     "output_type": "display_data"
    }
   ],
   "source": [
    "# Instanciamos la clase\n",
    "minmax = preprocessing.StandardScaler()\n",
    "\n",
    "# Transformamos los datos\n",
    "minmax.fit(data_train[numerical_columns_train])\n",
    "\n",
    "minmax_train=minmax.transform(data_train[numerical_columns_train])\n",
    "minmax_datatrain = pd.DataFrame(minmax_train, columns = numerical_columns_train)\n",
    "data_train.drop(numerical_columns_train,axis=1, inplace=True)\n",
    "data_train=data_train.join(minmax_datatrain)\n",
    "\n",
    "\n",
    "minmax_test=minmax.transform(data_test[numerical_columns_test])\n",
    "minmax_datatest = pd.DataFrame(minmax_test, columns = numerical_columns_test)\n",
    "data_test.drop(numerical_columns_test,axis=1, inplace=True)\n",
    "data_test=data_test.join(minmax_datatest)\n",
    "\n",
    "display(data_train)\n",
    "display(data_test)\n",
    "\n"
   ]
  },
  {
   "attachments": {},
   "cell_type": "markdown",
   "metadata": {},
   "source": [
    "## 4. Representar gráficamente la curva ROC del modelo y calcular su AUC en el conjunto de validación"
   ]
  },
  {
   "cell_type": "code",
   "execution_count": 1255,
   "metadata": {},
   "outputs": [],
   "source": [
    "#Transformamos los datos de target en variables categoricas mediante el label encoder para facilitar su uso\n",
    "label_encoder=preprocessing.LabelEncoder()\n",
    "label_encoder.fit(data_train['target'])\n",
    "data_train['target']=label_encoder.transform(dataTr['target'])\n",
    "data_test['target']=label_encoder.transform(dataTe['target'])"
   ]
  },
  {
   "cell_type": "code",
   "execution_count": 1256,
   "metadata": {},
   "outputs": [
    {
     "data": {
      "text/plain": [
       "0        0\n",
       "1        0\n",
       "2        0\n",
       "3        0\n",
       "4        0\n",
       "        ..\n",
       "32647    1\n",
       "32648    0\n",
       "32649    0\n",
       "32650    1\n",
       "32651    0\n",
       "Name: target, Length: 32652, dtype: int64"
      ]
     },
     "execution_count": 1256,
     "metadata": {},
     "output_type": "execute_result"
    }
   ],
   "source": [
    "data_train['target']"
   ]
  },
  {
   "cell_type": "code",
   "execution_count": 1257,
   "metadata": {},
   "outputs": [],
   "source": [
    "#Como ya tenemos los datos separados en 2 datasets de training y de test no es necesario utilizar el 'train_test_split'\n",
    "x_train=data_train.drop([\"target\"],axis=1)\n",
    "y_train=data_train['target']\n",
    "x_test=data_test.drop([\"target\"],axis=1)\n",
    "y_test=data_test['target']\n"
   ]
  },
  {
   "cell_type": "code",
   "execution_count": 1258,
   "metadata": {},
   "outputs": [
    {
     "name": "stdout",
     "output_type": "stream",
     "text": [
      "La precision del modelo es :  0.9389643861293346\n"
     ]
    }
   ],
   "source": [
    "#Creación del modelo  por defecto\n",
    "knn = KNeighborsClassifier()\n",
    "\n",
    "knn.fit(x_train, y_train)\n",
    "\n",
    "print('La precision del modelo es : ',knn.score(x_test, y_test))"
   ]
  },
  {
   "cell_type": "code",
   "execution_count": 1259,
   "metadata": {},
   "outputs": [
    {
     "data": {
      "text/plain": [
       "array([[0.8, 0.2],\n",
       "       [1. , 0. ],\n",
       "       [1. , 0. ],\n",
       "       ...,\n",
       "       [0.8, 0.2],\n",
       "       [0.6, 0.4],\n",
       "       [0.4, 0.6]])"
      ]
     },
     "metadata": {},
     "output_type": "display_data"
    },
    {
     "data": {
      "text/plain": [
       "array([[1. , 0. ],\n",
       "       [1. , 0. ],\n",
       "       [1. , 0. ],\n",
       "       ...,\n",
       "       [1. , 0. ],\n",
       "       [0.6, 0.4],\n",
       "       [0.2, 0.8]])"
      ]
     },
     "metadata": {},
     "output_type": "display_data"
    }
   ],
   "source": [
    "preds_train = knn.predict_proba(x_train)\n",
    "preds_test = knn.predict_proba(x_test)\n",
    "display(preds_train)\n",
    "display(preds_test)"
   ]
  },
  {
   "cell_type": "code",
   "execution_count": 1260,
   "metadata": {},
   "outputs": [
    {
     "name": "stderr",
     "output_type": "stream",
     "text": [
      "/Users/roig/opt/anaconda3/lib/python3.8/site-packages/sklearn/utils/deprecation.py:86: FutureWarning: Function plot_roc_curve is deprecated; This will be removed in v0.5.0. Please use scikitplot.metrics.plot_roc instead.\n",
      "  warnings.warn(msg, category=FutureWarning)\n"
     ]
    },
    {
     "data": {
      "image/png": "[encoded data removed]",
      "text/plain": [
       "<Figure size 432x288 with 1 Axes>"
      ]
     },
     "metadata": {
      "needs_background": "light"
     },
     "output_type": "display_data"
    }
   ],
   "source": [
    "#Creación de la curva roc mediante el uso de una libreria\n",
    "skplt.metrics.plot_roc_curve(y_test, knn.predict_proba(x_test))\n",
    "plt.show()"
   ]
  },
  {
   "cell_type": "code",
   "execution_count": 1261,
   "metadata": {},
   "outputs": [
    {
     "name": "stdout",
     "output_type": "stream",
     "text": [
      "Accuracy 0.9389643861293346\n"
     ]
    },
    {
     "data": {
      "image/png": "[encoded data removed]",
      "text/plain": [
       "<Figure size 432x288 with 1 Axes>"
      ]
     },
     "metadata": {
      "needs_background": "light"
     },
     "output_type": "display_data"
    }
   ],
   "source": [
    "#Creación de la curva roc mediante el uso de métricas\n",
    "y_pred = knn.predict(x_test)\n",
    "print(\"Accuracy\", metrics.accuracy_score(y_test, y_pred))\n",
    "y_pred_proba = knn.predict_proba(x_test)[::,1]\n",
    "fpr, tpr, _ = metrics.roc_curve(y_test,  y_pred_proba)\n",
    "auc = metrics.roc_auc_score(y_test, y_pred_proba)\n",
    "plt.plot(fpr,tpr,label=\"data 1, auc=\"+str(auc))\n",
    "plt.legend(loc=4)\n",
    "plt.show()"
   ]
  },
  {
   "attachments": {},
   "cell_type": "markdown",
   "metadata": {},
   "source": [
    "## 5. Maximizar el balance"
   ]
  },
  {
   "cell_type": "code",
   "execution_count": 1262,
   "metadata": {},
   "outputs": [
    {
     "data": {
      "text/html": [
       "<div>\n",
       "<style scoped>\n",
       "    .dataframe tbody tr th:only-of-type {\n",
       "        vertical-align: middle;\n",
       "    }\n",
       "\n",
       "    .dataframe tbody tr th {\n",
       "        vertical-align: top;\n",
       "    }\n",
       "\n",
       "    .dataframe thead th {\n",
       "        text-align: right;\n",
       "    }\n",
       "</style>\n",
       "<table border=\"1\" class=\"dataframe\">\n",
       "  <thead>\n",
       "    <tr style=\"text-align: right;\">\n",
       "      <th></th>\n",
       "      <th>Target 0</th>\n",
       "      <th>Target 1</th>\n",
       "    </tr>\n",
       "  </thead>\n",
       "  <tbody>\n",
       "    <tr>\n",
       "      <th>0</th>\n",
       "      <td>1.0</td>\n",
       "      <td>0.0</td>\n",
       "    </tr>\n",
       "    <tr>\n",
       "      <th>1</th>\n",
       "      <td>1.0</td>\n",
       "      <td>0.0</td>\n",
       "    </tr>\n",
       "    <tr>\n",
       "      <th>2</th>\n",
       "      <td>1.0</td>\n",
       "      <td>0.0</td>\n",
       "    </tr>\n",
       "    <tr>\n",
       "      <th>3</th>\n",
       "      <td>0.8</td>\n",
       "      <td>0.2</td>\n",
       "    </tr>\n",
       "    <tr>\n",
       "      <th>4</th>\n",
       "      <td>1.0</td>\n",
       "      <td>0.0</td>\n",
       "    </tr>\n",
       "    <tr>\n",
       "      <th>...</th>\n",
       "      <td>...</td>\n",
       "      <td>...</td>\n",
       "    </tr>\n",
       "    <tr>\n",
       "      <th>8531</th>\n",
       "      <td>0.2</td>\n",
       "      <td>0.8</td>\n",
       "    </tr>\n",
       "    <tr>\n",
       "      <th>8532</th>\n",
       "      <td>0.4</td>\n",
       "      <td>0.6</td>\n",
       "    </tr>\n",
       "    <tr>\n",
       "      <th>8533</th>\n",
       "      <td>1.0</td>\n",
       "      <td>0.0</td>\n",
       "    </tr>\n",
       "    <tr>\n",
       "      <th>8534</th>\n",
       "      <td>0.6</td>\n",
       "      <td>0.4</td>\n",
       "    </tr>\n",
       "    <tr>\n",
       "      <th>8535</th>\n",
       "      <td>0.2</td>\n",
       "      <td>0.8</td>\n",
       "    </tr>\n",
       "  </tbody>\n",
       "</table>\n",
       "<p>8536 rows × 2 columns</p>\n",
       "</div>"
      ],
      "text/plain": [
       "      Target 0  Target 1\n",
       "0          1.0       0.0\n",
       "1          1.0       0.0\n",
       "2          1.0       0.0\n",
       "3          0.8       0.2\n",
       "4          1.0       0.0\n",
       "...        ...       ...\n",
       "8531       0.2       0.8\n",
       "8532       0.4       0.6\n",
       "8533       1.0       0.0\n",
       "8534       0.6       0.4\n",
       "8535       0.2       0.8\n",
       "\n",
       "[8536 rows x 2 columns]"
      ]
     },
     "execution_count": 1262,
     "metadata": {},
     "output_type": "execute_result"
    }
   ],
   "source": [
    "#Creación de dataframe con las probabilidades de que contraten y de que no contraten\n",
    "#La columna con el titulo 'Target 0 ' hace referencia a la columna que guarda las probabilidades de que no contraten y la columna que tiene el título 'Target 1' guarda las probabilidades de que contraten\n",
    "df = pd.DataFrame(knn.predict_proba(x_test), columns = ['Target 0','Target 1'])\n",
    "df\n"
   ]
  },
  {
   "cell_type": "code",
   "execution_count": 1263,
   "metadata": {},
   "outputs": [],
   "source": [
    "#Funcion que varia el umbral de probabilidad, encuentra el umbral que maximiza el número de contrataciones y crea un gráfico con estos datos.\n",
    "def umbralProba():\n",
    "    #Se pone el 1.1 como tope dado que esta funcion no incluye el tope \n",
    "    umbral=list(np.arange(0, 1.1, 0.1))\n",
    "    porcentaje_arr = []\n",
    "    porcentaje_arr = list()\n",
    "    for i in umbral:\n",
    "        indices=df.index[df['Target 1'] >= i].tolist()\n",
    "        clientes_total=y_test.iloc[indices]\n",
    "        porcentaje=(clientes_total.sum()/ len(clientes_total)) * 100\n",
    "        porcentaje_arr.append(porcentaje)\n",
    "    \n",
    "    \n",
    "    zmax = np.max(porcentaje_arr)\n",
    "    \n",
    "    posicion=np.where(max(porcentaje_arr) == porcentaje_arr)\n",
    "    posicion=np.asarray(posicion)\n",
    "    \n",
    "\n",
    "    print('El umbral con mayor número de contrataciones es: ')\n",
    "    for i in posicion[0]:\n",
    "        print(umbral[i])\n",
    "    print(\"El mayor porcentaje de contratación es: \"+str(zmax)+'%')\n",
    "    plt.figure(figsize=(30,9))\n",
    "    plt.plot(umbral, porcentaje_arr,color='red')\n",
    "    plt.title('Contrataciones en función del umbral')\n",
    "    plt.xticks(umbral)\n",
    "    plt.xlabel('Umbral')\n",
    "    plt.ylabel('Contrataciones')\n",
    "    plt.show()\n",
    "    return umbral[posicion[0][0]]\n",
    "    "
   ]
  },
  {
   "cell_type": "code",
   "execution_count": 1264,
   "metadata": {},
   "outputs": [
    {
     "name": "stdout",
     "output_type": "stream",
     "text": [
      "El umbral con mayor número de contrataciones es: \n",
      "0.9\n",
      "1.0\n",
      "El mayor porcentaje de contratación es: 83.82352941176471%\n"
     ]
    },
    {
     "data": {
      "image/png": "[encoded data removed]",
      "text/plain": [
       "<Figure size 2160x648 with 1 Axes>"
      ]
     },
     "metadata": {
      "needs_background": "light"
     },
     "output_type": "display_data"
    }
   ],
   "source": [
    "bestumbral_array=umbralProba()"
   ]
  },
  {
   "attachments": {},
   "cell_type": "markdown",
   "metadata": {},
   "source": [
    "Como solo se obtienen gastos en el caso de que no se contraten, para maximizar el balance bastará con buscar el maximo número de contrataciones en funcion del numero de clientes."
   ]
  },
  {
   "attachments": {},
   "cell_type": "markdown",
   "metadata": {},
   "source": [
    "Como se puede comprobar en la gráfica y dado que tiene sentido que a una mayor probabilidad de contratación segun lo que indica el modelo mayor será el numero de contrataciones , escogemos la probabilidad máxima que es 1 dado que esta junto con la probabilidad de 0.9 son las que tienen un mayor porcentaje de contratación."
   ]
  },
  {
   "cell_type": "code",
   "execution_count": 1265,
   "metadata": {},
   "outputs": [
    {
     "data": {
      "text/plain": [
       "7766    0\n",
       "7774    1\n",
       "7779    1\n",
       "7829    1\n",
       "7832    1\n",
       "       ..\n",
       "8448    1\n",
       "8467    1\n",
       "8473    1\n",
       "8478    1\n",
       "8482    1\n",
       "Name: target, Length: 68, dtype: int64"
      ]
     },
     "execution_count": 1265,
     "metadata": {},
     "output_type": "execute_result"
    }
   ],
   "source": [
    "#Obtención de los datos que superan el umbral de probabilidad\n",
    "#para ello cogemos los indices de las filas que superan dicho umbral y buscamos los indices de estos datos en el dataset de datos\n",
    "indices=df.index[df['Target 1'] >= bestumbral_array].tolist()\n",
    "clientes_total=y_test.iloc[indices]\n",
    "clientes_total"
   ]
  },
  {
   "cell_type": "code",
   "execution_count": 1266,
   "metadata": {},
   "outputs": [
    {
     "name": "stdout",
     "output_type": "stream",
     "text": [
      "El balance con el umbral que lo maximiza es :5767€\n"
     ]
    }
   ],
   "source": [
    "#El número de contrataciones coincide con la suma de los elementos de dicha fila dado que el 0 indica que no se han contratado los servicios y el 1 indica que si que se han contratado.\n",
    "contrataciones=clientes_total.sum()\n",
    "Balance=100*contrataciones-1+len(clientes_total)\n",
    "print('El balance con el umbral que lo maximiza es :'+ str(Balance)+ '€')   "
   ]
  },
  {
   "attachments": {},
   "cell_type": "markdown",
   "metadata": {},
   "source": [
    "# Referencias\n",
    "* Apuntes de clase\n",
    "* Ejercicios de clase\n",
    "* Apuntes de la carrera\n",
    "* Ejercicios de la carrera\n",
    "* Librería de sklearn:\n",
    "https://scikit-learn.org/stable/\n",
    "* Librería de pandas:\n",
    "https://pandas.pydata.org/docs/\n",
    "* Librería de matplotlib:\n",
    "https://matplotlib.org/stable/gallery/index.html"
   ]
  }
 ],
 "metadata": {
  "kernelspec": {
   "display_name": "base",
   "language": "python",
   "name": "python3"
  },
  "language_info": {
   "codemirror_mode": {
    "name": "ipython",
    "version": 3
   },
   "file_extension": ".py",
   "mimetype": "text/x-python",
   "name": "python",
   "nbconvert_exporter": "python",
   "pygments_lexer": "ipython3",
   "version": "3.8.5"
  },
  "orig_nbformat": 4,
  "vscode": {
   "interpreter": {
    "hash": "2047fc00103dd2c3181a1ffec1f2a2a42f29aab23d443a58187a1b2bd084c010"
   }
  }
 },
 "nbformat": 4,
 "nbformat_minor": 2
}
