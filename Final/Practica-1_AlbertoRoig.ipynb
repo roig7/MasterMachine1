{
 "cells": [
  {
   "cell_type": "markdown",
   "metadata": {},
   "source": [
    "# Práctica 1 - Alberto Roig"
   ]
  },
  {
   "cell_type": "code",
   "execution_count": 210,
   "metadata": {},
   "outputs": [],
   "source": [
    "import pandas as pd\n",
    "import numpy as np\n",
    "import matplotlib.pyplot as plt\n",
    "from sklearn.metrics import confusion_matrix\n",
    "from sklearn.tree import DecisionTreeClassifier,DecisionTreeRegressor\n",
    "from sklearn.model_selection import train_test_split\n",
    "from sklearn import metrics\n",
    "from sklearn import preprocessing\n",
    "from sklearn.model_selection import RandomizedSearchCV\n",
    "from sklearn.feature_selection import SelectKBest, chi2, f_regression\n",
    "\n",
    "\n",
    "%matplotlib inline"
   ]
  },
  {
   "cell_type": "code",
   "execution_count": 211,
   "metadata": {},
   "outputs": [],
   "source": [
    "# Lectura de los datos\n",
    "data_train = pd.read_csv(\"dataset_coches_train.csv\")\n",
    "data_test = pd.read_csv(\"dataset_coches_test.csv\")"
   ]
  },
  {
   "cell_type": "code",
   "execution_count": 212,
   "metadata": {},
   "outputs": [
    {
     "data": {
      "text/html": [
       "<div>\n",
       "<style scoped>\n",
       "    .dataframe tbody tr th:only-of-type {\n",
       "        vertical-align: middle;\n",
       "    }\n",
       "\n",
       "    .dataframe tbody tr th {\n",
       "        vertical-align: top;\n",
       "    }\n",
       "\n",
       "    .dataframe thead th {\n",
       "        text-align: right;\n",
       "    }\n",
       "</style>\n",
       "<table border=\"1\" class=\"dataframe\">\n",
       "  <thead>\n",
       "    <tr style=\"text-align: right;\">\n",
       "      <th></th>\n",
       "      <th>marca</th>\n",
       "      <th>modelo</th>\n",
       "      <th>fecha</th>\n",
       "      <th>tipo_cambio</th>\n",
       "      <th>total_km</th>\n",
       "      <th>tipo_combustible</th>\n",
       "      <th>consumo</th>\n",
       "      <th>tipo_motor</th>\n",
       "      <th>tasa</th>\n",
       "      <th>precio</th>\n",
       "    </tr>\n",
       "  </thead>\n",
       "  <tbody>\n",
       "    <tr>\n",
       "      <th>0</th>\n",
       "      <td>hyundi</td>\n",
       "      <td>Santa Fe</td>\n",
       "      <td>2019</td>\n",
       "      <td>Semi-Auto</td>\n",
       "      <td>4223</td>\n",
       "      <td>Diesel</td>\n",
       "      <td>5.91</td>\n",
       "      <td>2.2</td>\n",
       "      <td>145.0</td>\n",
       "      <td>31995</td>\n",
       "    </tr>\n",
       "    <tr>\n",
       "      <th>1</th>\n",
       "      <td>vauxhall</td>\n",
       "      <td>GTC</td>\n",
       "      <td>2015</td>\n",
       "      <td>Manual</td>\n",
       "      <td>47870</td>\n",
       "      <td>Diesel</td>\n",
       "      <td>3.91</td>\n",
       "      <td>2.0</td>\n",
       "      <td>125.0</td>\n",
       "      <td>7700</td>\n",
       "    </tr>\n",
       "    <tr>\n",
       "      <th>2</th>\n",
       "      <td>audi</td>\n",
       "      <td>RS4</td>\n",
       "      <td>2019</td>\n",
       "      <td>Automatic</td>\n",
       "      <td>5151</td>\n",
       "      <td>Petrol</td>\n",
       "      <td>8.08</td>\n",
       "      <td>2.9</td>\n",
       "      <td>145.0</td>\n",
       "      <td>58990</td>\n",
       "    </tr>\n",
       "    <tr>\n",
       "      <th>3</th>\n",
       "      <td>vw</td>\n",
       "      <td>Scirocco</td>\n",
       "      <td>2016</td>\n",
       "      <td>Automatic</td>\n",
       "      <td>20423</td>\n",
       "      <td>Diesel</td>\n",
       "      <td>4.08</td>\n",
       "      <td>2.0</td>\n",
       "      <td>30.0</td>\n",
       "      <td>12999</td>\n",
       "    </tr>\n",
       "    <tr>\n",
       "      <th>4</th>\n",
       "      <td>skoda</td>\n",
       "      <td>Scala</td>\n",
       "      <td>2020</td>\n",
       "      <td>Semi-Auto</td>\n",
       "      <td>3569</td>\n",
       "      <td>Petrol</td>\n",
       "      <td>4.99</td>\n",
       "      <td>1.0</td>\n",
       "      <td>145.0</td>\n",
       "      <td>16990</td>\n",
       "    </tr>\n",
       "    <tr>\n",
       "      <th>...</th>\n",
       "      <td>...</td>\n",
       "      <td>...</td>\n",
       "      <td>...</td>\n",
       "      <td>...</td>\n",
       "      <td>...</td>\n",
       "      <td>...</td>\n",
       "      <td>...</td>\n",
       "      <td>...</td>\n",
       "      <td>...</td>\n",
       "      <td>...</td>\n",
       "    </tr>\n",
       "    <tr>\n",
       "      <th>4955</th>\n",
       "      <td>merc</td>\n",
       "      <td>GL Class</td>\n",
       "      <td>2015</td>\n",
       "      <td>Automatic</td>\n",
       "      <td>24314</td>\n",
       "      <td>Diesel</td>\n",
       "      <td>4.16</td>\n",
       "      <td>2.1</td>\n",
       "      <td>125.0</td>\n",
       "      <td>17999</td>\n",
       "    </tr>\n",
       "    <tr>\n",
       "      <th>4956</th>\n",
       "      <td>bmw</td>\n",
       "      <td>6 Series</td>\n",
       "      <td>2017</td>\n",
       "      <td>Automatic</td>\n",
       "      <td>18000</td>\n",
       "      <td>Diesel</td>\n",
       "      <td>4.58</td>\n",
       "      <td>3.0</td>\n",
       "      <td>145.0</td>\n",
       "      <td>28900</td>\n",
       "    </tr>\n",
       "    <tr>\n",
       "      <th>4957</th>\n",
       "      <td>vw</td>\n",
       "      <td>CC</td>\n",
       "      <td>2015</td>\n",
       "      <td>Manual</td>\n",
       "      <td>84932</td>\n",
       "      <td>Diesel</td>\n",
       "      <td>3.91</td>\n",
       "      <td>2.0</td>\n",
       "      <td>30.0</td>\n",
       "      <td>8998</td>\n",
       "    </tr>\n",
       "    <tr>\n",
       "      <th>4958</th>\n",
       "      <td>audi</td>\n",
       "      <td>A7</td>\n",
       "      <td>2017</td>\n",
       "      <td>Semi-Auto</td>\n",
       "      <td>30150</td>\n",
       "      <td>Diesel</td>\n",
       "      <td>3.75</td>\n",
       "      <td>3.0</td>\n",
       "      <td>145.0</td>\n",
       "      <td>23198</td>\n",
       "    </tr>\n",
       "    <tr>\n",
       "      <th>4959</th>\n",
       "      <td>merc</td>\n",
       "      <td>SLK</td>\n",
       "      <td>2014</td>\n",
       "      <td>Automatic</td>\n",
       "      <td>40230</td>\n",
       "      <td>Diesel</td>\n",
       "      <td>4.16</td>\n",
       "      <td>3.0</td>\n",
       "      <td>150.0</td>\n",
       "      <td>14900</td>\n",
       "    </tr>\n",
       "  </tbody>\n",
       "</table>\n",
       "<p>4960 rows × 10 columns</p>\n",
       "</div>"
      ],
      "text/plain": [
       "         marca     modelo  fecha tipo_cambio  total_km tipo_combustible  \\\n",
       "0       hyundi   Santa Fe   2019   Semi-Auto      4223           Diesel   \n",
       "1     vauxhall        GTC   2015      Manual     47870           Diesel   \n",
       "2         audi        RS4   2019   Automatic      5151           Petrol   \n",
       "3           vw   Scirocco   2016   Automatic     20423           Diesel   \n",
       "4        skoda      Scala   2020   Semi-Auto      3569           Petrol   \n",
       "...        ...        ...    ...         ...       ...              ...   \n",
       "4955      merc   GL Class   2015   Automatic     24314           Diesel   \n",
       "4956       bmw   6 Series   2017   Automatic     18000           Diesel   \n",
       "4957        vw         CC   2015      Manual     84932           Diesel   \n",
       "4958      audi         A7   2017   Semi-Auto     30150           Diesel   \n",
       "4959      merc        SLK   2014   Automatic     40230           Diesel   \n",
       "\n",
       "      consumo  tipo_motor   tasa  precio  \n",
       "0        5.91         2.2  145.0   31995  \n",
       "1        3.91         2.0  125.0    7700  \n",
       "2        8.08         2.9  145.0   58990  \n",
       "3        4.08         2.0   30.0   12999  \n",
       "4        4.99         1.0  145.0   16990  \n",
       "...       ...         ...    ...     ...  \n",
       "4955     4.16         2.1  125.0   17999  \n",
       "4956     4.58         3.0  145.0   28900  \n",
       "4957     3.91         2.0   30.0    8998  \n",
       "4958     3.75         3.0  145.0   23198  \n",
       "4959     4.16         3.0  150.0   14900  \n",
       "\n",
       "[4960 rows x 10 columns]"
      ]
     },
     "metadata": {},
     "output_type": "display_data"
    },
    {
     "data": {
      "text/html": [
       "<div>\n",
       "<style scoped>\n",
       "    .dataframe tbody tr th:only-of-type {\n",
       "        vertical-align: middle;\n",
       "    }\n",
       "\n",
       "    .dataframe tbody tr th {\n",
       "        vertical-align: top;\n",
       "    }\n",
       "\n",
       "    .dataframe thead th {\n",
       "        text-align: right;\n",
       "    }\n",
       "</style>\n",
       "<table border=\"1\" class=\"dataframe\">\n",
       "  <thead>\n",
       "    <tr style=\"text-align: right;\">\n",
       "      <th></th>\n",
       "      <th>marca</th>\n",
       "      <th>modelo</th>\n",
       "      <th>fecha</th>\n",
       "      <th>tipo_cambio</th>\n",
       "      <th>total_km</th>\n",
       "      <th>tipo_combustible</th>\n",
       "      <th>consumo</th>\n",
       "      <th>tipo_motor</th>\n",
       "      <th>tasa</th>\n",
       "      <th>precio</th>\n",
       "    </tr>\n",
       "  </thead>\n",
       "  <tbody>\n",
       "    <tr>\n",
       "      <th>0</th>\n",
       "      <td>merc</td>\n",
       "      <td>GLS Class</td>\n",
       "      <td>2017</td>\n",
       "      <td>Automatic</td>\n",
       "      <td>12046</td>\n",
       "      <td>Diesel</td>\n",
       "      <td>6.32</td>\n",
       "      <td>3.0</td>\n",
       "      <td>150.0</td>\n",
       "      <td>38000</td>\n",
       "    </tr>\n",
       "    <tr>\n",
       "      <th>1</th>\n",
       "      <td>vw</td>\n",
       "      <td>Amarok</td>\n",
       "      <td>2017</td>\n",
       "      <td>Automatic</td>\n",
       "      <td>37683</td>\n",
       "      <td>Diesel</td>\n",
       "      <td>6.50</td>\n",
       "      <td>3.0</td>\n",
       "      <td>260.0</td>\n",
       "      <td>23495</td>\n",
       "    </tr>\n",
       "    <tr>\n",
       "      <th>2</th>\n",
       "      <td>merc</td>\n",
       "      <td>GLS Class</td>\n",
       "      <td>2019</td>\n",
       "      <td>Automatic</td>\n",
       "      <td>10000</td>\n",
       "      <td>Diesel</td>\n",
       "      <td>6.92</td>\n",
       "      <td>3.0</td>\n",
       "      <td>145.0</td>\n",
       "      <td>59999</td>\n",
       "    </tr>\n",
       "    <tr>\n",
       "      <th>3</th>\n",
       "      <td>skoda</td>\n",
       "      <td>Scala</td>\n",
       "      <td>2019</td>\n",
       "      <td>Manual</td>\n",
       "      <td>3257</td>\n",
       "      <td>Petrol</td>\n",
       "      <td>4.74</td>\n",
       "      <td>1.0</td>\n",
       "      <td>145.0</td>\n",
       "      <td>16713</td>\n",
       "    </tr>\n",
       "    <tr>\n",
       "      <th>4</th>\n",
       "      <td>audi</td>\n",
       "      <td>RS6</td>\n",
       "      <td>2015</td>\n",
       "      <td>Semi-Auto</td>\n",
       "      <td>20982</td>\n",
       "      <td>Petrol</td>\n",
       "      <td>8.00</td>\n",
       "      <td>4.0</td>\n",
       "      <td>325.0</td>\n",
       "      <td>46000</td>\n",
       "    </tr>\n",
       "    <tr>\n",
       "      <th>...</th>\n",
       "      <td>...</td>\n",
       "      <td>...</td>\n",
       "      <td>...</td>\n",
       "      <td>...</td>\n",
       "      <td>...</td>\n",
       "      <td>...</td>\n",
       "      <td>...</td>\n",
       "      <td>...</td>\n",
       "      <td>...</td>\n",
       "      <td>...</td>\n",
       "    </tr>\n",
       "    <tr>\n",
       "      <th>2667</th>\n",
       "      <td>audi</td>\n",
       "      <td>A7</td>\n",
       "      <td>2015</td>\n",
       "      <td>Semi-Auto</td>\n",
       "      <td>21100</td>\n",
       "      <td>Petrol</td>\n",
       "      <td>7.92</td>\n",
       "      <td>4.0</td>\n",
       "      <td>325.0</td>\n",
       "      <td>28990</td>\n",
       "    </tr>\n",
       "    <tr>\n",
       "      <th>2668</th>\n",
       "      <td>merc</td>\n",
       "      <td>CLS Class</td>\n",
       "      <td>2015</td>\n",
       "      <td>Automatic</td>\n",
       "      <td>60972</td>\n",
       "      <td>Diesel</td>\n",
       "      <td>4.50</td>\n",
       "      <td>3.0</td>\n",
       "      <td>160.0</td>\n",
       "      <td>17450</td>\n",
       "    </tr>\n",
       "    <tr>\n",
       "      <th>2669</th>\n",
       "      <td>ford</td>\n",
       "      <td>Puma</td>\n",
       "      <td>2020</td>\n",
       "      <td>Manual</td>\n",
       "      <td>4111</td>\n",
       "      <td>Petrol</td>\n",
       "      <td>4.67</td>\n",
       "      <td>1.0</td>\n",
       "      <td>145.0</td>\n",
       "      <td>21995</td>\n",
       "    </tr>\n",
       "    <tr>\n",
       "      <th>2670</th>\n",
       "      <td>merc</td>\n",
       "      <td>CLA Class</td>\n",
       "      <td>2016</td>\n",
       "      <td>Automatic</td>\n",
       "      <td>25726</td>\n",
       "      <td>Petrol</td>\n",
       "      <td>5.67</td>\n",
       "      <td>2.0</td>\n",
       "      <td>200.0</td>\n",
       "      <td>18700</td>\n",
       "    </tr>\n",
       "    <tr>\n",
       "      <th>2671</th>\n",
       "      <td>vauxhall</td>\n",
       "      <td>Antara</td>\n",
       "      <td>2007</td>\n",
       "      <td>Automatic</td>\n",
       "      <td>99500</td>\n",
       "      <td>Diesel</td>\n",
       "      <td>7.17</td>\n",
       "      <td>2.0</td>\n",
       "      <td>565.0</td>\n",
       "      <td>2999</td>\n",
       "    </tr>\n",
       "  </tbody>\n",
       "</table>\n",
       "<p>2672 rows × 10 columns</p>\n",
       "</div>"
      ],
      "text/plain": [
       "         marca      modelo  fecha tipo_cambio  total_km tipo_combustible  \\\n",
       "0         merc   GLS Class   2017   Automatic     12046           Diesel   \n",
       "1           vw      Amarok   2017   Automatic     37683           Diesel   \n",
       "2         merc   GLS Class   2019   Automatic     10000           Diesel   \n",
       "3        skoda       Scala   2019      Manual      3257           Petrol   \n",
       "4         audi         RS6   2015   Semi-Auto     20982           Petrol   \n",
       "...        ...         ...    ...         ...       ...              ...   \n",
       "2667      audi          A7   2015   Semi-Auto     21100           Petrol   \n",
       "2668      merc   CLS Class   2015   Automatic     60972           Diesel   \n",
       "2669      ford        Puma   2020      Manual      4111           Petrol   \n",
       "2670      merc   CLA Class   2016   Automatic     25726           Petrol   \n",
       "2671  vauxhall      Antara   2007   Automatic     99500           Diesel   \n",
       "\n",
       "      consumo  tipo_motor   tasa  precio  \n",
       "0        6.32         3.0  150.0   38000  \n",
       "1        6.50         3.0  260.0   23495  \n",
       "2        6.92         3.0  145.0   59999  \n",
       "3        4.74         1.0  145.0   16713  \n",
       "4        8.00         4.0  325.0   46000  \n",
       "...       ...         ...    ...     ...  \n",
       "2667     7.92         4.0  325.0   28990  \n",
       "2668     4.50         3.0  160.0   17450  \n",
       "2669     4.67         1.0  145.0   21995  \n",
       "2670     5.67         2.0  200.0   18700  \n",
       "2671     7.17         2.0  565.0    2999  \n",
       "\n",
       "[2672 rows x 10 columns]"
      ]
     },
     "metadata": {},
     "output_type": "display_data"
    }
   ],
   "source": [
    "# Eliminamos la columa que hace referencia al id dado que no contiene informacion relevante\n",
    "data_train=data_train.drop(columns=['ID'])\n",
    "data_test=data_test.drop(columns=['ID'])\n",
    "display(data_train)\n",
    "display(data_test)"
   ]
  },
  {
   "cell_type": "code",
   "execution_count": 213,
   "metadata": {},
   "outputs": [
    {
     "data": {
      "text/html": [
       "<div>\n",
       "<style scoped>\n",
       "    .dataframe tbody tr th:only-of-type {\n",
       "        vertical-align: middle;\n",
       "    }\n",
       "\n",
       "    .dataframe tbody tr th {\n",
       "        vertical-align: top;\n",
       "    }\n",
       "\n",
       "    .dataframe thead th {\n",
       "        text-align: right;\n",
       "    }\n",
       "</style>\n",
       "<table border=\"1\" class=\"dataframe\">\n",
       "  <thead>\n",
       "    <tr style=\"text-align: right;\">\n",
       "      <th></th>\n",
       "      <th>marca</th>\n",
       "      <th>modelo</th>\n",
       "      <th>fecha</th>\n",
       "      <th>tipo_cambio</th>\n",
       "      <th>total_km</th>\n",
       "      <th>tipo_combustible</th>\n",
       "      <th>consumo</th>\n",
       "      <th>tipo_motor</th>\n",
       "      <th>tasa</th>\n",
       "    </tr>\n",
       "  </thead>\n",
       "  <tbody>\n",
       "    <tr>\n",
       "      <th>0</th>\n",
       "      <td>audi</td>\n",
       "      <td>A7</td>\n",
       "      <td>2020</td>\n",
       "      <td>Automatic</td>\n",
       "      <td>5000</td>\n",
       "      <td>Hybrid</td>\n",
       "      <td>5.5</td>\n",
       "      <td>4.0</td>\n",
       "      <td>200.0</td>\n",
       "    </tr>\n",
       "  </tbody>\n",
       "</table>\n",
       "</div>"
      ],
      "text/plain": [
       "  marca modelo fecha tipo_cambio  total_km tipo_combustible  consumo  \\\n",
       "0  audi     A7  2020   Automatic      5000           Hybrid      5.5   \n",
       "\n",
       "   tipo_motor   tasa  \n",
       "0         4.0  200.0  "
      ]
     },
     "execution_count": 213,
     "metadata": {},
     "output_type": "execute_result"
    }
   ],
   "source": [
    "#Creacion del dato para predecir el resultado (ultimo apartado)\n",
    "data_pred={'marca':['audi'],'modelo':[' A7'],'fecha':['2020'],'tipo_cambio':['Automatic'],'total_km':[5000],'tipo_combustible':['Hybrid'],'consumo':[5.50],'tipo_motor':[4.0],'tasa':[200.0]}\n",
    "data_pred=pd.DataFrame(data_pred)\n",
    "data_pred"
   ]
  },
  {
   "attachments": {},
   "cell_type": "markdown",
   "metadata": {},
   "source": [
    "### Preprocesamiento de los datos"
   ]
  },
  {
   "cell_type": "code",
   "execution_count": 214,
   "metadata": {},
   "outputs": [
    {
     "name": "stdout",
     "output_type": "stream",
     "text": [
      "<class 'pandas.core.frame.DataFrame'>\n",
      "RangeIndex: 4960 entries, 0 to 4959\n",
      "Data columns (total 10 columns):\n",
      " #   Column            Non-Null Count  Dtype  \n",
      "---  ------            --------------  -----  \n",
      " 0   marca             4960 non-null   object \n",
      " 1   modelo            4960 non-null   object \n",
      " 2   fecha             4960 non-null   int64  \n",
      " 3   tipo_cambio       4960 non-null   object \n",
      " 4   total_km          4960 non-null   int64  \n",
      " 5   tipo_combustible  4960 non-null   object \n",
      " 6   consumo           4960 non-null   float64\n",
      " 7   tipo_motor        4960 non-null   float64\n",
      " 8   tasa              4960 non-null   float64\n",
      " 9   precio            4960 non-null   int64  \n",
      "dtypes: float64(3), int64(3), object(4)\n",
      "memory usage: 387.6+ KB\n"
     ]
    }
   ],
   "source": [
    "data_train.info() # Comprobacion de que no hay valores nulos para el train"
   ]
  },
  {
   "cell_type": "code",
   "execution_count": 215,
   "metadata": {},
   "outputs": [
    {
     "name": "stdout",
     "output_type": "stream",
     "text": [
      "<class 'pandas.core.frame.DataFrame'>\n",
      "RangeIndex: 2672 entries, 0 to 2671\n",
      "Data columns (total 10 columns):\n",
      " #   Column            Non-Null Count  Dtype  \n",
      "---  ------            --------------  -----  \n",
      " 0   marca             2672 non-null   object \n",
      " 1   modelo            2672 non-null   object \n",
      " 2   fecha             2672 non-null   int64  \n",
      " 3   tipo_cambio       2672 non-null   object \n",
      " 4   total_km          2672 non-null   int64  \n",
      " 5   tipo_combustible  2672 non-null   object \n",
      " 6   consumo           2672 non-null   float64\n",
      " 7   tipo_motor        2672 non-null   float64\n",
      " 8   tasa              2672 non-null   float64\n",
      " 9   precio            2672 non-null   int64  \n",
      "dtypes: float64(3), int64(3), object(4)\n",
      "memory usage: 208.9+ KB\n"
     ]
    }
   ],
   "source": [
    "data_test.info() # Comprobacion de que no hay valores nulos para el test"
   ]
  },
  {
   "cell_type": "code",
   "execution_count": 216,
   "metadata": {},
   "outputs": [
    {
     "data": {
      "text/plain": [
       "marca               hyundivauxhallaudivwskodamerctoyotabmwtoyotafo...\n",
       "modelo               Santa Fe GTC RS4 Scirocco Scala V Class Prius...\n",
       "fecha                                                         9940458\n",
       "tipo_cambio         Semi-AutoManualAutomaticAutomaticSemi-AutoAuto...\n",
       "total_km                                                    123468208\n",
       "tipo_combustible    DieselDieselPetrolDieselPetrolDieselHybridPetr...\n",
       "consumo                                                       26495.1\n",
       "tipo_motor                                                    10476.5\n",
       "tasa                                                           749780\n",
       "precio                                                      115718417\n",
       "dtype: object"
      ]
     },
     "metadata": {},
     "output_type": "display_data"
    },
    {
     "data": {
      "text/plain": [
       "marca               mercvwmercskodaaudivauxhallmercmerctoyotavwvwv...\n",
       "modelo               GLS Class Amarok GLS Class Scala RS6 Combo Li...\n",
       "fecha                                                         5372529\n",
       "tipo_cambio         AutomaticAutomaticAutomaticManualSemi-AutoSemi...\n",
       "total_km                                                     65687617\n",
       "tipo_combustible    DieselDieselDieselPetrolPetrolPetrolDieselDies...\n",
       "consumo                                                       14483.1\n",
       "tipo_motor                                                     5687.7\n",
       "tasa                                                           408125\n",
       "precio                                                       63316576\n",
       "dtype: object"
      ]
     },
     "metadata": {},
     "output_type": "display_data"
    },
    {
     "name": "stdout",
     "output_type": "stream",
     "text": [
      "No se eliminan los duplicados dado que reducen la precisión del modelo\n"
     ]
    }
   ],
   "source": [
    "display(data_train.drop_duplicates().sum())\n",
    "display(data_test.drop_duplicates().sum())\n",
    "print('No se eliminan los duplicados dado que reducen la precisión del modelo')"
   ]
  },
  {
   "cell_type": "code",
   "execution_count": 217,
   "metadata": {},
   "outputs": [
    {
     "data": {
      "text/plain": [
       "'Data_train'"
      ]
     },
     "metadata": {},
     "output_type": "display_data"
    },
    {
     "data": {
      "text/html": [
       "<div>\n",
       "<style scoped>\n",
       "    .dataframe tbody tr th:only-of-type {\n",
       "        vertical-align: middle;\n",
       "    }\n",
       "\n",
       "    .dataframe tbody tr th {\n",
       "        vertical-align: top;\n",
       "    }\n",
       "\n",
       "    .dataframe thead th {\n",
       "        text-align: right;\n",
       "    }\n",
       "</style>\n",
       "<table border=\"1\" class=\"dataframe\">\n",
       "  <thead>\n",
       "    <tr style=\"text-align: right;\">\n",
       "      <th></th>\n",
       "      <th>marca</th>\n",
       "      <th>modelo</th>\n",
       "      <th>fecha</th>\n",
       "      <th>tipo_cambio</th>\n",
       "      <th>total_km</th>\n",
       "      <th>tipo_combustible</th>\n",
       "      <th>consumo</th>\n",
       "      <th>tipo_motor</th>\n",
       "      <th>tasa</th>\n",
       "      <th>precio</th>\n",
       "    </tr>\n",
       "  </thead>\n",
       "  <tbody>\n",
       "    <tr>\n",
       "      <th>0</th>\n",
       "      <td>hyundi</td>\n",
       "      <td>Santa Fe</td>\n",
       "      <td>2019</td>\n",
       "      <td>Semi-Auto</td>\n",
       "      <td>4223</td>\n",
       "      <td>Diesel</td>\n",
       "      <td>5.91</td>\n",
       "      <td>2.2</td>\n",
       "      <td>145.0</td>\n",
       "      <td>31995</td>\n",
       "    </tr>\n",
       "    <tr>\n",
       "      <th>1</th>\n",
       "      <td>vauxhall</td>\n",
       "      <td>GTC</td>\n",
       "      <td>2015</td>\n",
       "      <td>Manual</td>\n",
       "      <td>47870</td>\n",
       "      <td>Diesel</td>\n",
       "      <td>3.91</td>\n",
       "      <td>2.0</td>\n",
       "      <td>125.0</td>\n",
       "      <td>7700</td>\n",
       "    </tr>\n",
       "    <tr>\n",
       "      <th>2</th>\n",
       "      <td>audi</td>\n",
       "      <td>RS4</td>\n",
       "      <td>2019</td>\n",
       "      <td>Automatic</td>\n",
       "      <td>5151</td>\n",
       "      <td>Petrol</td>\n",
       "      <td>8.08</td>\n",
       "      <td>2.9</td>\n",
       "      <td>145.0</td>\n",
       "      <td>58990</td>\n",
       "    </tr>\n",
       "    <tr>\n",
       "      <th>3</th>\n",
       "      <td>vw</td>\n",
       "      <td>Scirocco</td>\n",
       "      <td>2016</td>\n",
       "      <td>Automatic</td>\n",
       "      <td>20423</td>\n",
       "      <td>Diesel</td>\n",
       "      <td>4.08</td>\n",
       "      <td>2.0</td>\n",
       "      <td>30.0</td>\n",
       "      <td>12999</td>\n",
       "    </tr>\n",
       "    <tr>\n",
       "      <th>4</th>\n",
       "      <td>skoda</td>\n",
       "      <td>Scala</td>\n",
       "      <td>2020</td>\n",
       "      <td>Semi-Auto</td>\n",
       "      <td>3569</td>\n",
       "      <td>Petrol</td>\n",
       "      <td>4.99</td>\n",
       "      <td>1.0</td>\n",
       "      <td>145.0</td>\n",
       "      <td>16990</td>\n",
       "    </tr>\n",
       "    <tr>\n",
       "      <th>...</th>\n",
       "      <td>...</td>\n",
       "      <td>...</td>\n",
       "      <td>...</td>\n",
       "      <td>...</td>\n",
       "      <td>...</td>\n",
       "      <td>...</td>\n",
       "      <td>...</td>\n",
       "      <td>...</td>\n",
       "      <td>...</td>\n",
       "      <td>...</td>\n",
       "    </tr>\n",
       "    <tr>\n",
       "      <th>4955</th>\n",
       "      <td>merc</td>\n",
       "      <td>GL Class</td>\n",
       "      <td>2015</td>\n",
       "      <td>Automatic</td>\n",
       "      <td>24314</td>\n",
       "      <td>Diesel</td>\n",
       "      <td>4.16</td>\n",
       "      <td>2.1</td>\n",
       "      <td>125.0</td>\n",
       "      <td>17999</td>\n",
       "    </tr>\n",
       "    <tr>\n",
       "      <th>4956</th>\n",
       "      <td>bmw</td>\n",
       "      <td>6 Series</td>\n",
       "      <td>2017</td>\n",
       "      <td>Automatic</td>\n",
       "      <td>18000</td>\n",
       "      <td>Diesel</td>\n",
       "      <td>4.58</td>\n",
       "      <td>3.0</td>\n",
       "      <td>145.0</td>\n",
       "      <td>28900</td>\n",
       "    </tr>\n",
       "    <tr>\n",
       "      <th>4957</th>\n",
       "      <td>vw</td>\n",
       "      <td>CC</td>\n",
       "      <td>2015</td>\n",
       "      <td>Manual</td>\n",
       "      <td>84932</td>\n",
       "      <td>Diesel</td>\n",
       "      <td>3.91</td>\n",
       "      <td>2.0</td>\n",
       "      <td>30.0</td>\n",
       "      <td>8998</td>\n",
       "    </tr>\n",
       "    <tr>\n",
       "      <th>4958</th>\n",
       "      <td>audi</td>\n",
       "      <td>A7</td>\n",
       "      <td>2017</td>\n",
       "      <td>Semi-Auto</td>\n",
       "      <td>30150</td>\n",
       "      <td>Diesel</td>\n",
       "      <td>3.75</td>\n",
       "      <td>3.0</td>\n",
       "      <td>145.0</td>\n",
       "      <td>23198</td>\n",
       "    </tr>\n",
       "    <tr>\n",
       "      <th>4959</th>\n",
       "      <td>merc</td>\n",
       "      <td>SLK</td>\n",
       "      <td>2014</td>\n",
       "      <td>Automatic</td>\n",
       "      <td>40230</td>\n",
       "      <td>Diesel</td>\n",
       "      <td>4.16</td>\n",
       "      <td>3.0</td>\n",
       "      <td>150.0</td>\n",
       "      <td>14900</td>\n",
       "    </tr>\n",
       "  </tbody>\n",
       "</table>\n",
       "<p>4960 rows × 10 columns</p>\n",
       "</div>"
      ],
      "text/plain": [
       "         marca     modelo  fecha tipo_cambio  total_km tipo_combustible  \\\n",
       "0       hyundi   Santa Fe   2019   Semi-Auto      4223           Diesel   \n",
       "1     vauxhall        GTC   2015      Manual     47870           Diesel   \n",
       "2         audi        RS4   2019   Automatic      5151           Petrol   \n",
       "3           vw   Scirocco   2016   Automatic     20423           Diesel   \n",
       "4        skoda      Scala   2020   Semi-Auto      3569           Petrol   \n",
       "...        ...        ...    ...         ...       ...              ...   \n",
       "4955      merc   GL Class   2015   Automatic     24314           Diesel   \n",
       "4956       bmw   6 Series   2017   Automatic     18000           Diesel   \n",
       "4957        vw         CC   2015      Manual     84932           Diesel   \n",
       "4958      audi         A7   2017   Semi-Auto     30150           Diesel   \n",
       "4959      merc        SLK   2014   Automatic     40230           Diesel   \n",
       "\n",
       "      consumo  tipo_motor   tasa  precio  \n",
       "0        5.91         2.2  145.0   31995  \n",
       "1        3.91         2.0  125.0    7700  \n",
       "2        8.08         2.9  145.0   58990  \n",
       "3        4.08         2.0   30.0   12999  \n",
       "4        4.99         1.0  145.0   16990  \n",
       "...       ...         ...    ...     ...  \n",
       "4955     4.16         2.1  125.0   17999  \n",
       "4956     4.58         3.0  145.0   28900  \n",
       "4957     3.91         2.0   30.0    8998  \n",
       "4958     3.75         3.0  145.0   23198  \n",
       "4959     4.16         3.0  150.0   14900  \n",
       "\n",
       "[4960 rows x 10 columns]"
      ]
     },
     "metadata": {},
     "output_type": "display_data"
    },
    {
     "data": {
      "text/plain": [
       "'Data_test'"
      ]
     },
     "metadata": {},
     "output_type": "display_data"
    },
    {
     "data": {
      "text/html": [
       "<div>\n",
       "<style scoped>\n",
       "    .dataframe tbody tr th:only-of-type {\n",
       "        vertical-align: middle;\n",
       "    }\n",
       "\n",
       "    .dataframe tbody tr th {\n",
       "        vertical-align: top;\n",
       "    }\n",
       "\n",
       "    .dataframe thead th {\n",
       "        text-align: right;\n",
       "    }\n",
       "</style>\n",
       "<table border=\"1\" class=\"dataframe\">\n",
       "  <thead>\n",
       "    <tr style=\"text-align: right;\">\n",
       "      <th></th>\n",
       "      <th>marca</th>\n",
       "      <th>modelo</th>\n",
       "      <th>fecha</th>\n",
       "      <th>tipo_cambio</th>\n",
       "      <th>total_km</th>\n",
       "      <th>tipo_combustible</th>\n",
       "      <th>consumo</th>\n",
       "      <th>tipo_motor</th>\n",
       "      <th>tasa</th>\n",
       "      <th>precio</th>\n",
       "    </tr>\n",
       "  </thead>\n",
       "  <tbody>\n",
       "    <tr>\n",
       "      <th>0</th>\n",
       "      <td>merc</td>\n",
       "      <td>GLS Class</td>\n",
       "      <td>2017</td>\n",
       "      <td>Automatic</td>\n",
       "      <td>12046</td>\n",
       "      <td>Diesel</td>\n",
       "      <td>6.32</td>\n",
       "      <td>3.0</td>\n",
       "      <td>150.0</td>\n",
       "      <td>38000</td>\n",
       "    </tr>\n",
       "    <tr>\n",
       "      <th>1</th>\n",
       "      <td>vw</td>\n",
       "      <td>Amarok</td>\n",
       "      <td>2017</td>\n",
       "      <td>Automatic</td>\n",
       "      <td>37683</td>\n",
       "      <td>Diesel</td>\n",
       "      <td>6.50</td>\n",
       "      <td>3.0</td>\n",
       "      <td>260.0</td>\n",
       "      <td>23495</td>\n",
       "    </tr>\n",
       "    <tr>\n",
       "      <th>2</th>\n",
       "      <td>merc</td>\n",
       "      <td>GLS Class</td>\n",
       "      <td>2019</td>\n",
       "      <td>Automatic</td>\n",
       "      <td>10000</td>\n",
       "      <td>Diesel</td>\n",
       "      <td>6.92</td>\n",
       "      <td>3.0</td>\n",
       "      <td>145.0</td>\n",
       "      <td>59999</td>\n",
       "    </tr>\n",
       "    <tr>\n",
       "      <th>3</th>\n",
       "      <td>skoda</td>\n",
       "      <td>Scala</td>\n",
       "      <td>2019</td>\n",
       "      <td>Manual</td>\n",
       "      <td>3257</td>\n",
       "      <td>Petrol</td>\n",
       "      <td>4.74</td>\n",
       "      <td>1.0</td>\n",
       "      <td>145.0</td>\n",
       "      <td>16713</td>\n",
       "    </tr>\n",
       "    <tr>\n",
       "      <th>4</th>\n",
       "      <td>audi</td>\n",
       "      <td>RS6</td>\n",
       "      <td>2015</td>\n",
       "      <td>Semi-Auto</td>\n",
       "      <td>20982</td>\n",
       "      <td>Petrol</td>\n",
       "      <td>8.00</td>\n",
       "      <td>4.0</td>\n",
       "      <td>325.0</td>\n",
       "      <td>46000</td>\n",
       "    </tr>\n",
       "    <tr>\n",
       "      <th>...</th>\n",
       "      <td>...</td>\n",
       "      <td>...</td>\n",
       "      <td>...</td>\n",
       "      <td>...</td>\n",
       "      <td>...</td>\n",
       "      <td>...</td>\n",
       "      <td>...</td>\n",
       "      <td>...</td>\n",
       "      <td>...</td>\n",
       "      <td>...</td>\n",
       "    </tr>\n",
       "    <tr>\n",
       "      <th>2667</th>\n",
       "      <td>audi</td>\n",
       "      <td>A7</td>\n",
       "      <td>2015</td>\n",
       "      <td>Semi-Auto</td>\n",
       "      <td>21100</td>\n",
       "      <td>Petrol</td>\n",
       "      <td>7.92</td>\n",
       "      <td>4.0</td>\n",
       "      <td>325.0</td>\n",
       "      <td>28990</td>\n",
       "    </tr>\n",
       "    <tr>\n",
       "      <th>2668</th>\n",
       "      <td>merc</td>\n",
       "      <td>CLS Class</td>\n",
       "      <td>2015</td>\n",
       "      <td>Automatic</td>\n",
       "      <td>60972</td>\n",
       "      <td>Diesel</td>\n",
       "      <td>4.50</td>\n",
       "      <td>3.0</td>\n",
       "      <td>160.0</td>\n",
       "      <td>17450</td>\n",
       "    </tr>\n",
       "    <tr>\n",
       "      <th>2669</th>\n",
       "      <td>ford</td>\n",
       "      <td>Puma</td>\n",
       "      <td>2020</td>\n",
       "      <td>Manual</td>\n",
       "      <td>4111</td>\n",
       "      <td>Petrol</td>\n",
       "      <td>4.67</td>\n",
       "      <td>1.0</td>\n",
       "      <td>145.0</td>\n",
       "      <td>21995</td>\n",
       "    </tr>\n",
       "    <tr>\n",
       "      <th>2670</th>\n",
       "      <td>merc</td>\n",
       "      <td>CLA Class</td>\n",
       "      <td>2016</td>\n",
       "      <td>Automatic</td>\n",
       "      <td>25726</td>\n",
       "      <td>Petrol</td>\n",
       "      <td>5.67</td>\n",
       "      <td>2.0</td>\n",
       "      <td>200.0</td>\n",
       "      <td>18700</td>\n",
       "    </tr>\n",
       "    <tr>\n",
       "      <th>2671</th>\n",
       "      <td>vauxhall</td>\n",
       "      <td>Antara</td>\n",
       "      <td>2007</td>\n",
       "      <td>Automatic</td>\n",
       "      <td>99500</td>\n",
       "      <td>Diesel</td>\n",
       "      <td>7.17</td>\n",
       "      <td>2.0</td>\n",
       "      <td>565.0</td>\n",
       "      <td>2999</td>\n",
       "    </tr>\n",
       "  </tbody>\n",
       "</table>\n",
       "<p>2672 rows × 10 columns</p>\n",
       "</div>"
      ],
      "text/plain": [
       "         marca      modelo  fecha tipo_cambio  total_km tipo_combustible  \\\n",
       "0         merc   GLS Class   2017   Automatic     12046           Diesel   \n",
       "1           vw      Amarok   2017   Automatic     37683           Diesel   \n",
       "2         merc   GLS Class   2019   Automatic     10000           Diesel   \n",
       "3        skoda       Scala   2019      Manual      3257           Petrol   \n",
       "4         audi         RS6   2015   Semi-Auto     20982           Petrol   \n",
       "...        ...         ...    ...         ...       ...              ...   \n",
       "2667      audi          A7   2015   Semi-Auto     21100           Petrol   \n",
       "2668      merc   CLS Class   2015   Automatic     60972           Diesel   \n",
       "2669      ford        Puma   2020      Manual      4111           Petrol   \n",
       "2670      merc   CLA Class   2016   Automatic     25726           Petrol   \n",
       "2671  vauxhall      Antara   2007   Automatic     99500           Diesel   \n",
       "\n",
       "      consumo  tipo_motor   tasa  precio  \n",
       "0        6.32         3.0  150.0   38000  \n",
       "1        6.50         3.0  260.0   23495  \n",
       "2        6.92         3.0  145.0   59999  \n",
       "3        4.74         1.0  145.0   16713  \n",
       "4        8.00         4.0  325.0   46000  \n",
       "...       ...         ...    ...     ...  \n",
       "2667     7.92         4.0  325.0   28990  \n",
       "2668     4.50         3.0  160.0   17450  \n",
       "2669     4.67         1.0  145.0   21995  \n",
       "2670     5.67         2.0  200.0   18700  \n",
       "2671     7.17         2.0  565.0    2999  \n",
       "\n",
       "[2672 rows x 10 columns]"
      ]
     },
     "metadata": {},
     "output_type": "display_data"
    }
   ],
   "source": [
    "display('Data_train',data_train)\n",
    "display('Data_test',data_test)"
   ]
  },
  {
   "attachments": {},
   "cell_type": "markdown",
   "metadata": {},
   "source": [
    "## 1. Representar gráficamente la distribución de la variable precio en el conjunto de entrenamiento"
   ]
  },
  {
   "cell_type": "code",
   "execution_count": 218,
   "metadata": {},
   "outputs": [],
   "source": [
    "#Funcion que indica que rows tiene un valor que es outlier\n",
    "#para ello se realiza de la misma forma que lo reliza eel boxplot\n",
    "#,es decir, con el rango intercuartilico.\n",
    "def detectaroutliers(dataframe):\n",
    "    #Creamos el describe para utilizar los datos de los cuartiles\n",
    "    describee=dataframe.describe()\n",
    "    #Primer cuartil\n",
    "    cuartil1 = describee['25%']\n",
    "    #Tercer cuartil\n",
    "    cuartil3 = describee['75%']\n",
    "    #calculamos el rango intercuartilico\n",
    "    iqr = cuartil3 - cuartil1\n",
    "    #miramos el rango intercuartilico por arriba y por abajo\n",
    "    #devuelve bools\n",
    "    outliers1=(dataframe < (cuartil1-1.5*iqr))|(dataframe > (cuartil3+1.5*iqr))\n",
    "    #seleccionamos solo los que son outliers\n",
    "    outliers1= outliers1[outliers1==True]\n",
    "    #pasamos a dataframe para manejar mejor los datos y coger el index que contiene las rows que son outliers\n",
    "    dataframeoutliers=outliers1.to_frame()\n",
    "    #cogemos los valores del index\n",
    "    array=dataframeoutliers.index.values\n",
    "    #Seleccionamos los valores de las rows que pasamos\n",
    "    array2=dataframe.loc[array].values\n",
    "    #Seleccionamos los valores que son unicos, es decir, que solo se queda con el valor una vez a pesar de que otra\n",
    "    #row tenga dicho valor\n",
    "    array2=np.unique(array2)\n",
    "    return array2"
   ]
  },
  {
   "cell_type": "code",
   "execution_count": 219,
   "metadata": {},
   "outputs": [
    {
     "data": {
      "text/plain": [
       "<AxesSubplot:ylabel='Frequency'>"
      ]
     },
     "execution_count": 219,
     "metadata": {},
     "output_type": "execute_result"
    },
    {
     "data": {
      "image/png": "[encoded data removed]",
      "text/plain": [
       "<Figure size 432x288 with 1 Axes>"
      ]
     },
     "metadata": {
      "needs_background": "light"
     },
     "output_type": "display_data"
    }
   ],
   "source": [
    "data_train['precio'].plot.hist()"
   ]
  },
  {
   "cell_type": "markdown",
   "metadata": {},
   "source": [
    "Con este gráfico podemos ver la frecuencia con la que se dan ciertos precios, podemos ver que el rango de los 20000 a los 40000 es el más común, sin embargo, no ocurre los mismo con el resto de precios"
   ]
  },
  {
   "cell_type": "code",
   "execution_count": 220,
   "metadata": {},
   "outputs": [
    {
     "data": {
      "text/plain": [
       "count      4960.000000\n",
       "mean      23469.943750\n",
       "std       16406.714563\n",
       "min         450.000000\n",
       "25%       12000.000000\n",
       "50%       18999.000000\n",
       "75%       30335.750000\n",
       "max      145000.000000\n",
       "Name: precio, dtype: float64"
      ]
     },
     "execution_count": 220,
     "metadata": {},
     "output_type": "execute_result"
    },
    {
     "data": {
      "image/png": "[encoded data removed]",
      "text/plain": [
       "<Figure size 432x288 with 1 Axes>"
      ]
     },
     "metadata": {
      "needs_background": "light"
     },
     "output_type": "display_data"
    }
   ],
   "source": [
    "data_train.boxplot(column=['precio'])\n",
    "data_train['precio'].describe()"
   ]
  },
  {
   "cell_type": "code",
   "execution_count": 221,
   "metadata": {},
   "outputs": [
    {
     "data": {
      "text/html": [
       "<div>\n",
       "<style scoped>\n",
       "    .dataframe tbody tr th:only-of-type {\n",
       "        vertical-align: middle;\n",
       "    }\n",
       "\n",
       "    .dataframe tbody tr th {\n",
       "        vertical-align: top;\n",
       "    }\n",
       "\n",
       "    .dataframe thead th {\n",
       "        text-align: right;\n",
       "    }\n",
       "</style>\n",
       "<table border=\"1\" class=\"dataframe\">\n",
       "  <thead>\n",
       "    <tr style=\"text-align: right;\">\n",
       "      <th></th>\n",
       "      <th>fecha</th>\n",
       "      <th>total_km</th>\n",
       "      <th>consumo</th>\n",
       "      <th>tipo_motor</th>\n",
       "      <th>tasa</th>\n",
       "      <th>precio</th>\n",
       "    </tr>\n",
       "  </thead>\n",
       "  <tbody>\n",
       "    <tr>\n",
       "      <th>count</th>\n",
       "      <td>4960.000000</td>\n",
       "      <td>4960.000000</td>\n",
       "      <td>4960.00000</td>\n",
       "      <td>4960.000000</td>\n",
       "      <td>4960.000000</td>\n",
       "      <td>4960.000000</td>\n",
       "    </tr>\n",
       "    <tr>\n",
       "      <th>mean</th>\n",
       "      <td>2016.737903</td>\n",
       "      <td>24956.286895</td>\n",
       "      <td>5.37672</td>\n",
       "      <td>2.124375</td>\n",
       "      <td>152.332661</td>\n",
       "      <td>23469.943750</td>\n",
       "    </tr>\n",
       "    <tr>\n",
       "      <th>std</th>\n",
       "      <td>2.884035</td>\n",
       "      <td>24443.333662</td>\n",
       "      <td>3.14126</td>\n",
       "      <td>0.789368</td>\n",
       "      <td>82.403844</td>\n",
       "      <td>16406.714563</td>\n",
       "    </tr>\n",
       "    <tr>\n",
       "      <th>min</th>\n",
       "      <td>1997.000000</td>\n",
       "      <td>1.000000</td>\n",
       "      <td>0.50000</td>\n",
       "      <td>0.000000</td>\n",
       "      <td>0.000000</td>\n",
       "      <td>450.000000</td>\n",
       "    </tr>\n",
       "    <tr>\n",
       "      <th>25%</th>\n",
       "      <td>2016.000000</td>\n",
       "      <td>5641.250000</td>\n",
       "      <td>4.33000</td>\n",
       "      <td>1.600000</td>\n",
       "      <td>145.000000</td>\n",
       "      <td>12000.000000</td>\n",
       "    </tr>\n",
       "    <tr>\n",
       "      <th>50%</th>\n",
       "      <td>2017.000000</td>\n",
       "      <td>19000.000000</td>\n",
       "      <td>4.99000</td>\n",
       "      <td>2.000000</td>\n",
       "      <td>145.000000</td>\n",
       "      <td>18999.000000</td>\n",
       "    </tr>\n",
       "    <tr>\n",
       "      <th>75%</th>\n",
       "      <td>2019.000000</td>\n",
       "      <td>36702.000000</td>\n",
       "      <td>6.08000</td>\n",
       "      <td>2.800000</td>\n",
       "      <td>150.000000</td>\n",
       "      <td>30335.750000</td>\n",
       "    </tr>\n",
       "    <tr>\n",
       "      <th>max</th>\n",
       "      <td>2020.000000</td>\n",
       "      <td>259000.000000</td>\n",
       "      <td>84.01000</td>\n",
       "      <td>6.600000</td>\n",
       "      <td>580.000000</td>\n",
       "      <td>145000.000000</td>\n",
       "    </tr>\n",
       "  </tbody>\n",
       "</table>\n",
       "</div>"
      ],
      "text/plain": [
       "             fecha       total_km     consumo   tipo_motor         tasa  \\\n",
       "count  4960.000000    4960.000000  4960.00000  4960.000000  4960.000000   \n",
       "mean   2016.737903   24956.286895     5.37672     2.124375   152.332661   \n",
       "std       2.884035   24443.333662     3.14126     0.789368    82.403844   \n",
       "min    1997.000000       1.000000     0.50000     0.000000     0.000000   \n",
       "25%    2016.000000    5641.250000     4.33000     1.600000   145.000000   \n",
       "50%    2017.000000   19000.000000     4.99000     2.000000   145.000000   \n",
       "75%    2019.000000   36702.000000     6.08000     2.800000   150.000000   \n",
       "max    2020.000000  259000.000000    84.01000     6.600000   580.000000   \n",
       "\n",
       "              precio  \n",
       "count    4960.000000  \n",
       "mean    23469.943750  \n",
       "std     16406.714563  \n",
       "min       450.000000  \n",
       "25%     12000.000000  \n",
       "50%     18999.000000  \n",
       "75%     30335.750000  \n",
       "max    145000.000000  "
      ]
     },
     "execution_count": 221,
     "metadata": {},
     "output_type": "execute_result"
    }
   ],
   "source": [
    "descr=data_train.describe()\n",
    "descr"
   ]
  },
  {
   "cell_type": "code",
   "execution_count": 222,
   "metadata": {},
   "outputs": [
    {
     "name": "stdout",
     "output_type": "stream",
     "text": [
      "Con este gráfico podemos ver como se distribuye la variable precio en el conjunto de training podemos ver que la mayoria de los datos sobre la variable precio se encuentran entre el numero 12000.0 y el numero 18999.0 que corresponden al primer y al segundo cuartil respectivamente, podemos ver que el valor maximo es 145000.0 y que el valor minimo es 450.0 los outliers en este caso son: [ 57870  57890  57899  57970  57990  57991  57995  58000  58099  58332\n",
      "  58450  58500  58700  58900  58940  58988  58990  58995  58999  59000\n",
      "  59450  59900  59949  59950  59973  59988  59989  59990  59991  59995\n",
      "  59999  60000  60399  60849  60970  60990  60995  60998  61700  61795\n",
      "  61797  61854  61875  61898  61948  61990  61995  62850  62898  62980\n",
      "  62990  62995  63000  63099  63806  63888  63950  63980  63990  63999\n",
      "  64400  64652  64690  64789  64900  64950  64980  64990  64995  64999\n",
      "  65000  65520  65990  66290  66540  66750  66988  66990  67000  67109\n",
      "  67120  67480  67600  67699  67899  67940  67989  67990  68000  68522\n",
      "  69146  69890  69948  69950  69990  69994  69995  70000  70995  71000\n",
      "  71991  71995  72000  72430  72500  72798  72950  72990  73890  73990\n",
      "  74226  74480  74500  74988  76469  76970  76980  76990  77880  77995\n",
      "  78000  78490  79900  79950  79989  79991  79995  81900  82099  82930\n",
      "  83995  84496  84898  87478  88980  93499  93950  94990  95099  95950\n",
      "  99950 102502 104590 104948 109990 109995 112990 117990 119995 124999\n",
      " 125000 133900 135000 135124 135771 137500 137995 139948 139995 145000]\n",
      "\n"
     ]
    }
   ],
   "source": [
    "array2=detectaroutliers(data_train['precio'])\n",
    "descr=data_train['precio'].describe()\n",
    "#Explicacion\n",
    "print('Con este gráfico podemos ver como se distribuye la variable precio en el conjunto de training podemos ver que la mayoria de los datos sobre la variable ' + 'precio' + ' se encuentran entre el numero '\n",
    "          + str(descr['25%'])+ ' y el numero '+ str(descr['50%'])+' que corresponden al primer y al segundo cuartil respectivamente, podemos ver que el valor maximo es '\n",
    "          +str(descr['max'])+' y que el valor minimo es '+str(descr['min'])+' los outliers en este caso son: '+str(array2)+'\\n')"
   ]
  },
  {
   "attachments": {},
   "cell_type": "markdown",
   "metadata": {},
   "source": [
    "## 2. ¿Cuál es la marca más cara en promedio? ¿Y la más barata?"
   ]
  },
  {
   "cell_type": "code",
   "execution_count": 223,
   "metadata": {},
   "outputs": [
    {
     "data": {
      "text/plain": [
       "marca\n",
       "vauxhall    11884.520147\n",
       "skoda       13858.767059\n",
       "hyundi      14619.753425\n",
       "ford        15927.887728\n",
       "toyota      18837.609865\n",
       "vw          21792.028646\n",
       "merc        30308.413924\n",
       "bmw         37623.815047\n",
       "audi        42330.967930\n",
       "Name: precio, dtype: float64"
      ]
     },
     "execution_count": 223,
     "metadata": {},
     "output_type": "execute_result"
    }
   ],
   "source": [
    "group=data_train.groupby(by=[\"marca\"]).mean()['precio'].sort_values()\n",
    "group"
   ]
  },
  {
   "cell_type": "code",
   "execution_count": 224,
   "metadata": {},
   "outputs": [
    {
     "data": {
      "text/plain": [
       "'audi'"
      ]
     },
     "execution_count": 224,
     "metadata": {},
     "output_type": "execute_result"
    }
   ],
   "source": [
    "group.idxmax() #Devuelve el valor que tiene más índice, en este caso, corresponde con la marca cuyo precio es mayor dado que se encuentra ordenado de manera ascendente"
   ]
  },
  {
   "attachments": {},
   "cell_type": "markdown",
   "metadata": {},
   "source": [
    "Agrupamos los datos por la variable 'marca' y aplicamos la media, solo buscando el precio.\n",
    "Ordenamos los valores en orden ascendente, por lo que, el maximo se encuentra en la fila más abajo (índice más alto ) y el más barato se encuentra en la primera fila (índice más bajo)."
   ]
  },
  {
   "cell_type": "code",
   "execution_count": 225,
   "metadata": {},
   "outputs": [
    {
     "name": "stdout",
     "output_type": "stream",
     "text": [
      "La marca mas barata promedio es: vauxhall y la marca más cara es: audi\n"
     ]
    }
   ],
   "source": [
    "print('La marca mas barata promedio es: '+group.idxmin()+' y la marca más cara es: '+group.idxmax())"
   ]
  },
  {
   "attachments": {},
   "cell_type": "markdown",
   "metadata": {},
   "source": [
    "## 3. Representar gráficamente la dependencia entre el precio y el kilometraje"
   ]
  },
  {
   "cell_type": "code",
   "execution_count": 226,
   "metadata": {},
   "outputs": [
    {
     "data": {
      "text/plain": [
       "fecha         0.501296\n",
       "total_km     -0.478705\n",
       "consumo       0.266942\n",
       "tipo_motor    0.624899\n",
       "tasa          0.144652\n",
       "precio        1.000000\n",
       "Name: precio, dtype: float64"
      ]
     },
     "execution_count": 226,
     "metadata": {},
     "output_type": "execute_result"
    }
   ],
   "source": [
    "data_train.corr()['precio'] #Dependencias de todas las variables con la variable 'precio'"
   ]
  },
  {
   "cell_type": "code",
   "execution_count": 227,
   "metadata": {},
   "outputs": [
    {
     "data": {
      "text/plain": [
       "-0.4787045824340315"
      ]
     },
     "execution_count": 227,
     "metadata": {},
     "output_type": "execute_result"
    }
   ],
   "source": [
    "data_train['precio'].corr(data_train['total_km']) #Dependencias entre la variable precio y kilometraje"
   ]
  },
  {
   "cell_type": "code",
   "execution_count": 228,
   "metadata": {},
   "outputs": [
    {
     "name": "stdout",
     "output_type": "stream",
     "text": [
      "La dependencia entre el precio y el kilometraje es de: -0.4787045824340292\n"
     ]
    }
   ],
   "source": [
    "print('La dependencia entre el precio y el kilometraje es de: '+ str(data_train.corr()['precio'].total_km))"
   ]
  },
  {
   "cell_type": "code",
   "execution_count": 229,
   "metadata": {},
   "outputs": [
    {
     "data": {
      "text/plain": [
       "Text(0.5, 1.0, 'Correlación entre el precio y el kilometraje')"
      ]
     },
     "execution_count": 229,
     "metadata": {},
     "output_type": "execute_result"
    },
    {
     "data": {
      "image/png": "[encoded data removed]",
      "text/plain": [
       "<Figure size 432x288 with 1 Axes>"
      ]
     },
     "metadata": {
      "needs_background": "light"
     },
     "output_type": "display_data"
    }
   ],
   "source": [
    "# plotting the data\n",
    "plt.scatter(data_train['precio'], data_train['total_km'])\n",
    " \n",
    "# This will fit the best line into the graph\n",
    "plt.plot(np.unique(data_train['precio']), np.poly1d(np.polyfit(data_train['precio'], data_train['total_km'], 1))\n",
    "         (np.unique(data_train['precio'])), color='red')\n",
    "plt.xlabel('Precio')\n",
    "plt.ylabel('Total KM')\n",
    "plt.title('Correlación entre el precio y el kilometraje')"
   ]
  },
  {
   "attachments": {},
   "cell_type": "markdown",
   "metadata": {},
   "source": [
    "Podemos ver que se trata de una correlacion negativa del -0.4787045824340292"
   ]
  },
  {
   "attachments": {},
   "cell_type": "markdown",
   "metadata": {},
   "source": [
    "## 4. Calcular las variables más significativas, ya sea mediante un test estadístico o analizando el modelo entrenado."
   ]
  },
  {
   "cell_type": "markdown",
   "metadata": {},
   "source": [
    "Las varibles más significativas son aquellas que tienen un coeficiente de relación más cercano a 1 en valor absoluto con la variable precio."
   ]
  },
  {
   "cell_type": "code",
   "execution_count": 230,
   "metadata": {},
   "outputs": [
    {
     "data": {
      "text/plain": [
       "fecha         0.501296\n",
       "total_km     -0.478705\n",
       "consumo       0.266942\n",
       "tipo_motor    0.624899\n",
       "tasa          0.144652\n",
       "precio        1.000000\n",
       "Name: precio, dtype: float64"
      ]
     },
     "execution_count": 230,
     "metadata": {},
     "output_type": "execute_result"
    }
   ],
   "source": [
    "corr=data_train.corr()['precio']\n",
    "corr"
   ]
  },
  {
   "cell_type": "code",
   "execution_count": 231,
   "metadata": {},
   "outputs": [
    {
     "data": {
      "text/plain": [
       "fecha         0.501296\n",
       "total_km     -0.478705\n",
       "tipo_motor    0.624899\n",
       "precio        1.000000\n",
       "Name: precio, dtype: float64"
      ]
     },
     "execution_count": 231,
     "metadata": {},
     "output_type": "execute_result"
    }
   ],
   "source": [
    "var_sig=corr.loc[abs(corr)>0.4]\n",
    "var_sig"
   ]
  },
  {
   "attachments": {},
   "cell_type": "markdown",
   "metadata": {},
   "source": [
    "No se eliminan las variables menos significativas dado que reducen la precisión del modelo, pero los pasos para su elimiación serían los siguientes:\n",
    "\n",
    "data_train = pd.DataFrame(data_train, columns=var_sig.keys())\n",
    "data_test = pd.DataFrame(data_test, columns=var_sig.keys())"
   ]
  },
  {
   "cell_type": "code",
   "execution_count": 232,
   "metadata": {},
   "outputs": [
    {
     "data": {
      "text/plain": [
       "Index(['marca', 'modelo', 'tipo_cambio', 'tipo_combustible'], dtype='object')"
      ]
     },
     "metadata": {},
     "output_type": "display_data"
    },
    {
     "data": {
      "text/plain": [
       "Index(['marca', 'modelo', 'tipo_cambio', 'tipo_combustible'], dtype='object')"
      ]
     },
     "metadata": {},
     "output_type": "display_data"
    }
   ],
   "source": [
    "#Paso variables categoricas a numéricas\n",
    "label_encoder=preprocessing.LabelEncoder()\n",
    "categorical_columns_train=data_train.select_dtypes(exclude=[\"int64\",\"float64\"]).columns\n",
    "categorical_columns_test=data_test.select_dtypes(exclude=[\"int64\",\"float64\"]).columns\n",
    "display(categorical_columns_train)\n",
    "display(categorical_columns_test)"
   ]
  },
  {
   "cell_type": "code",
   "execution_count": 233,
   "metadata": {},
   "outputs": [
    {
     "name": "stdout",
     "output_type": "stream",
     "text": [
      "<class 'pandas.core.frame.DataFrame'>\n",
      "RangeIndex: 4960 entries, 0 to 4959\n",
      "Data columns (total 10 columns):\n",
      " #   Column            Non-Null Count  Dtype  \n",
      "---  ------            --------------  -----  \n",
      " 0   marca             4960 non-null   int64  \n",
      " 1   modelo            4960 non-null   int64  \n",
      " 2   fecha             4960 non-null   int64  \n",
      " 3   tipo_cambio       4960 non-null   int64  \n",
      " 4   total_km          4960 non-null   int64  \n",
      " 5   tipo_combustible  4960 non-null   int64  \n",
      " 6   consumo           4960 non-null   float64\n",
      " 7   tipo_motor        4960 non-null   float64\n",
      " 8   tasa              4960 non-null   float64\n",
      " 9   precio            4960 non-null   int64  \n",
      "dtypes: float64(3), int64(7)\n",
      "memory usage: 387.6 KB\n"
     ]
    },
    {
     "data": {
      "text/plain": [
       "None"
      ]
     },
     "metadata": {},
     "output_type": "display_data"
    },
    {
     "name": "stdout",
     "output_type": "stream",
     "text": [
      "<class 'pandas.core.frame.DataFrame'>\n",
      "RangeIndex: 2672 entries, 0 to 2671\n",
      "Data columns (total 10 columns):\n",
      " #   Column            Non-Null Count  Dtype  \n",
      "---  ------            --------------  -----  \n",
      " 0   marca             2672 non-null   int64  \n",
      " 1   modelo            2672 non-null   int64  \n",
      " 2   fecha             2672 non-null   int64  \n",
      " 3   tipo_cambio       2672 non-null   int64  \n",
      " 4   total_km          2672 non-null   int64  \n",
      " 5   tipo_combustible  2672 non-null   int64  \n",
      " 6   consumo           2672 non-null   float64\n",
      " 7   tipo_motor        2672 non-null   float64\n",
      " 8   tasa              2672 non-null   float64\n",
      " 9   precio            2672 non-null   int64  \n",
      "dtypes: float64(3), int64(7)\n",
      "memory usage: 208.9 KB\n"
     ]
    },
    {
     "data": {
      "text/plain": [
       "None"
      ]
     },
     "metadata": {},
     "output_type": "display_data"
    },
    {
     "data": {
      "text/html": [
       "<div>\n",
       "<style scoped>\n",
       "    .dataframe tbody tr th:only-of-type {\n",
       "        vertical-align: middle;\n",
       "    }\n",
       "\n",
       "    .dataframe tbody tr th {\n",
       "        vertical-align: top;\n",
       "    }\n",
       "\n",
       "    .dataframe thead th {\n",
       "        text-align: right;\n",
       "    }\n",
       "</style>\n",
       "<table border=\"1\" class=\"dataframe\">\n",
       "  <thead>\n",
       "    <tr style=\"text-align: right;\">\n",
       "      <th></th>\n",
       "      <th>marca</th>\n",
       "      <th>modelo</th>\n",
       "      <th>fecha</th>\n",
       "      <th>tipo_cambio</th>\n",
       "      <th>total_km</th>\n",
       "      <th>tipo_combustible</th>\n",
       "      <th>consumo</th>\n",
       "      <th>tipo_motor</th>\n",
       "      <th>tasa</th>\n",
       "    </tr>\n",
       "  </thead>\n",
       "  <tbody>\n",
       "    <tr>\n",
       "      <th>0</th>\n",
       "      <td>0</td>\n",
       "      <td>3</td>\n",
       "      <td>2020</td>\n",
       "      <td>0</td>\n",
       "      <td>5000</td>\n",
       "      <td>2</td>\n",
       "      <td>5.5</td>\n",
       "      <td>4.0</td>\n",
       "      <td>200.0</td>\n",
       "    </tr>\n",
       "  </tbody>\n",
       "</table>\n",
       "</div>"
      ],
      "text/plain": [
       "   marca  modelo fecha  tipo_cambio  total_km  tipo_combustible  consumo  \\\n",
       "0      0       3  2020            0      5000                 2      5.5   \n",
       "\n",
       "   tipo_motor   tasa  \n",
       "0         4.0  200.0  "
      ]
     },
     "metadata": {},
     "output_type": "display_data"
    }
   ],
   "source": [
    "#Hacemos un fit del encoder con los datos de uno de los datasets y este se aplica en el training, en el test y en el dato para su predicción para que el enconder asigne los mismos valores\n",
    "for i in categorical_columns_train:\n",
    "    label_encoder.fit(data_train[i])\n",
    "    data_train[i]=label_encoder.transform(data_train[i])\n",
    "    data_test[i]=label_encoder.transform(data_test[i])\n",
    "    data_pred[i]=label_encoder.transform(data_pred[i])\n",
    "\n",
    "display(data_train.info())\n",
    "display(data_test.info())\n",
    "display(data_pred)"
   ]
  },
  {
   "cell_type": "markdown",
   "metadata": {},
   "source": [
    "## Creacion de los datos de training y de test"
   ]
  },
  {
   "cell_type": "code",
   "execution_count": 234,
   "metadata": {},
   "outputs": [],
   "source": [
    "#Como ya tenemos los datos separados en 2 datasets de training y de test no es necesario utilizar el 'train_test_split'\n",
    "x_train=data_train.drop([\"precio\"],axis=1)\n",
    "y_train=data_train[\"precio\"]\n",
    "x_test=data_test.drop([\"precio\"],axis=1)\n",
    "y_test=data_test[\"precio\"]\n"
   ]
  },
  {
   "attachments": {},
   "cell_type": "markdown",
   "metadata": {},
   "source": [
    "### Creacion del modelo"
   ]
  },
  {
   "cell_type": "markdown",
   "metadata": {},
   "source": [
    "### Prueba con arbol de clasificación"
   ]
  },
  {
   "cell_type": "code",
   "execution_count": 235,
   "metadata": {},
   "outputs": [],
   "source": [
    "#Vemos el numero maximo de profundidad del arbol para obtener el menor error, se utiliza este método y no el gridSearchCV dado que mediante este método se ha obtenido un modelo con menor error\n",
    "def decissionTreeSearch(x_train,y_train,color):\n",
    "    numero=list(range(1, 101))\n",
    "    error = []\n",
    "    error = list()\n",
    "    for i in range (1,101):\n",
    "        #Definimos el clasificador\n",
    "        arbol=DecisionTreeClassifier(max_depth=i,random_state=5)\n",
    "        #Entrenamos con el clasificador y los datos de entrenamiento\n",
    "        arbol.fit(x_train,y_train)\n",
    "        #Calculamos el error\n",
    "        precision=arbol.score(x_test,y_test)\n",
    "        errorpreci=1-precision\n",
    "        #Guardamos el error en el array\n",
    "        error.append(errorpreci)\n",
    "        #Grafica que muestra la comparacion del error con la profundidad\n",
    "    zmin = np.min(error)\n",
    "    posicion=np.where(min(error) == error)\n",
    "    posicion=np.asarray(posicion)\n",
    "    print('El numero de max depth es: '+str(posicion+1))\n",
    "    print(\"Minimo error es: \"+str(zmin))\n",
    "    plt.figure(figsize=(30,9))\n",
    "    plt.plot(numero, error,color=color)\n",
    "    plt.title('Error Max depth ')\n",
    "    plt.xticks(numero)\n",
    "    plt.xlabel('Max depth')\n",
    "    plt.ylabel('Error')\n",
    "    plt.show()\n",
    "    return posicion+1"
   ]
  },
  {
   "cell_type": "code",
   "execution_count": 236,
   "metadata": {},
   "outputs": [
    {
     "name": "stdout",
     "output_type": "stream",
     "text": [
      "El numero de max depth es: [[28]]\n",
      "Minimo error es: 0.969685628742515\n"
     ]
    },
    {
     "data": {
      "image/png": "[encoded data removed]",
      "text/plain": [
       "<Figure size 2160x648 with 1 Axes>"
      ]
     },
     "metadata": {
      "needs_background": "light"
     },
     "output_type": "display_data"
    }
   ],
   "source": [
    "depth=decissionTreeSearch(x_train, y_train,'red')"
   ]
  },
  {
   "cell_type": "code",
   "execution_count": 237,
   "metadata": {},
   "outputs": [
    {
     "name": "stdout",
     "output_type": "stream",
     "text": [
      "Como se puede ver en la gráfica se obtiene el mínimo error en el arbol cuando este tiene como valor de maxdepth:  [[28]]\n"
     ]
    }
   ],
   "source": [
    "print('Como se puede ver en la gráfica se obtiene el mínimo error en el arbol cuando este tiene como valor de maxdepth: ',depth)"
   ]
  },
  {
   "cell_type": "markdown",
   "metadata": {},
   "source": [
    "### Prueba con arbol de regresión"
   ]
  },
  {
   "cell_type": "code",
   "execution_count": 238,
   "metadata": {},
   "outputs": [],
   "source": [
    "def regressorTreeSearch(x_train,y_train,color):\n",
    "    numero=list(range(1, 101))\n",
    "    error = []\n",
    "    error = list()\n",
    "    \n",
    "    for i in range (1,101):\n",
    "        #Definimos el clasificador\n",
    "        arbol=DecisionTreeRegressor(max_depth=i,random_state=5)\n",
    "        #Entrenamos con el clasificador y los datos de entrenamiento\n",
    "        arbol.fit(x_train,y_train)\n",
    "        #Calculamos el error\n",
    "        precision=arbol.score(x_test,y_test)\n",
    "        errorpreci=1-precision\n",
    "        #Guardamos el error en el array\n",
    "        error.append(errorpreci)\n",
    "        #Grafica que muestra la comparacion del error con la profundidad\n",
    "    zmin = np.min(error)\n",
    "    posicion=np.where(min(error) == error)\n",
    "    posicion=np.asarray(posicion)\n",
    "    print('El numero de max depth es: '+str(posicion+1))\n",
    "    print(\"Minimo error es: \"+str(zmin))\n",
    "    plt.figure(figsize=(30,9))\n",
    "    plt.plot(numero, error,color=color)\n",
    "    plt.title('Error Max depth ')\n",
    "    plt.xticks(numero)\n",
    "    plt.xlabel('Max depth')\n",
    "    plt.ylabel('Error')\n",
    "    plt.show()\n",
    "    return posicion+1"
   ]
  },
  {
   "attachments": {},
   "cell_type": "markdown",
   "metadata": {},
   "source": [
    "Como se puede ver en la grafica el minimo error se obtiene con un depth de 36 y el minimo error seria en este caso de 0.9794161676646707"
   ]
  },
  {
   "cell_type": "code",
   "execution_count": 239,
   "metadata": {},
   "outputs": [
    {
     "name": "stdout",
     "output_type": "stream",
     "text": [
      "El numero de max depth es: [[19]]\n",
      "Minimo error es: 0.06753865857042629\n"
     ]
    },
    {
     "data": {
      "image/png": "[encoded data removed]",
      "text/plain": [
       "<Figure size 2160x648 with 1 Axes>"
      ]
     },
     "metadata": {
      "needs_background": "light"
     },
     "output_type": "display_data"
    }
   ],
   "source": [
    "depth=regressorTreeSearch(x_train, y_train,'red')"
   ]
  },
  {
   "cell_type": "code",
   "execution_count": 240,
   "metadata": {},
   "outputs": [
    {
     "name": "stdout",
     "output_type": "stream",
     "text": [
      "Como se puede ver en la gráfica se obtiene el mínimo error en el arbol cuando este tiene como valor de maxdepth:  [[19]]\n"
     ]
    }
   ],
   "source": [
    "print('Como se puede ver en la gráfica se obtiene el mínimo error en el arbol cuando este tiene como valor de maxdepth: ',depth)"
   ]
  },
  {
   "cell_type": "markdown",
   "metadata": {},
   "source": [
    "Tras comparar estos dos tipos de arboles se escogerá el tipo de arbol con menor error, que en este caso, es el arbor de regresión"
   ]
  },
  {
   "cell_type": "markdown",
   "metadata": {},
   "source": [
    "### Creación del modelo con menor error para la predicción ( último apartado)"
   ]
  },
  {
   "cell_type": "code",
   "execution_count": 241,
   "metadata": {},
   "outputs": [],
   "source": [
    "#Vemos el numero maximo de profundidad del arbol para obtener el menor error\n",
    "#Creacion de las variables donde se guardan tanto el error como el numero de max depth\n",
    "def regressorTreeSearchMSE(x_train,y_train,color,splitter):\n",
    "    numero=list(range(1, 101))\n",
    "    error = []\n",
    "    error = list()\n",
    "    \n",
    "    for i in range (1,101):\n",
    "        #Definimos el clasificador\n",
    "        arbol=DecisionTreeRegressor(max_depth=i,random_state=5, splitter=splitter)\n",
    "        #Entrenamos con el clasificador y los datos de entrenamiento\n",
    "        arbol.fit(x_train,y_train)\n",
    "        #Calculamos el error\n",
    "        precision=arbol.score(x_test,y_test)\n",
    "        errorpreci=1-precision\n",
    "        #Guardamos el error en el array\n",
    "        error.append(errorpreci)\n",
    "        #Grafica que muestra la comparacion del error con la profundidad\n",
    "    zmin = np.min(error)\n",
    "    posicion=np.where(min(error) == error)\n",
    "    posicion=np.asarray(posicion)\n",
    "    print('El numero de max depth es: '+str(posicion+1))\n",
    "    print(\"Minimo error es: \"+str(zmin))\n",
    "    plt.figure(figsize=(30,9))\n",
    "    plt.plot(numero, error,color=color)\n",
    "    plt.title('Error Max depth ')\n",
    "    plt.xticks(numero)\n",
    "    plt.xlabel('Max depth')\n",
    "    plt.ylabel('Error')\n",
    "    plt.show()\n",
    "    return posicion+1"
   ]
  },
  {
   "cell_type": "code",
   "execution_count": 242,
   "metadata": {},
   "outputs": [
    {
     "name": "stdout",
     "output_type": "stream",
     "text": [
      "El numero de max depth es: [[19]]\n",
      "Minimo error es: 0.06753865857042629\n"
     ]
    },
    {
     "data": {
      "image/png": "[encoded data removed]",
      "text/plain": [
       "<Figure size 2160x648 with 1 Axes>"
      ]
     },
     "metadata": {
      "needs_background": "light"
     },
     "output_type": "display_data"
    }
   ],
   "source": [
    "depthbest=regressorTreeSearchMSE(x_train, y_train,'red', 'best')\n"
   ]
  },
  {
   "cell_type": "code",
   "execution_count": 243,
   "metadata": {},
   "outputs": [
    {
     "name": "stdout",
     "output_type": "stream",
     "text": [
      "El numero de max depth es: [[17]]\n",
      "Minimo error es: 0.06428651033661015\n"
     ]
    },
    {
     "data": {
      "image/png": "[encoded data removed]",
      "text/plain": [
       "<Figure size 2160x648 with 1 Axes>"
      ]
     },
     "metadata": {
      "needs_background": "light"
     },
     "output_type": "display_data"
    }
   ],
   "source": [
    "depthrandom=regressorTreeSearchMSE(x_train, y_train,'blue', 'random')"
   ]
  },
  {
   "attachments": {},
   "cell_type": "markdown",
   "metadata": {},
   "source": [
    "Como podemos ver obtenemos el menor error utilizando el splitter 'random'."
   ]
  },
  {
   "cell_type": "code",
   "execution_count": 244,
   "metadata": {},
   "outputs": [
    {
     "name": "stdout",
     "output_type": "stream",
     "text": [
      "El score de este modelo es: 0.9357134896633899\n"
     ]
    }
   ],
   "source": [
    "#Creación del modelo con menor error\n",
    "arbol=DecisionTreeRegressor(random_state=5,max_depth=17, splitter='random')\n",
    "        #Entrenamos con el clasificador y los datos de entrenamiento\n",
    "arbol.fit(x_train,y_train)\n",
    "print(\"El score de este modelo es:\", arbol.score(x_test,y_test))"
   ]
  },
  {
   "cell_type": "code",
   "execution_count": 245,
   "metadata": {},
   "outputs": [
    {
     "name": "stdout",
     "output_type": "stream",
     "text": [
      "{'criterion': 'mse', 'max_depth': 20, 'splitter': 'random'}\n",
      "0.9077899630902142\n",
      "DecisionTreeRegressor(max_depth=20, random_state=42, splitter='random')\n"
     ]
    }
   ],
   "source": [
    "\n",
    "# Grid search\n",
    "from sklearn.model_selection import GridSearchCV\n",
    "\n",
    "grid_parameters = {\n",
    "    'criterion': ['mse', 'friedman_mse'],\n",
    "    'max_depth': list(range(1, 101)),\n",
    "    'splitter':['best', 'random']\n",
    "    }\n",
    "\n",
    "grid = GridSearchCV(DecisionTreeRegressor(random_state=42), param_grid = grid_parameters, cv = 3)\n",
    "\n",
    "# Comenzamos el entrenamiento\n",
    "grid.fit(x_train, y_train)\n",
    "\n",
    "print(grid.best_params_)\n",
    "\n",
    "print(grid.score(x_test,y_test))\n",
    "\n",
    "print(grid.best_estimator_)"
   ]
  },
  {
   "cell_type": "markdown",
   "metadata": {},
   "source": [
    "Como podemos ver se ha obtenido un modelo con una precisión superior a la que nos proporciona GridSearchCV"
   ]
  },
  {
   "cell_type": "code",
   "execution_count": 246,
   "metadata": {},
   "outputs": [
    {
     "name": "stdout",
     "output_type": "stream",
     "text": [
      "El score es: 0.9357134896633899\n"
     ]
    }
   ],
   "source": [
    "arbol=DecisionTreeRegressor(random_state=5,max_depth=17, criterion='mse', splitter='random')\n",
    "        #Entrenamos con el clasificador y los datos de entrenamiento\n",
    "arbol.fit(x_train,y_train)\n",
    "print(\"El score es:\", arbol.score(x_test,y_test))"
   ]
  },
  {
   "cell_type": "markdown",
   "metadata": {},
   "source": [
    "Una vez creado el modelo con la mejor precisión existen técnicas que combinan diferentes modelos, este es el caso, de RandomForestRegressor"
   ]
  },
  {
   "cell_type": "code",
   "execution_count": 247,
   "metadata": {},
   "outputs": [
    {
     "name": "stdout",
     "output_type": "stream",
     "text": [
      "R2 en test: 0.936\n",
      "Random forest\n",
      "R2 en test: 0.949\n"
     ]
    }
   ],
   "source": [
    "from sklearn.tree import DecisionTreeClassifier, DecisionTreeRegressor\n",
    "from sklearn.ensemble import RandomForestRegressor\n",
    "from sklearn.metrics import mean_absolute_error\n",
    "\n",
    "# Craeción del modelo con mayor precisión\n",
    "arbol = DecisionTreeRegressor(random_state=5,max_depth=17, criterion='mse', splitter='random')\n",
    "\n",
    "arbol.fit(x_train, y_train)\n",
    "arbol.score(x_test,y_test)\n",
    "\n",
    "print('R2 en test: %.3f' % arbol.score(x_test,y_test))\n",
    "\n",
    "# Random forest con 10 estimadores\n",
    "randomForest = RandomForestRegressor(n_estimators = 11, random_state = 5)\n",
    "\n",
    "randomForest.fit(x_train, y_train)\n",
    "randomForest.score(x_test,y_test)\n",
    "\n",
    "print('Random forest')\n",
    "print('R2 en test: %.3f' % randomForest.score(x_test,y_test))\n",
    "\n"
   ]
  },
  {
   "cell_type": "markdown",
   "metadata": {},
   "source": [
    "Como hemos podido ver mediante esta tecnica de combinacion de modelos se ha obtenido un resultado superior al que se tenía previamente.\n",
    "Para intentar maximizar los resultados se variará el numero de estimadores del RandomForestRegressor, como se ha realizado previamente con el parametro maxdepth del arbol de regresión"
   ]
  },
  {
   "cell_type": "code",
   "execution_count": 248,
   "metadata": {},
   "outputs": [],
   "source": [
    "def randomForestRegressor(x_train,y_train,color, criterion):\n",
    "    #Creamos los datos con de entrenamiento y el test\n",
    "    #80% para el training 20%para el test\n",
    "    #x_train,x_test,y_train,y_test=train_test_split(x,y,test_size=0.2,random_state=0)\n",
    "    numero=list(range(1, 101))\n",
    "    error = []\n",
    "    error = list()\n",
    "    \n",
    "    for i in range (1,101):\n",
    "        #Definimos el clasificador\n",
    "        arbol=RandomForestRegressor(n_estimators = i, random_state = 5,criterion=criterion)\n",
    "        #Entrenamos con el clasificador y los datos de entrenamiento\n",
    "        arbol.fit(x_train,y_train)\n",
    "        #Calculamos el error\n",
    "        precision=arbol.score(x_test,y_test)\n",
    "        errorpreci=1-precision\n",
    "        #Guardamos el error en el array\n",
    "        error.append(errorpreci)\n",
    "        #Grafica que muestra la comparacion del error con la profundidad\n",
    "    zmin = np.min(error)\n",
    "    posicion=np.where(min(error) == error)\n",
    "    posicion=np.asarray(posicion)\n",
    "    print('El numero de estimadores es: '+str(posicion+1))\n",
    "    print(\"Minimo error es: \"+str(zmin))\n",
    "    plt.figure(figsize=(30,9))\n",
    "    plt.plot(numero, error,color=color)\n",
    "    plt.title('Error estimadores ')\n",
    "    plt.xticks(numero)\n",
    "    plt.xlabel('Estimadores')\n",
    "    plt.ylabel('Error')\n",
    "    plt.show()\n",
    "    return posicion+1"
   ]
  },
  {
   "cell_type": "code",
   "execution_count": 249,
   "metadata": {},
   "outputs": [
    {
     "name": "stdout",
     "output_type": "stream",
     "text": [
      "El numero de estimadores es: [[41]]\n",
      "Minimo error es: 0.04246533442710132\n"
     ]
    },
    {
     "data": {
      "image/png": "[encoded data removed]",
      "text/plain": [
       "<Figure size 2160x648 with 1 Axes>"
      ]
     },
     "metadata": {
      "needs_background": "light"
     },
     "output_type": "display_data"
    }
   ],
   "source": [
    "depth=randomForestRegressor(x_train, y_train,'red','mse')"
   ]
  },
  {
   "cell_type": "code",
   "execution_count": 250,
   "metadata": {},
   "outputs": [
    {
     "name": "stdout",
     "output_type": "stream",
     "text": [
      "El numero de estimadores es: [[41]]\n",
      "Minimo error es: 0.04246533442710132\n"
     ]
    },
    {
     "data": {
      "image/png": "[encoded data removed]",
      "text/plain": [
       "<Figure size 2160x648 with 1 Axes>"
      ]
     },
     "metadata": {
      "needs_background": "light"
     },
     "output_type": "display_data"
    }
   ],
   "source": [
    "depth=randomForestRegressor(x_train, y_train,'blue','friedman_mse')"
   ]
  },
  {
   "cell_type": "markdown",
   "metadata": {},
   "source": [
    "Como se puede ver en las gráficas el mejor modelo se consigue con un número de estimadores de 41 y el parámetro criterion es irrelevante, dado que se obtiene el mismo error en ambas gráficas."
   ]
  },
  {
   "cell_type": "code",
   "execution_count": 251,
   "metadata": {},
   "outputs": [
    {
     "name": "stdout",
     "output_type": "stream",
     "text": [
      "Podemos ver que el modelo tiene un precisión de R2 de : 0.9575346655728987\n"
     ]
    }
   ],
   "source": [
    "#Creación del modelo con la precision más alta\n",
    "arbol=RandomForestRegressor(n_estimators = depth[0][0], random_state = 5, criterion='friedman_mse')\n",
    "arbol.fit(x_train, y_train)\n",
    "arbol.score(x_test, y_test) \n",
    "print('Podemos ver que el modelo tiene un precisión de R2 de :', arbol.score(x_test, y_test))"
   ]
  },
  {
   "cell_type": "markdown",
   "metadata": {},
   "source": [
    "Una vez que se obtiene el modelo optimizado se realiza el último apartado del ejercicio 1."
   ]
  },
  {
   "attachments": {},
   "cell_type": "markdown",
   "metadata": {},
   "source": [
    "## 5. Un amigo quiere vender un audi A7 de 2020 con 5000 km, cambio automático,combustible híbrido, consumo de 5.5 l/100km y motor 4.0. La tasa de circulación es de 200€. ¿A cuánto debería venderlo?\n"
   ]
  },
  {
   "cell_type": "markdown",
   "metadata": {},
   "source": [
    "Todas las transformaciones de este dato se ha realizado a lo largo del ejercicio."
   ]
  },
  {
   "cell_type": "code",
   "execution_count": 252,
   "metadata": {},
   "outputs": [
    {
     "name": "stdout",
     "output_type": "stream",
     "text": [
      "El precio al que se deberia de vender el coche es: 51119.34146341463€\n"
     ]
    }
   ],
   "source": [
    "print('El precio al que se deberia de vender el coche es: '+str(arbol.predict(data_pred)[0])+'€')"
   ]
  },
  {
   "cell_type": "code",
   "execution_count": 253,
   "metadata": {},
   "outputs": [
    {
     "name": "stdout",
     "output_type": "stream",
     "text": [
      "El score del arbol de regresión sin optimizar es: 0.9357134896633899\n"
     ]
    }
   ],
   "source": [
    "arbol=DecisionTreeRegressor(random_state=5,max_depth=17, criterion='mse', splitter='random')\n",
    "        #Entrenamos con el clasificador y los datos de entrenamiento\n",
    "arbol.fit(x_train,y_train)\n",
    "print(\"El score del arbol de regresión sin optimizar es:\", arbol.score(x_test,y_test))"
   ]
  },
  {
   "cell_type": "code",
   "execution_count": 254,
   "metadata": {},
   "outputs": [
    {
     "name": "stdout",
     "output_type": "stream",
     "text": [
      "En el caso de querer utilizar el arbol sin técnicas de optimización el precio al que tendria que vender el coche , sería: 65000.0€\n"
     ]
    }
   ],
   "source": [
    "print('En el caso de querer utilizar el arbol sin técnicas de optimización el precio al que tendria que vender el coche , sería: '+str(arbol.predict(data_pred)[0])+'€')"
   ]
  },
  {
   "attachments": {},
   "cell_type": "markdown",
   "metadata": {},
   "source": [
    "Como podemos ver no hay mucha diferencia entre el precio que nos indican los dos modelos para la venta de los productos dado que no varía mucha la precisión entre ambos modelos."
   ]
  },
  {
   "cell_type": "markdown",
   "metadata": {},
   "source": [
    "# Referencias\n",
    "* Apuntes de clase\n",
    "* Ejercicios de clase\n",
    "* Apuntes de la carrera\n",
    "* Ejercicios de la carrera\n",
    "* Librería de sklearn:\n",
    "https://scikit-learn.org/stable/\n",
    "* Librería de pandas:\n",
    "https://pandas.pydata.org/docs/\n",
    "* Librería de matplotlib:\n",
    "https://matplotlib.org/stable/gallery/index.html"
   ]
  }
 ],
 "metadata": {
  "kernelspec": {
   "display_name": "base",
   "language": "python",
   "name": "python3"
  },
  "language_info": {
   "codemirror_mode": {
    "name": "ipython",
    "version": 3
   },
   "file_extension": ".py",
   "mimetype": "text/x-python",
   "name": "python",
   "nbconvert_exporter": "python",
   "pygments_lexer": "ipython3",
   "version": "3.8.5"
  },
  "vscode": {
   "interpreter": {
    "hash": "2047fc00103dd2c3181a1ffec1f2a2a42f29aab23d443a58187a1b2bd084c010"
   }
  }
 },
 "nbformat": 4,
 "nbformat_minor": 4
}
